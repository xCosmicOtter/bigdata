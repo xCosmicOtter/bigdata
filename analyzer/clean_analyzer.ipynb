{
 "cells": [
  {
   "cell_type": "code",
   "execution_count": 1,
   "metadata": {},
   "outputs": [
    {
     "name": "stdout",
     "output_type": "stream",
     "text": [
      "Logs of timescaledb_model go to /tmp/bourse.log\n"
     ]
    },
    {
     "data": {
      "text/html": [
       "<style>\n",
       ".output {\n",
       "    flex-direction: row;\n",
       "}\n",
       "</style>"
      ],
      "text/plain": [
       "<IPython.core.display.HTML object>"
      ]
     },
     "execution_count": 1,
     "metadata": {},
     "output_type": "execute_result"
    }
   ],
   "source": [
    "# IMPORT LIBS\n",
    "import pandas as pd\n",
    "import numpy as np\n",
    "import time\n",
    "import os\n",
    "from glob import glob\n",
    "from datetime import datetime\n",
    "from logzero import logger\n",
    "from IPython.display import display, HTML\n",
    "import matplotlib.pyplot as plt\n",
    "from tqdm import tqdm\n",
    "from collections import defaultdict\n",
    "\n",
    "import timescaledb_model as tsdb\n",
    "db = tsdb.TimescaleStockMarketModel('bourse', 'ricou', 'localhost', 'monmdp')\n",
    "\n",
    "%matplotlib inline\n",
    "%config InlineBackend.figure_format = 'retina'\n",
    "\n",
    "CSS = \"\"\"\n",
    ".output {\n",
    "    flex-direction: row;\n",
    "}\n",
    "\"\"\"\n",
    "HTML('<style>{}</style>'.format(CSS))"
   ]
  },
  {
   "cell_type": "code",
   "execution_count": 2,
   "metadata": {},
   "outputs": [],
   "source": [
    "def parse_filename(filename):\n",
    "    return datetime.strptime(filename[-30:-4], \"%Y-%m-%d %H:%M:%S.%f\")\n",
    "\n",
    "def erase_c(df: pd.DataFrame):\n",
    "    df['last'] = df['last'].astype(str)\n",
    "    df['last'] = df['last'].str.replace('(c)', '')\n",
    "    df['last'] = df['last'].str.replace('(s)', '')\n",
    "    df['last'] = df['last'].str.replace(' ', '')\n",
    "    df['last'] = df['last'].astype(float)\n",
    "    return df\n",
    "\n",
    "def custom_sort_key(file_path: str):\n",
    "    return file_path[-22:-4]"
   ]
  },
  {
   "cell_type": "code",
   "execution_count": 3,
   "metadata": {},
   "outputs": [],
   "source": [
    "def get_market_id(market_name: str) -> int:\n",
    "    get_id = db.raw_query(f\"SELECT id FROM markets WHERE alias = '{market_name}'\")\n",
    "    return int(get_id[0][0]) if len(get_id) != 0 else None\n",
    "\n",
    "def get_companies_id():\n",
    "    return db.df_query('SELECT id, symbol FROM companies', chunksize=None)"
   ]
  },
  {
   "cell_type": "code",
   "execution_count": 4,
   "metadata": {},
   "outputs": [],
   "source": [
    "companies_dict = defaultdict(set)\n",
    "\n",
    "def compute_companies(df, stock_name, market_id, market_name):\n",
    "    companies_df = df[['name','symbol']].copy().drop_duplicates()\n",
    "    companies_df.reset_index(drop=True, inplace=True)\n",
    "    companies_df['mid'] = market_id\n",
    "\n",
    "    companies_df['pea'] = market_name == \"peapme\"\n",
    "    companies_df['boursorama'] = stock_name == \"boursorama\"\n",
    "    companies_df.loc[:, [\"symbol_nf\", \"isin\", \"reuters\", \"sector\"]] = None\n",
    "\n",
    "    grouped = set(zip(companies_df[\"symbol\"], companies_df[\"name\"]))\n",
    "\n",
    "    if market_name == \"peapme\":\n",
    "        keys = \"('\" + \"', '\".join([symbol for symbol, _ in grouped]) + \"')\"\n",
    "        db.execute(f\"UPDATE companies SET pea = True WHERE symbol in {keys};\")\n",
    "\n",
    "    before_filter = len(companies_df.symbol)\n",
    "\n",
    "    # Create the filter\n",
    "    filter_list = []\n",
    "    for symbol, name in grouped:\n",
    "        if symbol in companies_dict:\n",
    "            filter_list.append((symbol, name))\n",
    "\n",
    "        companies_dict[symbol].add(name)\n",
    "\n",
    "    # Applying the filter\n",
    "    companies_df[\"tmp_filter\"] = list(zip(companies_df[\"symbol\"], companies_df[\"name\"]))\n",
    "    companies_df = companies_df[~companies_df[\"tmp_filter\"].isin(filter_list)]\n",
    "    companies_df.drop(columns=[\"tmp_filter\"], inplace=True)\n",
    "\n",
    "    # Write inside table\n",
    "    logger.debug(f\"before: {before_filter} && after: {len(companies_df.symbol)} applying filter\")\n",
    "    db.df_write(companies_df, \"companies\", commit=True, index=False)\n",
    "\n",
    "def compute_stocks(df, compagnies_df): # GOOD A PRIORI\n",
    "    stock_df = df[['symbol', 'last', 'volume']].copy().drop_duplicates()\n",
    "    stock_df.reset_index(names='date', inplace=True)\n",
    "\n",
    "    stock_df = stock_df.merge(compagnies_df, left_on='symbol', right_on='symbol', how='left')\n",
    "    stock_df.drop(columns=['symbol'], inplace=True)\n",
    "    stock_df.rename(columns={'last': 'value', 'id': 'cid'}, inplace=True)\n",
    "    stock_df['cid'] = stock_df['cid'].fillna(0)\n",
    "\n",
    "    # Write inside table\n",
    "    db.df_write(stock_df, 'stocks', commit=True, index=False)\n",
    "\n",
    "def compute_daystocks(df, compagnies_df): #TODO: Drop duplicate??\n",
    "    daystocks_df = df.copy()\n",
    "\n",
    "    # Convert the index to datetime if it's not already in datetime format\n",
    "    daystocks_df.reset_index(names=\"timestamp\", inplace=True)\n",
    "\n",
    "    # Group by 'name' column\n",
    "    grouped = daystocks_df.groupby(['symbol', daystocks_df['timestamp'].dt.date])\n",
    "\n",
    "    # Apply aggregations\n",
    "    daystocks_df = grouped.agg({\n",
    "        'last': ['last', 'first', \"min\", \"max\"],\n",
    "        'volume': \"first\",\n",
    "    })\n",
    "    daystocks_df.reset_index(inplace=True)\n",
    "\n",
    "    # Rename columns for better clarity\n",
    "    daystocks_df.columns = ['symbol', 'date', 'open', 'close', 'low', 'high', 'volume']\n",
    "\n",
    "    daystocks_df = daystocks_df.merge(compagnies_df, left_on='symbol', right_on='symbol', how='left')\n",
    "    daystocks_df.drop(columns=['symbol'], inplace=True)\n",
    "    daystocks_df.rename(columns={'id': 'cid'}, inplace=True)\n",
    "    daystocks_df['cid'] = daystocks_df['cid'].fillna(0)\n",
    "\n",
    "    # Write inside table\n",
    "    db.df_write(daystocks_df, \"daystocks\", commit=True, index=False)"
   ]
  },
  {
   "cell_type": "code",
   "execution_count": 5,
   "metadata": {},
   "outputs": [],
   "source": [
    "def store_file(files, website, market_name, market_id):\n",
    "    if website.lower() != \"boursorama\":\n",
    "        return\n",
    "\n",
    "    data = {}\n",
    "    start = time.time()\n",
    "    for filename in files:\n",
    "        #if db.is_file_done(filename): # Useless for now\n",
    "        #    continue\n",
    "\n",
    "        # Add in final fidctionary\n",
    "        data[parse_filename(filename)] = pd.read_pickle(filename)\n",
    "    logger.debug(\"END read files\", time.time() - start)\n",
    "\n",
    "    # CONCAT FINAL DATA\n",
    "    start = time.time()\n",
    "    df = pd.concat(data).reset_index(level=1, drop=True)\n",
    "    logger.debug(\"END concat files\", time.time() - start)\n",
    "    #display(df)\n",
    "\n",
    "    # CLEAN DATA\n",
    "    df.drop_duplicates(inplace=True)\n",
    "    df.index = pd.to_datetime(df.index)\n",
    "    erase_c(df)\n",
    "    overflow_mask = df['volume'] > 2147483647\n",
    "    df.loc[overflow_mask, 'volume'] = np.iinfo(np.int32).max\n",
    "\n",
    "    start = time.time()\n",
    "    compute_companies(df, website, market_id, market_name)\n",
    "    logger.debug(\"END compute_companies\", time.time() - start)\n",
    "\n",
    "    start = time.time()\n",
    "    compagnies_df = get_companies_id()\n",
    "    #display(compagnies_df)\n",
    "    logger.debug(\"END get_companies_id\", time.time() - start)\n",
    "\n",
    "    start = time.time()\n",
    "    compute_stocks(df, compagnies_df)\n",
    "    logger.debug(\"END compute_stocks\", time.time() - start)\n",
    "\n",
    "    start = time.time()\n",
    "    compute_daystocks(df, compagnies_df)\n",
    "    logger.debug(\"END compute_daystocks\", time.time() - start)\n",
    "\n",
    "    # Write the files as processed\n",
    "    start = time.time()\n",
    "    files_df = pd.DataFrame({'name': files})\n",
    "    #display(files_df)\n",
    "    db.df_write(files_df,\"file_done\",index=False)\n",
    "    logger.debug(\"END file_done\", time.time() - start)\n"
   ]
  },
  {
   "cell_type": "code",
   "execution_count": 6,
   "metadata": {},
   "outputs": [
    {
     "name": "stderr",
     "output_type": "stream",
     "text": [
      "[D 240331 22:58:32 2419859425:7] Work in progress...\n",
      "[D 240331 22:58:32 2419859425:33] Loading amsterdam (2023) data for boursorama.\n",
      "  0%|          | 0/12 [00:00<?, ?it/s]"
     ]
    },
    {
     "name": "stdout",
     "output_type": "stream",
     "text": [
      "END read files 23.817959308624268\n",
      "END concat files 1.3170194625854492\n"
     ]
    },
    {
     "name": "stderr",
     "output_type": "stream",
     "text": [
      "[D 240331 22:58:58 1716370485:35] before: 4375 && after: 4355 applying filter\n"
     ]
    },
    {
     "name": "stdout",
     "output_type": "stream",
     "text": [
      "END compute_companies 0.653350830078125\n",
      "END get_companies_id 0.007628917694091797\n",
      "END compute_stocks 26.04205060005188\n"
     ]
    },
    {
     "name": "stderr",
     "output_type": "stream",
     "text": [
      "  8%|▊         | 1/12 [01:01<11:14, 61.27s/it]"
     ]
    },
    {
     "name": "stdout",
     "output_type": "stream",
     "text": [
      "END compute_daystocks 7.850908517837524\n",
      "END file_done 0.02924346923828125\n",
      "END read files 13.424300909042358\n",
      "END concat files 0.8432819843292236\n"
     ]
    },
    {
     "name": "stderr",
     "output_type": "stream",
     "text": [
      "[D 240331 22:59:48 1716370485:35] before: 4420 && after: 63 applying filter\n"
     ]
    },
    {
     "name": "stdout",
     "output_type": "stream",
     "text": [
      "END compute_companies 0.11305737495422363\n",
      "END get_companies_id 0.007795572280883789\n",
      "END compute_stocks 16.085662603378296\n",
      "END compute_daystocks 4.280639886856079\n",
      "END file_done 0.08081388473510742\n"
     ]
    },
    {
     "name": "stderr",
     "output_type": "stream",
     "text": [
      " 17%|█▋        | 2/12 [01:37<07:43, 46.31s/it]"
     ]
    },
    {
     "name": "stdout",
     "output_type": "stream",
     "text": [
      "END read files 24.553128480911255\n",
      "END concat files 1.4663443565368652\n"
     ]
    },
    {
     "name": "stderr",
     "output_type": "stream",
     "text": [
      "[D 240331 23:00:37 1716370485:35] before: 4434 && after: 61 applying filter\n"
     ]
    },
    {
     "name": "stdout",
     "output_type": "stream",
     "text": [
      "END compute_companies 0.27305054664611816\n",
      "END get_companies_id 0.006932735443115234\n",
      "END compute_stocks 25.629865407943726\n",
      "END compute_daystocks 8.548503637313843\n",
      "END file_done 0.03526115417480469\n"
     ]
    },
    {
     "name": "stderr",
     "output_type": "stream",
     "text": [
      " 25%|██▌       | 3/12 [02:39<08:02, 53.62s/it]"
     ]
    },
    {
     "name": "stdout",
     "output_type": "stream",
     "text": [
      "END read files 23.219176292419434\n",
      "END concat files 1.4403014183044434\n"
     ]
    },
    {
     "name": "stderr",
     "output_type": "stream",
     "text": [
      "[D 240331 23:01:38 1716370485:35] before: 4458 && after: 50 applying filter\n"
     ]
    },
    {
     "name": "stdout",
     "output_type": "stream",
     "text": [
      "END compute_companies 0.18044638633728027\n",
      "END get_companies_id 0.006554841995239258\n",
      "END compute_stocks 22.92546033859253\n",
      "END compute_daystocks 7.358656883239746\n",
      "END file_done 0.02415013313293457\n"
     ]
    },
    {
     "name": "stderr",
     "output_type": "stream",
     "text": [
      " 33%|███▎      | 4/12 [03:36<07:19, 54.94s/it]"
     ]
    },
    {
     "name": "stdout",
     "output_type": "stream",
     "text": [
      "END read files 24.076879262924194\n",
      "END concat files 1.510502576828003\n"
     ]
    },
    {
     "name": "stderr",
     "output_type": "stream",
     "text": [
      "[D 240331 23:02:36 1716370485:35] before: 4479 && after: 57 applying filter\n"
     ]
    },
    {
     "name": "stdout",
     "output_type": "stream",
     "text": [
      "END compute_companies 0.1986522674560547\n",
      "END get_companies_id 0.006614208221435547\n",
      "END compute_stocks 25.340381145477295\n",
      "END compute_daystocks 8.372822284698486\n",
      "END file_done 0.02827739715576172\n"
     ]
    },
    {
     "name": "stderr",
     "output_type": "stream",
     "text": [
      " 42%|████▏     | 5/12 [04:37<06:40, 57.27s/it]"
     ]
    },
    {
     "name": "stdout",
     "output_type": "stream",
     "text": [
      "END read files 4.815037250518799\n",
      "END concat files 1.4794514179229736\n"
     ]
    },
    {
     "name": "stderr",
     "output_type": "stream",
     "text": [
      "[D 240331 23:03:18 1716370485:35] before: 4498 && after: 65 applying filter\n"
     ]
    },
    {
     "name": "stdout",
     "output_type": "stream",
     "text": [
      "END compute_companies 0.1811366081237793\n",
      "END get_companies_id 0.007097721099853516\n",
      "END compute_stocks 23.27877950668335\n",
      "END compute_daystocks 7.758632183074951\n",
      "END file_done 0.026660442352294922\n"
     ]
    },
    {
     "name": "stderr",
     "output_type": "stream",
     "text": [
      " 50%|█████     | 6/12 [05:17<05:07, 51.19s/it]"
     ]
    },
    {
     "name": "stdout",
     "output_type": "stream",
     "text": [
      "END read files 5.348066568374634\n",
      "END concat files 1.591334342956543\n"
     ]
    },
    {
     "name": "stderr",
     "output_type": "stream",
     "text": [
      "[D 240331 23:03:58 1716370485:35] before: 4525 && after: 53 applying filter\n"
     ]
    },
    {
     "name": "stdout",
     "output_type": "stream",
     "text": [
      "END compute_companies 0.1965017318725586\n",
      "END get_companies_id 0.007653713226318359\n",
      "END compute_stocks 25.19807481765747\n",
      "END compute_daystocks 7.824416160583496\n",
      "END file_done 0.025926589965820312\n"
     ]
    },
    {
     "name": "stderr",
     "output_type": "stream",
     "text": [
      " 58%|█████▊    | 7/12 [05:59<04:01, 48.25s/it]"
     ]
    },
    {
     "name": "stdout",
     "output_type": "stream",
     "text": [
      "END read files 5.674865961074829\n",
      "END concat files 1.7219834327697754\n"
     ]
    },
    {
     "name": "stderr",
     "output_type": "stream",
     "text": [
      "[D 240331 23:04:41 1716370485:35] before: 4567 && after: 60 applying filter\n"
     ]
    },
    {
     "name": "stdout",
     "output_type": "stream",
     "text": [
      "END compute_companies 0.21326947212219238\n",
      "END get_companies_id 0.008162498474121094\n",
      "END compute_stocks 25.47796320915222\n",
      "END compute_daystocks 8.314260959625244\n",
      "END file_done 0.09679627418518066\n"
     ]
    },
    {
     "name": "stderr",
     "output_type": "stream",
     "text": [
      " 67%|██████▋   | 8/12 [06:42<03:07, 46.77s/it]"
     ]
    },
    {
     "name": "stdout",
     "output_type": "stream",
     "text": [
      "END read files 4.837651491165161\n",
      "END concat files 1.51585054397583\n"
     ]
    },
    {
     "name": "stderr",
     "output_type": "stream",
     "text": [
      "[D 240331 23:05:23 1716370485:35] before: 4621 && after: 92 applying filter\n"
     ]
    },
    {
     "name": "stdout",
     "output_type": "stream",
     "text": [
      "END compute_companies 0.1871662139892578\n",
      "END get_companies_id 0.08124089241027832\n",
      "END compute_stocks 23.18289041519165\n",
      "END compute_daystocks 7.111217737197876\n",
      "END file_done 0.023609399795532227\n"
     ]
    },
    {
     "name": "stderr",
     "output_type": "stream",
     "text": [
      " 75%|███████▌  | 9/12 [07:21<02:12, 44.25s/it]"
     ]
    },
    {
     "name": "stdout",
     "output_type": "stream",
     "text": [
      "END read files 5.7486732006073\n",
      "END concat files 1.8070318698883057\n"
     ]
    },
    {
     "name": "stderr",
     "output_type": "stream",
     "text": [
      "[D 240331 23:06:03 1716370485:35] before: 4673 && after: 61 applying filter\n"
     ]
    },
    {
     "name": "stdout",
     "output_type": "stream",
     "text": [
      "END compute_companies 0.25086498260498047\n",
      "END get_companies_id 0.007388114929199219\n",
      "END compute_stocks 31.858624935150146\n",
      "END compute_daystocks 8.805063247680664\n",
      "END file_done 0.09699583053588867\n"
     ]
    },
    {
     "name": "stderr",
     "output_type": "stream",
     "text": [
      " 83%|████████▎ | 10/12 [08:12<01:32, 46.29s/it]"
     ]
    },
    {
     "name": "stdout",
     "output_type": "stream",
     "text": [
      "END read files 2.837170362472534\n",
      "END concat files 0.8934726715087891\n"
     ]
    },
    {
     "name": "stderr",
     "output_type": "stream",
     "text": [
      "[D 240331 23:06:49 1716370485:35] before: 4652 && after: 65 applying filter\n"
     ]
    },
    {
     "name": "stdout",
     "output_type": "stream",
     "text": [
      "END compute_companies 0.13351225852966309\n",
      "END get_companies_id 0.00732421875\n",
      "END compute_stocks 15.534327030181885\n"
     ]
    },
    {
     "name": "stderr",
     "output_type": "stream",
     "text": [
      " 92%|█████████▏| 11/12 [08:37<00:39, 39.75s/it]"
     ]
    },
    {
     "name": "stdout",
     "output_type": "stream",
     "text": [
      "END compute_daystocks 4.259030342102051\n",
      "END file_done 0.01638650894165039\n",
      "END read files 5.7639360427856445\n",
      "END concat files 1.704824447631836\n"
     ]
    },
    {
     "name": "stderr",
     "output_type": "stream",
     "text": [
      "[D 240331 23:07:19 1716370485:35] before: 4807 && after: 157 applying filter\n"
     ]
    },
    {
     "name": "stdout",
     "output_type": "stream",
     "text": [
      "END compute_companies 0.21585965156555176\n",
      "END get_companies_id 0.07887387275695801\n",
      "END compute_stocks 26.786322593688965\n",
      "END compute_daystocks 7.846832036972046\n",
      "END file_done 0.0266265869140625\n"
     ]
    },
    {
     "name": "stderr",
     "output_type": "stream",
     "text": [
      "100%|██████████| 12/12 [09:21<00:00, 46.83s/it]\n",
      "[D 240331 23:07:54 2419859425:43] Processing complete for amsterdam data in 2023 in 561.922 seconds.\n",
      "[D 240331 23:07:54 2419859425:33] Loading compA (2023) data for boursorama.\n",
      "  0%|          | 0/12 [00:00<?, ?it/s]"
     ]
    },
    {
     "name": "stdout",
     "output_type": "stream",
     "text": [
      "END read files 2.5787734985351562\n",
      "END concat files 0.1573619842529297\n"
     ]
    },
    {
     "name": "stderr",
     "output_type": "stream",
     "text": [
      "[D 240331 23:07:57 1716370485:35] before: 346 && after: 346 applying filter\n"
     ]
    },
    {
     "name": "stdout",
     "output_type": "stream",
     "text": [
      "END compute_companies 0.08898591995239258\n",
      "END get_companies_id 0.007776737213134766\n",
      "END compute_stocks 6.640386343002319\n"
     ]
    },
    {
     "name": "stderr",
     "output_type": "stream",
     "text": [
      "  8%|▊         | 1/12 [00:10<01:52, 10.19s/it]"
     ]
    },
    {
     "name": "stdout",
     "output_type": "stream",
     "text": [
      "END compute_daystocks 0.39585018157958984\n",
      "END file_done 0.026394367218017578\n",
      "END read files 1.507495641708374\n",
      "END concat files 0.16985440254211426\n"
     ]
    },
    {
     "name": "stderr",
     "output_type": "stream",
     "text": [
      "[D 240331 23:08:06 1716370485:35] before: 350 && after: 3 applying filter\n"
     ]
    },
    {
     "name": "stdout",
     "output_type": "stream",
     "text": [
      "END compute_companies 0.041741371154785156\n",
      "END get_companies_id 0.008571624755859375\n",
      "END compute_stocks 4.2484965324401855\n"
     ]
    },
    {
     "name": "stderr",
     "output_type": "stream",
     "text": [
      " 17%|█▋        | 2/12 [00:16<01:20,  8.01s/it]"
     ]
    },
    {
     "name": "stdout",
     "output_type": "stream",
     "text": [
      "END compute_daystocks 0.28031086921691895\n",
      "END file_done 0.018225669860839844\n",
      "END read files 2.7955987453460693\n",
      "END concat files 0.24597477912902832\n"
     ]
    },
    {
     "name": "stderr",
     "output_type": "stream",
     "text": [
      "[D 240331 23:08:14 1716370485:35] before: 351 && after: 1 applying filter\n"
     ]
    },
    {
     "name": "stdout",
     "output_type": "stream",
     "text": [
      "END compute_companies 0.06153368949890137\n",
      "END get_companies_id 0.01067972183227539\n",
      "END compute_stocks 7.923616170883179\n"
     ]
    },
    {
     "name": "stderr",
     "output_type": "stream",
     "text": [
      " 25%|██▌       | 3/12 [00:28<01:27,  9.75s/it]"
     ]
    },
    {
     "name": "stdout",
     "output_type": "stream",
     "text": [
      "END compute_daystocks 0.4257643222808838\n",
      "END file_done 0.02927708625793457\n",
      "END read files 2.557304859161377\n",
      "END concat files 0.24880313873291016\n"
     ]
    },
    {
     "name": "stderr",
     "output_type": "stream",
     "text": [
      "[D 240331 23:08:25 1716370485:35] before: 347 && after: 0 applying filter\n"
     ]
    },
    {
     "name": "stdout",
     "output_type": "stream",
     "text": [
      "END compute_companies 0.05571436882019043\n",
      "END get_companies_id 0.008780479431152344\n",
      "END compute_stocks 7.212614059448242\n"
     ]
    },
    {
     "name": "stderr",
     "output_type": "stream",
     "text": [
      " 33%|███▎      | 4/12 [00:39<01:21, 10.18s/it]"
     ]
    },
    {
     "name": "stdout",
     "output_type": "stream",
     "text": [
      "END compute_daystocks 0.40163350105285645\n",
      "END file_done 0.024683713912963867\n",
      "END read files 2.693148374557495\n",
      "END concat files 0.25578951835632324\n"
     ]
    },
    {
     "name": "stderr",
     "output_type": "stream",
     "text": [
      "[D 240331 23:08:36 1716370485:35] before: 349 && after: 2 applying filter\n"
     ]
    },
    {
     "name": "stdout",
     "output_type": "stream",
     "text": [
      "END compute_companies 0.06432652473449707\n",
      "END get_companies_id 0.0076639652252197266\n",
      "END compute_stocks 7.580805063247681\n"
     ]
    },
    {
     "name": "stderr",
     "output_type": "stream",
     "text": [
      " 42%|████▏     | 5/12 [00:50<01:14, 10.62s/it]"
     ]
    },
    {
     "name": "stdout",
     "output_type": "stream",
     "text": [
      "END compute_daystocks 0.4270050525665283\n",
      "END file_done 0.024974584579467773\n",
      "END read files 0.843998908996582\n",
      "END concat files 0.1800673007965088\n"
     ]
    },
    {
     "name": "stderr",
     "output_type": "stream",
     "text": [
      "[D 240331 23:08:46 1716370485:35] before: 347 && after: 1 applying filter\n"
     ]
    },
    {
     "name": "stdout",
     "output_type": "stream",
     "text": [
      "END compute_companies 0.058435678482055664\n",
      "END get_companies_id 0.08189535140991211\n",
      "END compute_stocks 7.009208917617798\n"
     ]
    },
    {
     "name": "stderr",
     "output_type": "stream",
     "text": [
      " 50%|█████     | 6/12 [00:59<01:00, 10.04s/it]"
     ]
    },
    {
     "name": "stdout",
     "output_type": "stream",
     "text": [
      "END compute_daystocks 0.40100765228271484\n",
      "END file_done 0.024431943893432617\n",
      "END read files 1.0311219692230225\n",
      "END concat files 0.19863033294677734\n"
     ]
    },
    {
     "name": "stderr",
     "output_type": "stream",
     "text": [
      "[D 240331 23:08:55 1716370485:35] before: 352 && after: 4 applying filter\n"
     ]
    },
    {
     "name": "stdout",
     "output_type": "stream",
     "text": [
      "END compute_companies 0.06642889976501465\n",
      "END get_companies_id 0.007429838180541992\n",
      "END compute_stocks 7.795300006866455\n"
     ]
    },
    {
     "name": "stderr",
     "output_type": "stream",
     "text": [
      " 58%|█████▊    | 7/12 [01:09<00:49,  9.97s/it]"
     ]
    },
    {
     "name": "stdout",
     "output_type": "stream",
     "text": [
      "END compute_daystocks 0.34732675552368164\n",
      "END file_done 0.028564453125\n",
      "END read files 1.0273756980895996\n",
      "END concat files 0.2128748893737793\n"
     ]
    },
    {
     "name": "stderr",
     "output_type": "stream",
     "text": [
      "[D 240331 23:09:05 1716370485:35] before: 350 && after: 2 applying filter\n"
     ]
    },
    {
     "name": "stdout",
     "output_type": "stream",
     "text": [
      "END compute_companies 0.06263899803161621\n",
      "END get_companies_id 0.011385202407836914\n",
      "END compute_stocks 7.588707447052002\n"
     ]
    },
    {
     "name": "stderr",
     "output_type": "stream",
     "text": [
      " 67%|██████▋   | 8/12 [01:19<00:39,  9.89s/it]"
     ]
    },
    {
     "name": "stdout",
     "output_type": "stream",
     "text": [
      "END compute_daystocks 0.4339604377746582\n",
      "END file_done 0.02510523796081543\n",
      "END read files 0.8955457210540771\n",
      "END concat files 0.17554831504821777\n"
     ]
    },
    {
     "name": "stderr",
     "output_type": "stream",
     "text": [
      "[D 240331 23:09:14 1716370485:35] before: 390 && after: 10 applying filter\n"
     ]
    },
    {
     "name": "stdout",
     "output_type": "stream",
     "text": [
      "END compute_companies 0.05784916877746582\n",
      "END get_companies_id 0.007965564727783203\n",
      "END compute_stocks 6.333601713180542\n"
     ]
    },
    {
     "name": "stderr",
     "output_type": "stream",
     "text": [
      " 75%|███████▌  | 9/12 [01:27<00:28,  9.34s/it]"
     ]
    },
    {
     "name": "stdout",
     "output_type": "stream",
     "text": [
      "END compute_daystocks 0.31678271293640137\n",
      "END file_done 0.025186777114868164\n",
      "END read files 1.0104012489318848\n",
      "END concat files 0.20813608169555664\n"
     ]
    },
    {
     "name": "stderr",
     "output_type": "stream",
     "text": [
      "[D 240331 23:09:23 1716370485:35] before: 347 && after: 1 applying filter\n"
     ]
    },
    {
     "name": "stdout",
     "output_type": "stream",
     "text": [
      "END compute_companies 0.06302881240844727\n",
      "END get_companies_id 0.011094093322753906\n",
      "END compute_stocks 8.087374448776245\n"
     ]
    },
    {
     "name": "stderr",
     "output_type": "stream",
     "text": [
      " 83%|████████▎ | 10/12 [01:37<00:19,  9.61s/it]"
     ]
    },
    {
     "name": "stdout",
     "output_type": "stream",
     "text": [
      "END compute_daystocks 0.44652700424194336\n",
      "END file_done 0.028130531311035156\n",
      "END read files 0.5210902690887451\n",
      "END concat files 0.10271191596984863\n"
     ]
    },
    {
     "name": "stderr",
     "output_type": "stream",
     "text": [
      "[D 240331 23:09:32 1716370485:35] before: 349 && after: 2 applying filter\n"
     ]
    },
    {
     "name": "stdout",
     "output_type": "stream",
     "text": [
      "END compute_companies 0.03560519218444824\n",
      "END get_companies_id 0.009274959564208984\n",
      "END compute_stocks 4.3251752853393555\n"
     ]
    },
    {
     "name": "stderr",
     "output_type": "stream",
     "text": [
      " 92%|█████████▏| 11/12 [01:43<00:08,  8.35s/it]"
     ]
    },
    {
     "name": "stdout",
     "output_type": "stream",
     "text": [
      "END compute_daystocks 0.2588005065917969\n",
      "END file_done 0.02116703987121582\n",
      "END read files 1.0426058769226074\n",
      "END concat files 0.19807839393615723\n"
     ]
    },
    {
     "name": "stderr",
     "output_type": "stream",
     "text": [
      "[D 240331 23:09:38 1716370485:35] before: 364 && after: 15 applying filter\n"
     ]
    },
    {
     "name": "stdout",
     "output_type": "stream",
     "text": [
      "END compute_companies 0.07573342323303223\n",
      "END get_companies_id 0.008980274200439453\n",
      "END compute_stocks 8.784178972244263\n"
     ]
    },
    {
     "name": "stderr",
     "output_type": "stream",
     "text": [
      "100%|██████████| 12/12 [01:54<00:00,  9.50s/it]\n",
      "[D 240331 23:09:48 2419859425:43] Processing complete for compA data in 2023 in 114.011 seconds.\n",
      "[D 240331 23:09:48 2419859425:33] Loading compB (2023) data for boursorama.\n"
     ]
    },
    {
     "name": "stdout",
     "output_type": "stream",
     "text": [
      "END compute_daystocks 0.4692244529724121\n",
      "END file_done 0.02603602409362793\n"
     ]
    },
    {
     "name": "stderr",
     "output_type": "stream",
     "text": [
      "  0%|          | 0/12 [00:00<?, ?it/s]"
     ]
    },
    {
     "name": "stdout",
     "output_type": "stream",
     "text": [
      "END read files 2.4174466133117676\n",
      "END concat files 0.17113280296325684\n"
     ]
    },
    {
     "name": "stderr",
     "output_type": "stream",
     "text": [
      "[D 240331 23:09:50 1716370485:35] before: 303 && after: 284 applying filter\n"
     ]
    },
    {
     "name": "stdout",
     "output_type": "stream",
     "text": [
      "END compute_companies 0.15413832664489746\n",
      "END get_companies_id 0.00790095329284668\n",
      "END compute_stocks 3.2533986568450928\n"
     ]
    },
    {
     "name": "stderr",
     "output_type": "stream",
     "text": [
      "  8%|▊         | 1/12 [00:06<01:12,  6.60s/it]"
     ]
    },
    {
     "name": "stdout",
     "output_type": "stream",
     "text": [
      "END compute_daystocks 0.34322285652160645\n",
      "END file_done 0.026211023330688477\n",
      "END read files 1.40248703956604\n",
      "END concat files 0.09036731719970703\n"
     ]
    },
    {
     "name": "stderr",
     "output_type": "stream",
     "text": [
      "[D 240331 23:09:56 1716370485:35] before: 305 && after: 0 applying filter\n"
     ]
    },
    {
     "name": "stdout",
     "output_type": "stream",
     "text": [
      "END compute_companies 0.01569652557373047\n",
      "END get_companies_id 0.009933233261108398\n",
      "END compute_stocks 1.9836831092834473\n"
     ]
    },
    {
     "name": "stderr",
     "output_type": "stream",
     "text": [
      " 17%|█▋        | 2/12 [00:10<00:50,  5.01s/it]"
     ]
    },
    {
     "name": "stdout",
     "output_type": "stream",
     "text": [
      "END compute_daystocks 0.24213719367980957\n",
      "END file_done 0.018181324005126953\n",
      "END read files 2.4975593090057373\n"
     ]
    },
    {
     "name": "stderr",
     "output_type": "stream",
     "text": [
      "[D 240331 23:10:01 1716370485:35] before: 303 && after: 0 applying filter\n"
     ]
    },
    {
     "name": "stdout",
     "output_type": "stream",
     "text": [
      "END concat files 0.2570674419403076\n",
      "END compute_companies 0.02772378921508789\n",
      "END get_companies_id 0.007767438888549805\n",
      "END compute_stocks 3.627480983734131\n"
     ]
    },
    {
     "name": "stderr",
     "output_type": "stream",
     "text": [
      " 25%|██▌       | 3/12 [00:17<00:53,  5.91s/it]"
     ]
    },
    {
     "name": "stdout",
     "output_type": "stream",
     "text": [
      "END compute_daystocks 0.289567232131958\n",
      "END file_done 0.02859640121459961\n",
      "END read files 2.3760106563568115\n",
      "END concat files 0.16152143478393555\n"
     ]
    },
    {
     "name": "stderr",
     "output_type": "stream",
     "text": [
      "[D 240331 23:10:08 1716370485:35] before: 303 && after: 1 applying filter\n"
     ]
    },
    {
     "name": "stdout",
     "output_type": "stream",
     "text": [
      "END compute_companies 0.03146195411682129\n",
      "END get_companies_id 0.010507583618164062\n",
      "END compute_stocks 3.2101268768310547\n"
     ]
    },
    {
     "name": "stderr",
     "output_type": "stream",
     "text": [
      " 33%|███▎      | 4/12 [00:23<00:48,  6.06s/it]"
     ]
    },
    {
     "name": "stdout",
     "output_type": "stream",
     "text": [
      "END compute_daystocks 0.2664520740509033\n",
      "END file_done 0.024741649627685547\n",
      "END read files 2.5294737815856934\n",
      "END concat files 0.18272829055786133\n"
     ]
    },
    {
     "name": "stderr",
     "output_type": "stream",
     "text": [
      "[D 240331 23:10:14 1716370485:35] before: 301 && after: 0 applying filter\n"
     ]
    },
    {
     "name": "stdout",
     "output_type": "stream",
     "text": [
      "END compute_companies 0.023067951202392578\n",
      "END get_companies_id 0.007989168167114258\n",
      "END compute_stocks 3.1651487350463867\n"
     ]
    },
    {
     "name": "stderr",
     "output_type": "stream",
     "text": [
      " 42%|████▏     | 5/12 [00:30<00:43,  6.23s/it]"
     ]
    },
    {
     "name": "stdout",
     "output_type": "stream",
     "text": [
      "END compute_daystocks 0.3555111885070801\n",
      "END file_done 0.02702808380126953\n",
      "END read files 0.8086972236633301\n"
     ]
    },
    {
     "name": "stderr",
     "output_type": "stream",
     "text": [
      "[D 240331 23:10:19 1716370485:35] before: 302 && after: 0 applying filter\n"
     ]
    },
    {
     "name": "stdout",
     "output_type": "stream",
     "text": [
      "END concat files 0.24462294578552246\n",
      "END compute_companies 0.029567718505859375\n",
      "END get_companies_id 0.007382869720458984\n",
      "END compute_stocks 3.2159457206726074\n"
     ]
    },
    {
     "name": "stderr",
     "output_type": "stream",
     "text": [
      " 50%|█████     | 6/12 [00:35<00:34,  5.75s/it]"
     ]
    },
    {
     "name": "stdout",
     "output_type": "stream",
     "text": [
      "END compute_daystocks 0.27040910720825195\n",
      "END file_done 0.026801109313964844\n",
      "END read files 0.9352278709411621\n",
      "END concat files 0.185377836227417\n"
     ]
    },
    {
     "name": "stderr",
     "output_type": "stream",
     "text": [
      "[D 240331 23:10:24 1716370485:35] before: 303 && after: 1 applying filter\n"
     ]
    },
    {
     "name": "stdout",
     "output_type": "stream",
     "text": [
      "END compute_companies 0.030960798263549805\n",
      "END get_companies_id 0.009322643280029297\n",
      "END compute_stocks 3.550483465194702\n"
     ]
    },
    {
     "name": "stderr",
     "output_type": "stream",
     "text": [
      " 58%|█████▊    | 7/12 [00:40<00:28,  5.62s/it]"
     ]
    },
    {
     "name": "stdout",
     "output_type": "stream",
     "text": [
      "END compute_daystocks 0.37404346466064453\n",
      "END file_done 0.02753281593322754\n",
      "END read files 0.9232008457183838\n",
      "END concat files 0.19484710693359375\n"
     ]
    },
    {
     "name": "stderr",
     "output_type": "stream",
     "text": [
      "[D 240331 23:10:30 1716370485:35] before: 303 && after: 1 applying filter\n"
     ]
    },
    {
     "name": "stdout",
     "output_type": "stream",
     "text": [
      "END compute_companies 0.03296232223510742\n",
      "END get_companies_id 0.00814056396484375\n",
      "END compute_stocks 3.4576094150543213\n"
     ]
    },
    {
     "name": "stderr",
     "output_type": "stream",
     "text": [
      " 67%|██████▋   | 8/12 [00:45<00:22,  5.54s/it]"
     ]
    },
    {
     "name": "stdout",
     "output_type": "stream",
     "text": [
      "END compute_daystocks 0.3966064453125\n",
      "END file_done 0.029668331146240234\n",
      "END read files 0.7893829345703125\n",
      "END concat files 0.16390705108642578\n"
     ]
    },
    {
     "name": "stderr",
     "output_type": "stream",
     "text": [
      "[D 240331 23:10:35 1716370485:35] before: 363 && after: 4 applying filter\n"
     ]
    },
    {
     "name": "stdout",
     "output_type": "stream",
     "text": [
      "END compute_companies 0.03583526611328125\n",
      "END get_companies_id 0.008500337600708008\n",
      "END compute_stocks 3.046182632446289\n"
     ]
    },
    {
     "name": "stderr",
     "output_type": "stream",
     "text": [
      " 75%|███████▌  | 9/12 [00:50<00:15,  5.28s/it]"
     ]
    },
    {
     "name": "stdout",
     "output_type": "stream",
     "text": [
      "END compute_daystocks 0.3285224437713623\n",
      "END file_done 0.02837371826171875\n",
      "END read files 0.8982913494110107\n",
      "END concat files 0.25830984115600586\n"
     ]
    },
    {
     "name": "stderr",
     "output_type": "stream",
     "text": [
      "[D 240331 23:10:40 1716370485:35] before: 307 && after: 2 applying filter\n"
     ]
    },
    {
     "name": "stdout",
     "output_type": "stream",
     "text": [
      "END compute_companies 0.040215253829956055\n",
      "END get_companies_id 0.010147333145141602\n",
      "END compute_stocks 4.085308790206909\n"
     ]
    },
    {
     "name": "stderr",
     "output_type": "stream",
     "text": [
      " 83%|████████▎ | 10/12 [00:56<00:10,  5.49s/it]"
     ]
    },
    {
     "name": "stdout",
     "output_type": "stream",
     "text": [
      "END compute_daystocks 0.3187999725341797\n",
      "END file_done 0.10703134536743164\n",
      "END read files 0.44838976860046387\n",
      "END concat files 0.08932614326477051\n"
     ]
    },
    {
     "name": "stderr",
     "output_type": "stream",
     "text": [
      "[D 240331 23:10:45 1716370485:35] before: 306 && after: 0 applying filter\n"
     ]
    },
    {
     "name": "stdout",
     "output_type": "stream",
     "text": [
      "END compute_companies 0.02025294303894043\n",
      "END get_companies_id 0.011148452758789062\n",
      "END compute_stocks 2.0404510498046875\n",
      "END compute_daystocks 0.1780681610107422\n",
      "END file_done 0.014905929565429688\n"
     ]
    },
    {
     "name": "stderr",
     "output_type": "stream",
     "text": [
      " 92%|█████████▏| 11/12 [00:59<00:04,  4.71s/it]"
     ]
    },
    {
     "name": "stdout",
     "output_type": "stream",
     "text": [
      "END read files 0.9260742664337158\n",
      "END concat files 0.18402385711669922\n"
     ]
    },
    {
     "name": "stderr",
     "output_type": "stream",
     "text": [
      "[D 240331 23:10:48 1716370485:35] before: 301 && after: 20 applying filter\n"
     ]
    },
    {
     "name": "stdout",
     "output_type": "stream",
     "text": [
      "END compute_companies 0.03894639015197754\n",
      "END get_companies_id 0.007326841354370117\n",
      "END compute_stocks 3.557969093322754\n"
     ]
    },
    {
     "name": "stderr",
     "output_type": "stream",
     "text": [
      "100%|██████████| 12/12 [01:04<00:00,  5.39s/it]\n",
      "[D 240331 23:10:52 2419859425:43] Processing complete for compB data in 2023 in 64.715 seconds.\n",
      "[D 240331 23:10:52 2419859425:33] Loading peapme (2023) data for boursorama.\n"
     ]
    },
    {
     "name": "stdout",
     "output_type": "stream",
     "text": [
      "END compute_daystocks 0.2747213840484619\n",
      "END file_done 0.02715325355529785\n"
     ]
    },
    {
     "name": "stderr",
     "output_type": "stream",
     "text": [
      "  0%|          | 0/12 [00:00<?, ?it/s]"
     ]
    },
    {
     "name": "stdout",
     "output_type": "stream",
     "text": [
      "END read files 3.2416982650756836\n",
      "END concat files 0.19781851768493652\n"
     ]
    },
    {
     "name": "stderr",
     "output_type": "stream",
     "text": [
      "[D 240331 23:10:56 1716370485:17] peapme updated!\n",
      "[D 240331 23:10:56 1716370485:35] before: 445 && after: 346 applying filter\n"
     ]
    },
    {
     "name": "stdout",
     "output_type": "stream",
     "text": [
      "END compute_companies 0.10328888893127441\n",
      "END get_companies_id 0.007494926452636719\n",
      "END compute_stocks 7.368057489395142\n"
     ]
    },
    {
     "name": "stderr",
     "output_type": "stream",
     "text": [
      "  8%|▊         | 1/12 [00:12<02:12, 12.08s/it]"
     ]
    },
    {
     "name": "stdout",
     "output_type": "stream",
     "text": [
      "END compute_daystocks 0.7956416606903076\n",
      "END file_done 0.024959802627563477\n",
      "END read files 1.9032738208770752\n",
      "END concat files 0.12393760681152344\n"
     ]
    },
    {
     "name": "stderr",
     "output_type": "stream",
     "text": [
      "[D 240331 23:11:07 1716370485:17] peapme updated!\n",
      "[D 240331 23:11:07 1716370485:35] before: 452 && after: 4 applying filter\n"
     ]
    },
    {
     "name": "stdout",
     "output_type": "stream",
     "text": [
      "END compute_companies 0.05489349365234375\n",
      "END get_companies_id 0.008451223373413086\n",
      "END compute_stocks 4.154432058334351\n"
     ]
    },
    {
     "name": "stderr",
     "output_type": "stream",
     "text": [
      " 17%|█▋        | 2/12 [00:19<01:30,  9.07s/it]"
     ]
    },
    {
     "name": "stdout",
     "output_type": "stream",
     "text": [
      "END compute_daystocks 0.4931461811065674\n",
      "END file_done 0.01644730567932129\n",
      "END read files 3.367130756378174\n",
      "END concat files 0.21828699111938477\n"
     ]
    },
    {
     "name": "stderr",
     "output_type": "stream",
     "text": [
      "[D 240331 23:11:15 1716370485:17] peapme updated!\n",
      "[D 240331 23:11:15 1716370485:35] before: 449 && after: 3 applying filter\n"
     ]
    },
    {
     "name": "stdout",
     "output_type": "stream",
     "text": [
      "END compute_companies 0.07395124435424805\n",
      "END get_companies_id 0.008334159851074219\n",
      "END compute_stocks 7.66628360748291\n"
     ]
    },
    {
     "name": "stderr",
     "output_type": "stream",
     "text": [
      " 25%|██▌       | 3/12 [00:31<01:36, 10.71s/it]"
     ]
    },
    {
     "name": "stdout",
     "output_type": "stream",
     "text": [
      "END compute_daystocks 0.9138751029968262\n",
      "END file_done 0.029354095458984375\n",
      "END read files 3.07246470451355\n",
      "END concat files 0.19908833503723145\n"
     ]
    },
    {
     "name": "stderr",
     "output_type": "stream",
     "text": [
      "[D 240331 23:11:28 1716370485:17] peapme updated!\n",
      "[D 240331 23:11:28 1716370485:35] before: 453 && after: 3 applying filter\n"
     ]
    },
    {
     "name": "stdout",
     "output_type": "stream",
     "text": [
      "END compute_companies 0.0674598217010498\n",
      "END get_companies_id 0.008912801742553711\n",
      "END compute_stocks 7.165125131607056\n"
     ]
    },
    {
     "name": "stderr",
     "output_type": "stream",
     "text": [
      " 33%|███▎      | 4/12 [00:43<01:28, 11.11s/it]"
     ]
    },
    {
     "name": "stdout",
     "output_type": "stream",
     "text": [
      "END compute_daystocks 0.8374812602996826\n",
      "END file_done 0.023876190185546875\n",
      "END read files 3.2462406158447266\n",
      "END concat files 0.2973947525024414\n"
     ]
    },
    {
     "name": "stderr",
     "output_type": "stream",
     "text": [
      "[D 240331 23:11:40 1716370485:17] peapme updated!\n",
      "[D 240331 23:11:40 1716370485:35] before: 441 && after: 2 applying filter\n"
     ]
    },
    {
     "name": "stdout",
     "output_type": "stream",
     "text": [
      "END compute_companies 0.06943941116333008\n",
      "END get_companies_id 0.009692907333374023\n",
      "END compute_stocks 7.519838094711304\n"
     ]
    },
    {
     "name": "stderr",
     "output_type": "stream",
     "text": [
      " 42%|████▏     | 5/12 [00:55<01:21, 11.61s/it]"
     ]
    },
    {
     "name": "stdout",
     "output_type": "stream",
     "text": [
      "END compute_daystocks 0.9653935432434082\n",
      "END file_done 0.031354665756225586\n",
      "END read files 0.8690540790557861\n",
      "END concat files 0.21648573875427246\n"
     ]
    },
    {
     "name": "stderr",
     "output_type": "stream",
     "text": [
      "[D 240331 23:11:50 1716370485:17] peapme updated!\n",
      "[D 240331 23:11:50 1716370485:35] before: 445 && after: 5 applying filter\n"
     ]
    },
    {
     "name": "stdout",
     "output_type": "stream",
     "text": [
      "END compute_companies 0.07048773765563965\n",
      "END get_companies_id 0.08098983764648438\n",
      "END compute_stocks 7.199251890182495\n"
     ]
    },
    {
     "name": "stderr",
     "output_type": "stream",
     "text": [
      " 50%|█████     | 6/12 [01:05<01:05, 10.99s/it]"
     ]
    },
    {
     "name": "stdout",
     "output_type": "stream",
     "text": [
      "END compute_daystocks 0.9382386207580566\n",
      "END file_done 0.029524803161621094\n",
      "END read files 1.0028696060180664\n",
      "END concat files 0.24232745170593262\n"
     ]
    },
    {
     "name": "stderr",
     "output_type": "stream",
     "text": [
      "[D 240331 23:12:00 1716370485:17] peapme updated!\n",
      "[D 240331 23:12:00 1716370485:35] before: 451 && after: 1 applying filter\n"
     ]
    },
    {
     "name": "stdout",
     "output_type": "stream",
     "text": [
      "END compute_companies 0.07608604431152344\n",
      "END get_companies_id 0.00849151611328125\n",
      "END compute_stocks 8.340781211853027\n"
     ]
    },
    {
     "name": "stderr",
     "output_type": "stream",
     "text": [
      " 58%|█████▊    | 7/12 [01:16<00:55, 11.05s/it]"
     ]
    },
    {
     "name": "stdout",
     "output_type": "stream",
     "text": [
      "END compute_daystocks 0.9975621700286865\n",
      "END file_done 0.030720233917236328\n",
      "END read files 1.100020408630371\n",
      "END concat files 0.3490147590637207\n"
     ]
    },
    {
     "name": "stderr",
     "output_type": "stream",
     "text": [
      "[D 240331 23:12:11 1716370485:17] peapme updated!\n",
      "[D 240331 23:12:11 1716370485:35] before: 446 && after: 2 applying filter\n"
     ]
    },
    {
     "name": "stdout",
     "output_type": "stream",
     "text": [
      "END compute_companies 0.08096504211425781\n",
      "END get_companies_id 0.008809089660644531\n",
      "END compute_stocks 8.007286071777344\n"
     ]
    },
    {
     "name": "stderr",
     "output_type": "stream",
     "text": [
      " 67%|██████▋   | 8/12 [01:27<00:44, 11.04s/it]"
     ]
    },
    {
     "name": "stdout",
     "output_type": "stream",
     "text": [
      "END compute_daystocks 1.007944107055664\n",
      "END file_done 0.03245258331298828\n",
      "END read files 0.9138810634613037\n",
      "END concat files 0.2209322452545166\n"
     ]
    },
    {
     "name": "stderr",
     "output_type": "stream",
     "text": [
      "[D 240331 23:12:22 1716370485:17] peapme updated!\n",
      "[D 240331 23:12:22 1716370485:35] before: 480 && after: 1 applying filter\n"
     ]
    },
    {
     "name": "stdout",
     "output_type": "stream",
     "text": [
      "END compute_companies 0.06876087188720703\n",
      "END get_companies_id 0.008756637573242188\n",
      "END compute_stocks 7.12779426574707\n"
     ]
    },
    {
     "name": "stderr",
     "output_type": "stream",
     "text": [
      " 75%|███████▌  | 9/12 [01:37<00:31, 10.56s/it]"
     ]
    },
    {
     "name": "stdout",
     "output_type": "stream",
     "text": [
      "END compute_daystocks 0.7619311809539795\n",
      "END file_done 0.02485060691833496\n",
      "END read files 1.0761418342590332\n",
      "END concat files 0.24028277397155762\n"
     ]
    },
    {
     "name": "stderr",
     "output_type": "stream",
     "text": [
      "[D 240331 23:12:32 1716370485:17] peapme updated!\n",
      "[D 240331 23:12:32 1716370485:35] before: 450 && after: 5 applying filter\n"
     ]
    },
    {
     "name": "stdout",
     "output_type": "stream",
     "text": [
      "END compute_companies 0.08686399459838867\n",
      "END get_companies_id 0.008735179901123047\n",
      "END compute_stocks 9.446719646453857\n"
     ]
    },
    {
     "name": "stderr",
     "output_type": "stream",
     "text": [
      " 83%|████████▎ | 10/12 [01:49<00:22, 11.11s/it]"
     ]
    },
    {
     "name": "stdout",
     "output_type": "stream",
     "text": [
      "END compute_daystocks 0.9931719303131104\n",
      "END file_done 0.030089616775512695\n",
      "END read files 0.5502688884735107\n",
      "END concat files 0.11710643768310547\n"
     ]
    },
    {
     "name": "stderr",
     "output_type": "stream",
     "text": [
      "[D 240331 23:12:43 1716370485:17] peapme updated!\n",
      "[D 240331 23:12:43 1716370485:35] before: 454 && after: 6 applying filter\n"
     ]
    },
    {
     "name": "stdout",
     "output_type": "stream",
     "text": [
      "END compute_companies 0.04864072799682617\n",
      "END get_companies_id 0.00842905044555664\n",
      "END compute_stocks 4.979301452636719\n"
     ]
    },
    {
     "name": "stderr",
     "output_type": "stream",
     "text": [
      " 92%|█████████▏| 11/12 [01:56<00:09,  9.69s/it]"
     ]
    },
    {
     "name": "stdout",
     "output_type": "stream",
     "text": [
      "END compute_daystocks 0.550628662109375\n",
      "END file_done 0.016950130462646484\n",
      "END read files 1.1495587825775146\n",
      "END concat files 0.2344353199005127\n"
     ]
    },
    {
     "name": "stderr",
     "output_type": "stream",
     "text": [
      "[D 240331 23:12:50 1716370485:17] peapme updated!\n",
      "[D 240331 23:12:50 1716370485:35] before: 447 && after: 0 applying filter\n"
     ]
    },
    {
     "name": "stdout",
     "output_type": "stream",
     "text": [
      "END compute_companies 0.07875895500183105\n",
      "END get_companies_id 0.012233257293701172\n",
      "END compute_stocks 9.521178722381592\n"
     ]
    },
    {
     "name": "stderr",
     "output_type": "stream",
     "text": [
      "100%|██████████| 12/12 [02:08<00:00, 10.72s/it]\n",
      "[D 240331 23:13:01 2419859425:43] Processing complete for peapme data in 2023 in 128.633 seconds.\n"
     ]
    },
    {
     "name": "stdout",
     "output_type": "stream",
     "text": [
      "END compute_daystocks 0.9188122749328613\n",
      "END file_done 0.03208589553833008\n"
     ]
    },
    {
     "name": "stderr",
     "output_type": "stream",
     "text": [
      "[D 240331 23:13:01 2419859425:33] Loading amsterdam (2022) data for boursorama.\n",
      "  0%|          | 0/12 [00:00<?, ?it/s]"
     ]
    },
    {
     "name": "stdout",
     "output_type": "stream",
     "text": [
      "END read files 6.093624830245972\n",
      "END concat files 1.873011827468872\n"
     ]
    },
    {
     "name": "stderr",
     "output_type": "stream",
     "text": [
      "[D 240331 23:13:11 1716370485:35] before: 4815 && after: 60 applying filter\n"
     ]
    },
    {
     "name": "stdout",
     "output_type": "stream",
     "text": [
      "END compute_companies 0.2156534194946289\n",
      "END get_companies_id 0.08021926879882812\n",
      "END compute_stocks 28.287277698516846\n",
      "END compute_daystocks 8.848114013671875\n",
      "END file_done 0.02873992919921875\n"
     ]
    },
    {
     "name": "stderr",
     "output_type": "stream",
     "text": [
      "  8%|▊         | 1/12 [00:47<08:43, 47.62s/it]"
     ]
    },
    {
     "name": "stdout",
     "output_type": "stream",
     "text": [
      "END read files 5.886145353317261\n",
      "END concat files 1.7506966590881348\n"
     ]
    },
    {
     "name": "stderr",
     "output_type": "stream",
     "text": [
      "[D 240331 23:13:59 1716370485:35] before: 4844 && after: 56 applying filter\n"
     ]
    },
    {
     "name": "stdout",
     "output_type": "stream",
     "text": [
      "END compute_companies 0.2784461975097656\n",
      "END get_companies_id 0.00965571403503418\n",
      "END compute_stocks 27.735975980758667\n",
      "END compute_daystocks 8.22671365737915\n",
      "END file_done 0.0311129093170166\n"
     ]
    },
    {
     "name": "stderr",
     "output_type": "stream",
     "text": [
      " 17%|█▋        | 2/12 [01:33<07:47, 46.75s/it]"
     ]
    },
    {
     "name": "stdout",
     "output_type": "stream",
     "text": [
      "END read files 5.475536346435547\n",
      "END concat files 1.6625771522521973\n"
     ]
    },
    {
     "name": "stderr",
     "output_type": "stream",
     "text": [
      "[D 240331 23:14:44 1716370485:35] before: 4853 && after: 39 applying filter\n"
     ]
    },
    {
     "name": "stdout",
     "output_type": "stream",
     "text": [
      "END compute_companies 0.20735859870910645\n",
      "END get_companies_id 0.008878469467163086\n",
      "END compute_stocks 25.418823957443237\n",
      "END compute_daystocks 8.913944244384766\n",
      "END file_done 0.10236787796020508\n"
     ]
    },
    {
     "name": "stderr",
     "output_type": "stream",
     "text": [
      " 25%|██▌       | 3/12 [02:17<06:48, 45.44s/it]"
     ]
    },
    {
     "name": "stdout",
     "output_type": "stream",
     "text": [
      "END read files 5.887280225753784\n",
      "END concat files 1.7871744632720947\n"
     ]
    },
    {
     "name": "stderr",
     "output_type": "stream",
     "text": [
      "[D 240331 23:15:29 1716370485:35] before: 4852 && after: 43 applying filter\n"
     ]
    },
    {
     "name": "stdout",
     "output_type": "stream",
     "text": [
      "END compute_companies 0.27564191818237305\n",
      "END get_companies_id 0.010244131088256836\n",
      "END compute_stocks 26.103670120239258\n",
      "END compute_daystocks 8.341233015060425\n",
      "END file_done 0.025655508041381836\n"
     ]
    },
    {
     "name": "stderr",
     "output_type": "stream",
     "text": [
      " 33%|███▎      | 4/12 [03:02<06:01, 45.19s/it]"
     ]
    },
    {
     "name": "stdout",
     "output_type": "stream",
     "text": [
      "END read files 6.355216979980469\n",
      "END concat files 1.8717215061187744\n"
     ]
    },
    {
     "name": "stderr",
     "output_type": "stream",
     "text": [
      "[D 240331 23:16:14 1716370485:35] before: 4848 && after: 24 applying filter\n"
     ]
    },
    {
     "name": "stdout",
     "output_type": "stream",
     "text": [
      "END compute_companies 0.22986602783203125\n",
      "END get_companies_id 0.008702278137207031\n",
      "END compute_stocks 31.464025020599365\n",
      "END compute_daystocks 9.144761800765991\n",
      "END file_done 0.02684807777404785\n"
     ]
    },
    {
     "name": "stderr",
     "output_type": "stream",
     "text": [
      " 42%|████▏     | 5/12 [03:53<05:32, 47.48s/it]"
     ]
    },
    {
     "name": "stdout",
     "output_type": "stream",
     "text": [
      "END read files 5.5635666847229\n",
      "END concat files 1.766406536102295\n"
     ]
    },
    {
     "name": "stderr",
     "output_type": "stream",
     "text": [
      "[D 240331 23:17:04 1716370485:35] before: 4866 && after: 35 applying filter\n"
     ]
    },
    {
     "name": "stdout",
     "output_type": "stream",
     "text": [
      "END compute_companies 0.20064401626586914\n",
      "END get_companies_id 0.00994253158569336\n",
      "END compute_stocks 23.979970693588257\n",
      "END compute_daystocks 7.9043426513671875\n",
      "END file_done 0.02718067169189453\n"
     ]
    },
    {
     "name": "stderr",
     "output_type": "stream",
     "text": [
      " 50%|█████     | 6/12 [04:35<04:32, 45.45s/it]"
     ]
    },
    {
     "name": "stdout",
     "output_type": "stream",
     "text": [
      "END read files 5.644704580307007\n",
      "END concat files 1.826944351196289\n"
     ]
    },
    {
     "name": "stderr",
     "output_type": "stream",
     "text": [
      "[D 240331 23:17:46 1716370485:35] before: 4661 && after: 34 applying filter\n"
     ]
    },
    {
     "name": "stdout",
     "output_type": "stream",
     "text": [
      "END compute_companies 0.21358680725097656\n",
      "END get_companies_id 0.008551836013793945\n",
      "END compute_stocks 27.228081703186035\n",
      "END compute_daystocks 8.156839847564697\n",
      "END file_done 0.0265195369720459\n"
     ]
    },
    {
     "name": "stderr",
     "output_type": "stream",
     "text": [
      " 58%|█████▊    | 7/12 [05:20<03:47, 45.41s/it]"
     ]
    },
    {
     "name": "stdout",
     "output_type": "stream",
     "text": [
      "END read files 5.723552227020264\n",
      "END concat files 1.7733469009399414\n"
     ]
    },
    {
     "name": "stderr",
     "output_type": "stream",
     "text": [
      "[D 240331 23:18:32 1716370485:35] before: 4691 && after: 33 applying filter\n"
     ]
    },
    {
     "name": "stdout",
     "output_type": "stream",
     "text": [
      "END compute_companies 0.2186594009399414\n",
      "END get_companies_id 0.00802302360534668\n",
      "END compute_stocks 27.977561950683594\n",
      "END compute_daystocks 8.256174087524414\n",
      "END file_done 0.02556777000427246\n"
     ]
    },
    {
     "name": "stderr",
     "output_type": "stream",
     "text": [
      " 67%|██████▋   | 8/12 [06:07<03:02, 45.66s/it]"
     ]
    },
    {
     "name": "stdout",
     "output_type": "stream",
     "text": [
      "END read files 5.410693407058716\n",
      "END concat files 1.7143189907073975\n"
     ]
    },
    {
     "name": "stderr",
     "output_type": "stream",
     "text": [
      "[D 240331 23:19:17 1716370485:35] before: 4722 && after: 28 applying filter\n"
     ]
    },
    {
     "name": "stdout",
     "output_type": "stream",
     "text": [
      "END compute_companies 0.28315234184265137\n",
      "END get_companies_id 0.010707378387451172\n",
      "END compute_stocks 26.27190589904785\n",
      "END compute_daystocks 8.03708815574646\n",
      "END file_done 0.024882793426513672\n"
     ]
    },
    {
     "name": "stderr",
     "output_type": "stream",
     "text": [
      " 75%|███████▌  | 9/12 [06:50<02:15, 45.10s/it]"
     ]
    },
    {
     "name": "stdout",
     "output_type": "stream",
     "text": [
      "END read files 6.250598192214966\n",
      "END concat files 1.9545831680297852\n"
     ]
    },
    {
     "name": "stderr",
     "output_type": "stream",
     "text": [
      "[D 240331 23:20:03 1716370485:35] before: 4758 && after: 30 applying filter\n"
     ]
    },
    {
     "name": "stdout",
     "output_type": "stream",
     "text": [
      "END compute_companies 0.30225634574890137\n",
      "END get_companies_id 0.009845733642578125\n",
      "END compute_stocks 43.80381464958191\n",
      "END compute_daystocks 9.616434335708618\n",
      "END file_done 0.02691340446472168\n"
     ]
    },
    {
     "name": "stderr",
     "output_type": "stream",
     "text": [
      " 83%|████████▎ | 10/12 [07:55<01:42, 51.11s/it]"
     ]
    },
    {
     "name": "stdout",
     "output_type": "stream",
     "text": [
      "END read files 5.807075262069702\n",
      "END concat files 1.6281096935272217\n"
     ]
    },
    {
     "name": "stderr",
     "output_type": "stream",
     "text": [
      "[D 240331 23:21:07 1716370485:35] before: 4758 && after: 33 applying filter\n"
     ]
    },
    {
     "name": "stdout",
     "output_type": "stream",
     "text": [
      "END compute_companies 0.39167261123657227\n",
      "END get_companies_id 0.009033441543579102\n",
      "END compute_stocks 53.9432270526886\n",
      "END compute_daystocks 8.712116479873657\n",
      "END file_done 0.026569604873657227\n"
     ]
    },
    {
     "name": "stderr",
     "output_type": "stream",
     "text": [
      " 92%|█████████▏| 11/12 [09:08<00:57, 57.77s/it]"
     ]
    },
    {
     "name": "stdout",
     "output_type": "stream",
     "text": [
      "END read files 6.342242479324341\n",
      "END concat files 1.6539514064788818\n"
     ]
    },
    {
     "name": "stderr",
     "output_type": "stream",
     "text": [
      "[D 240331 23:22:20 1716370485:35] before: 4747 && after: 51 applying filter\n"
     ]
    },
    {
     "name": "stdout",
     "output_type": "stream",
     "text": [
      "END compute_companies 0.33941650390625\n",
      "END get_companies_id 0.009112834930419922\n",
      "END compute_stocks 57.32596468925476\n",
      "END compute_daystocks 8.863145112991333\n",
      "END file_done 0.027346372604370117\n"
     ]
    },
    {
     "name": "stderr",
     "output_type": "stream",
     "text": [
      "100%|██████████| 12/12 [10:25<00:00, 52.11s/it]\n",
      "[D 240331 23:23:26 2419859425:43] Processing complete for amsterdam data in 2022 in 625.279 seconds.\n",
      "[D 240331 23:23:26 2419859425:33] Loading compA (2022) data for boursorama.\n",
      "  0%|          | 0/12 [00:00<?, ?it/s]"
     ]
    },
    {
     "name": "stdout",
     "output_type": "stream",
     "text": [
      "END read files 0.9121682643890381\n",
      "END concat files 0.18373751640319824\n"
     ]
    },
    {
     "name": "stderr",
     "output_type": "stream",
     "text": [
      "[D 240331 23:23:28 1716370485:35] before: 358 && after: 0 applying filter\n"
     ]
    },
    {
     "name": "stdout",
     "output_type": "stream",
     "text": [
      "END compute_companies 0.0642242431640625\n",
      "END get_companies_id 0.007164478302001953\n",
      "END compute_stocks 8.28404951095581\n"
     ]
    },
    {
     "name": "stderr",
     "output_type": "stream",
     "text": [
      "  8%|▊         | 1/12 [00:10<01:53, 10.35s/it]"
     ]
    },
    {
     "name": "stdout",
     "output_type": "stream",
     "text": [
      "END compute_daystocks 0.4425816535949707\n",
      "END file_done 0.030310869216918945\n",
      "END read files 0.9740743637084961\n",
      "END concat files 0.1883704662322998\n"
     ]
    },
    {
     "name": "stderr",
     "output_type": "stream",
     "text": [
      "[D 240331 23:23:38 1716370485:35] before: 359 && after: 0 applying filter\n"
     ]
    },
    {
     "name": "stdout",
     "output_type": "stream",
     "text": [
      "END compute_companies 0.0661163330078125\n",
      "END get_companies_id 0.010153055191040039\n",
      "END compute_stocks 8.981267213821411\n"
     ]
    },
    {
     "name": "stderr",
     "output_type": "stream",
     "text": [
      " 17%|█▋        | 2/12 [00:21<01:47, 10.79s/it]"
     ]
    },
    {
     "name": "stdout",
     "output_type": "stream",
     "text": [
      "END compute_daystocks 0.4775733947753906\n",
      "END file_done 0.029602766036987305\n",
      "END read files 0.8827767372131348\n",
      "END concat files 0.2588200569152832\n"
     ]
    },
    {
     "name": "stderr",
     "output_type": "stream",
     "text": [
      "[D 240331 23:23:49 1716370485:35] before: 363 && after: 1 applying filter\n"
     ]
    },
    {
     "name": "stdout",
     "output_type": "stream",
     "text": [
      "END compute_companies 0.06782364845275879\n",
      "END get_companies_id 0.015034675598144531\n",
      "END compute_stocks 8.759259462356567\n"
     ]
    },
    {
     "name": "stderr",
     "output_type": "stream",
     "text": [
      " 25%|██▌       | 3/12 [00:32<01:37, 10.81s/it]"
     ]
    },
    {
     "name": "stdout",
     "output_type": "stream",
     "text": [
      "END compute_daystocks 0.44852566719055176\n",
      "END file_done 0.026132822036743164\n",
      "END read files 0.9266695976257324\n",
      "END concat files 0.19791746139526367\n"
     ]
    },
    {
     "name": "stderr",
     "output_type": "stream",
     "text": [
      "[D 240331 23:24:00 1716370485:35] before: 362 && after: 4 applying filter\n"
     ]
    },
    {
     "name": "stdout",
     "output_type": "stream",
     "text": [
      "END compute_companies 0.07756519317626953\n",
      "END get_companies_id 0.0848701000213623\n",
      "END compute_stocks 9.29192852973938\n"
     ]
    },
    {
     "name": "stderr",
     "output_type": "stream",
     "text": [
      " 33%|███▎      | 4/12 [00:43<01:28, 11.08s/it]"
     ]
    },
    {
     "name": "stdout",
     "output_type": "stream",
     "text": [
      "END compute_daystocks 0.4773216247558594\n",
      "END file_done 0.028373241424560547\n",
      "END read files 1.0116963386535645\n",
      "END concat files 0.20394158363342285\n"
     ]
    },
    {
     "name": "stderr",
     "output_type": "stream",
     "text": [
      "[D 240331 23:24:12 1716370485:35] before: 360 && after: 0 applying filter\n"
     ]
    },
    {
     "name": "stdout",
     "output_type": "stream",
     "text": [
      "END compute_companies 0.06822609901428223\n",
      "END get_companies_id 0.01023244857788086\n",
      "END compute_stocks 9.061072587966919\n"
     ]
    },
    {
     "name": "stderr",
     "output_type": "stream",
     "text": [
      " 42%|████▏     | 5/12 [00:55<01:17, 11.14s/it]"
     ]
    },
    {
     "name": "stdout",
     "output_type": "stream",
     "text": [
      "END compute_daystocks 0.4702138900756836\n",
      "END file_done 0.028771162033081055\n",
      "END read files 0.932640790939331\n",
      "END concat files 0.20364022254943848\n"
     ]
    },
    {
     "name": "stderr",
     "output_type": "stream",
     "text": [
      "[D 240331 23:24:23 1716370485:35] before: 355 && after: 1 applying filter\n"
     ]
    },
    {
     "name": "stdout",
     "output_type": "stream",
     "text": [
      "END compute_companies 0.06879806518554688\n",
      "END get_companies_id 0.015140533447265625\n",
      "END compute_stocks 8.392268419265747\n"
     ]
    },
    {
     "name": "stderr",
     "output_type": "stream",
     "text": [
      " 50%|█████     | 6/12 [01:05<01:05, 10.91s/it]"
     ]
    },
    {
     "name": "stdout",
     "output_type": "stream",
     "text": [
      "END compute_daystocks 0.4384589195251465\n",
      "END file_done 0.027353286743164062\n",
      "END read files 0.9352817535400391\n",
      "END concat files 0.21625733375549316\n"
     ]
    },
    {
     "name": "stderr",
     "output_type": "stream",
     "text": [
      "[D 240331 23:24:34 1716370485:35] before: 354 && after: 3 applying filter\n"
     ]
    },
    {
     "name": "stdout",
     "output_type": "stream",
     "text": [
      "END compute_companies 0.07177352905273438\n",
      "END get_companies_id 0.08751821517944336\n",
      "END compute_stocks 8.941711902618408\n"
     ]
    },
    {
     "name": "stderr",
     "output_type": "stream",
     "text": [
      " 58%|█████▊    | 7/12 [01:16<00:54, 11.00s/it]"
     ]
    },
    {
     "name": "stdout",
     "output_type": "stream",
     "text": [
      "END compute_daystocks 0.47881484031677246\n",
      "END file_done 0.027395963668823242\n",
      "END read files 0.9709970951080322\n",
      "END concat files 0.19770050048828125\n"
     ]
    },
    {
     "name": "stderr",
     "output_type": "stream",
     "text": [
      "[D 240331 23:24:45 1716370485:35] before: 355 && after: 3 applying filter\n"
     ]
    },
    {
     "name": "stdout",
     "output_type": "stream",
     "text": [
      "END compute_companies 0.07579684257507324\n",
      "END get_companies_id 0.010544776916503906\n",
      "END compute_stocks 9.237612962722778\n"
     ]
    },
    {
     "name": "stderr",
     "output_type": "stream",
     "text": [
      " 67%|██████▋   | 8/12 [01:27<00:44, 11.10s/it]"
     ]
    },
    {
     "name": "stdout",
     "output_type": "stream",
     "text": [
      "END compute_daystocks 0.38932085037231445\n",
      "END file_done 0.02728867530822754\n",
      "END read files 0.922217607498169\n",
      "END concat files 0.15790081024169922\n"
     ]
    },
    {
     "name": "stderr",
     "output_type": "stream",
     "text": [
      "[D 240331 23:24:56 1716370485:35] before: 346 && after: 0 applying filter\n"
     ]
    },
    {
     "name": "stdout",
     "output_type": "stream",
     "text": [
      "END compute_companies 0.061203956604003906\n",
      "END get_companies_id 0.009344100952148438\n",
      "END compute_stocks 7.927142143249512\n"
     ]
    },
    {
     "name": "stderr",
     "output_type": "stream",
     "text": [
      " 75%|███████▌  | 9/12 [01:37<00:32, 10.73s/it]"
     ]
    },
    {
     "name": "stdout",
     "output_type": "stream",
     "text": [
      "END compute_daystocks 0.3489401340484619\n",
      "END file_done 0.09697580337524414\n",
      "END read files 0.9563772678375244\n",
      "END concat files 0.213761568069458\n"
     ]
    },
    {
     "name": "stderr",
     "output_type": "stream",
     "text": [
      "[D 240331 23:25:06 1716370485:35] before: 353 && after: 3 applying filter\n"
     ]
    },
    {
     "name": "stdout",
     "output_type": "stream",
     "text": [
      "END compute_companies 0.0780935287475586\n",
      "END get_companies_id 0.10137653350830078\n",
      "END compute_stocks 10.077362537384033\n"
     ]
    },
    {
     "name": "stderr",
     "output_type": "stream",
     "text": [
      " 83%|████████▎ | 10/12 [01:50<00:22, 11.24s/it]"
     ]
    },
    {
     "name": "stdout",
     "output_type": "stream",
     "text": [
      "END compute_daystocks 0.5003695487976074\n",
      "END file_done 0.029071569442749023\n",
      "END read files 0.8797736167907715\n",
      "END concat files 0.2034773826599121\n"
     ]
    },
    {
     "name": "stderr",
     "output_type": "stream",
     "text": [
      "[D 240331 23:25:18 1716370485:35] before: 351 && after: 0 applying filter\n"
     ]
    },
    {
     "name": "stdout",
     "output_type": "stream",
     "text": [
      "END compute_companies 0.06495189666748047\n",
      "END get_companies_id 0.010650873184204102\n",
      "END compute_stocks 8.632863998413086\n"
     ]
    },
    {
     "name": "stderr",
     "output_type": "stream",
     "text": [
      " 92%|█████████▏| 11/12 [02:00<00:11, 11.05s/it]"
     ]
    },
    {
     "name": "stdout",
     "output_type": "stream",
     "text": [
      "END compute_daystocks 0.3612039089202881\n",
      "END file_done 0.09811854362487793\n",
      "END read files 0.8213131427764893\n",
      "END concat files 0.18904519081115723\n"
     ]
    },
    {
     "name": "stderr",
     "output_type": "stream",
     "text": [
      "[D 240331 23:25:29 1716370485:35] before: 467 && after: 1 applying filter\n"
     ]
    },
    {
     "name": "stdout",
     "output_type": "stream",
     "text": [
      "END compute_companies 0.0699470043182373\n",
      "END get_companies_id 0.008040666580200195\n",
      "END compute_stocks 8.230487823486328\n"
     ]
    },
    {
     "name": "stderr",
     "output_type": "stream",
     "text": [
      "100%|██████████| 12/12 [02:10<00:00, 10.92s/it]\n",
      "[D 240331 23:25:37 2419859425:43] Processing complete for compA data in 2022 in 130.987 seconds.\n",
      "[D 240331 23:25:37 2419859425:33] Loading compB (2022) data for boursorama.\n"
     ]
    },
    {
     "name": "stdout",
     "output_type": "stream",
     "text": [
      "END compute_daystocks 0.35878586769104004\n",
      "END file_done 0.02731490135192871\n"
     ]
    },
    {
     "name": "stderr",
     "output_type": "stream",
     "text": [
      "  0%|          | 0/12 [00:00<?, ?it/s]"
     ]
    },
    {
     "name": "stdout",
     "output_type": "stream",
     "text": [
      "END read files 0.9057753086090088\n",
      "END concat files 0.19673538208007812\n"
     ]
    },
    {
     "name": "stderr",
     "output_type": "stream",
     "text": [
      "[D 240331 23:25:39 1716370485:35] before: 298 && after: 1 applying filter\n"
     ]
    },
    {
     "name": "stdout",
     "output_type": "stream",
     "text": [
      "END compute_companies 0.02891230583190918\n",
      "END get_companies_id 0.008584737777709961\n",
      "END compute_stocks 3.1688060760498047\n"
     ]
    },
    {
     "name": "stderr",
     "output_type": "stream",
     "text": [
      "  8%|▊         | 1/12 [00:04<00:54,  4.93s/it]"
     ]
    },
    {
     "name": "stdout",
     "output_type": "stream",
     "text": [
      "END compute_daystocks 0.35711240768432617\n",
      "END file_done 0.02786874771118164\n",
      "END read files 0.8391339778900146\n",
      "END concat files 0.26010870933532715\n"
     ]
    },
    {
     "name": "stderr",
     "output_type": "stream",
     "text": [
      "[D 240331 23:25:44 1716370485:35] before: 298 && after: 1 applying filter\n"
     ]
    },
    {
     "name": "stdout",
     "output_type": "stream",
     "text": [
      "END compute_companies 0.031913042068481445\n",
      "END get_companies_id 0.0096893310546875\n",
      "END compute_stocks 3.380298614501953\n"
     ]
    },
    {
     "name": "stderr",
     "output_type": "stream",
     "text": [
      " 17%|█▋        | 2/12 [00:10<00:50,  5.07s/it]"
     ]
    },
    {
     "name": "stdout",
     "output_type": "stream",
     "text": [
      "END compute_daystocks 0.36473870277404785\n",
      "END file_done 0.027825355529785156\n",
      "END read files 0.7970757484436035\n",
      "END concat files 0.2598717212677002\n"
     ]
    },
    {
     "name": "stderr",
     "output_type": "stream",
     "text": [
      "[D 240331 23:25:49 1716370485:35] before: 298 && after: 0 applying filter\n"
     ]
    },
    {
     "name": "stdout",
     "output_type": "stream",
     "text": [
      "END compute_companies 0.030704736709594727\n",
      "END get_companies_id 0.009296655654907227\n",
      "END compute_stocks 3.2210941314697266\n"
     ]
    },
    {
     "name": "stderr",
     "output_type": "stream",
     "text": [
      " 25%|██▌       | 3/12 [00:15<00:45,  5.01s/it]"
     ]
    },
    {
     "name": "stdout",
     "output_type": "stream",
     "text": [
      "END compute_daystocks 0.3521230220794678\n",
      "END file_done 0.02401566505432129\n",
      "END read files 0.8313589096069336\n",
      "END concat files 0.18398618698120117\n"
     ]
    },
    {
     "name": "stderr",
     "output_type": "stream",
     "text": [
      "[D 240331 23:25:54 1716370485:35] before: 302 && after: 2 applying filter\n"
     ]
    },
    {
     "name": "stdout",
     "output_type": "stream",
     "text": [
      "END compute_companies 0.036614418029785156\n",
      "END get_companies_id 0.007466554641723633\n",
      "END compute_stocks 3.438293695449829\n"
     ]
    },
    {
     "name": "stderr",
     "output_type": "stream",
     "text": [
      " 33%|███▎      | 4/12 [00:20<00:40,  5.09s/it]"
     ]
    },
    {
     "name": "stdout",
     "output_type": "stream",
     "text": [
      "END compute_daystocks 0.37009143829345703\n",
      "END file_done 0.026950597763061523\n",
      "END read files 0.8779144287109375\n",
      "END concat files 0.30199146270751953\n"
     ]
    },
    {
     "name": "stderr",
     "output_type": "stream",
     "text": [
      "[D 240331 23:25:59 1716370485:35] before: 299 && after: 0 applying filter\n"
     ]
    },
    {
     "name": "stdout",
     "output_type": "stream",
     "text": [
      "END compute_companies 0.03325676918029785\n",
      "END get_companies_id 0.012750864028930664\n",
      "END compute_stocks 3.946967124938965\n"
     ]
    },
    {
     "name": "stderr",
     "output_type": "stream",
     "text": [
      " 42%|████▏     | 5/12 [00:26<00:37,  5.34s/it]"
     ]
    },
    {
     "name": "stdout",
     "output_type": "stream",
     "text": [
      "END compute_daystocks 0.32533979415893555\n",
      "END file_done 0.029740095138549805\n",
      "END read files 0.9086315631866455\n",
      "END concat files 0.22509098052978516\n"
     ]
    },
    {
     "name": "stderr",
     "output_type": "stream",
     "text": [
      "[D 240331 23:26:05 1716370485:35] before: 300 && after: 0 applying filter\n"
     ]
    },
    {
     "name": "stdout",
     "output_type": "stream",
     "text": [
      "END compute_companies 0.0352025032043457\n",
      "END get_companies_id 0.008488655090332031\n",
      "END compute_stocks 3.3343186378479004\n"
     ]
    },
    {
     "name": "stderr",
     "output_type": "stream",
     "text": [
      " 50%|█████     | 6/12 [00:31<00:31,  5.29s/it]"
     ]
    },
    {
     "name": "stdout",
     "output_type": "stream",
     "text": [
      "END compute_daystocks 0.3611772060394287\n",
      "END file_done 0.02613353729248047\n",
      "END read files 0.8424882888793945\n",
      "END concat files 0.2807133197784424\n"
     ]
    },
    {
     "name": "stderr",
     "output_type": "stream",
     "text": [
      "[D 240331 23:26:10 1716370485:35] before: 297 && after: 1 applying filter\n"
     ]
    },
    {
     "name": "stdout",
     "output_type": "stream",
     "text": [
      "END compute_companies 0.03437328338623047\n",
      "END get_companies_id 0.009102106094360352\n",
      "END compute_stocks 3.5755438804626465\n"
     ]
    },
    {
     "name": "stderr",
     "output_type": "stream",
     "text": [
      " 58%|█████▊    | 7/12 [00:36<00:26,  5.29s/it]"
     ]
    },
    {
     "name": "stdout",
     "output_type": "stream",
     "text": [
      "END compute_daystocks 0.27672624588012695\n",
      "END file_done 0.02563333511352539\n",
      "END read files 0.8715753555297852\n",
      "END concat files 0.19327044486999512\n"
     ]
    },
    {
     "name": "stderr",
     "output_type": "stream",
     "text": [
      "[D 240331 23:26:15 1716370485:35] before: 297 && after: 0 applying filter\n"
     ]
    },
    {
     "name": "stdout",
     "output_type": "stream",
     "text": [
      "END compute_companies 0.029572010040283203\n",
      "END get_companies_id 0.007926225662231445\n",
      "END compute_stocks 3.6248438358306885\n"
     ]
    },
    {
     "name": "stderr",
     "output_type": "stream",
     "text": [
      " 67%|██████▋   | 8/12 [00:41<00:21,  5.29s/it]"
     ]
    },
    {
     "name": "stdout",
     "output_type": "stream",
     "text": [
      "END compute_daystocks 0.2795987129211426\n",
      "END file_done 0.02862262725830078\n",
      "END read files 0.8605406284332275\n",
      "END concat files 0.19140386581420898\n"
     ]
    },
    {
     "name": "stderr",
     "output_type": "stream",
     "text": [
      "[D 240331 23:26:20 1716370485:35] before: 295 && after: 0 applying filter\n"
     ]
    },
    {
     "name": "stdout",
     "output_type": "stream",
     "text": [
      "END compute_companies 0.02312612533569336\n",
      "END get_companies_id 0.007130861282348633\n",
      "END compute_stocks 3.1469624042510986\n"
     ]
    },
    {
     "name": "stderr",
     "output_type": "stream",
     "text": [
      " 75%|███████▌  | 9/12 [00:46<00:15,  5.15s/it]"
     ]
    },
    {
     "name": "stdout",
     "output_type": "stream",
     "text": [
      "END compute_daystocks 0.3394289016723633\n",
      "END file_done 0.02837395668029785\n",
      "END read files 0.8790938854217529\n",
      "END concat files 0.26305198669433594\n"
     ]
    },
    {
     "name": "stderr",
     "output_type": "stream",
     "text": [
      "[D 240331 23:26:25 1716370485:35] before: 296 && after: 0 applying filter\n"
     ]
    },
    {
     "name": "stdout",
     "output_type": "stream",
     "text": [
      "END compute_companies 0.04139256477355957\n",
      "END get_companies_id 0.00799250602722168\n",
      "END compute_stocks 4.323763132095337\n"
     ]
    },
    {
     "name": "stderr",
     "output_type": "stream",
     "text": [
      " 83%|████████▎ | 10/12 [00:52<00:10,  5.47s/it]"
     ]
    },
    {
     "name": "stdout",
     "output_type": "stream",
     "text": [
      "END compute_daystocks 0.3769962787628174\n",
      "END file_done 0.025577783584594727\n",
      "END read files 0.7494351863861084\n",
      "END concat files 0.17207026481628418\n"
     ]
    },
    {
     "name": "stderr",
     "output_type": "stream",
     "text": [
      "[D 240331 23:26:31 1716370485:35] before: 322 && after: 0 applying filter\n"
     ]
    },
    {
     "name": "stdout",
     "output_type": "stream",
     "text": [
      "END compute_companies 0.024452924728393555\n",
      "END get_companies_id 0.0886678695678711\n",
      "END compute_stocks 3.322385787963867\n"
     ]
    },
    {
     "name": "stderr",
     "output_type": "stream",
     "text": [
      " 92%|█████████▏| 11/12 [00:57<00:05,  5.31s/it]"
     ]
    },
    {
     "name": "stdout",
     "output_type": "stream",
     "text": [
      "END compute_daystocks 0.33007025718688965\n",
      "END file_done 0.027953386306762695\n",
      "END read files 0.7839722633361816\n",
      "END concat files 0.18086600303649902\n"
     ]
    },
    {
     "name": "stderr",
     "output_type": "stream",
     "text": [
      "[D 240331 23:26:36 1716370485:35] before: 384 && after: 1 applying filter\n"
     ]
    },
    {
     "name": "stdout",
     "output_type": "stream",
     "text": [
      "END compute_companies 0.034935951232910156\n",
      "END get_companies_id 0.00956869125366211\n",
      "END compute_stocks 3.9072296619415283\n"
     ]
    },
    {
     "name": "stderr",
     "output_type": "stream",
     "text": [
      "100%|██████████| 12/12 [01:03<00:00,  5.28s/it]\n",
      "[D 240331 23:26:41 2419859425:43] Processing complete for compB data in 2022 in 63.419 seconds.\n",
      "[D 240331 23:26:41 2419859425:33] Loading peapme (2022) data for boursorama.\n"
     ]
    },
    {
     "name": "stdout",
     "output_type": "stream",
     "text": [
      "END compute_daystocks 0.3677549362182617\n",
      "END file_done 0.02622056007385254\n"
     ]
    },
    {
     "name": "stderr",
     "output_type": "stream",
     "text": [
      "  0%|          | 0/12 [00:00<?, ?it/s]"
     ]
    },
    {
     "name": "stdout",
     "output_type": "stream",
     "text": [
      "END read files 1.0137593746185303\n",
      "END concat files 0.3015446662902832\n"
     ]
    },
    {
     "name": "stderr",
     "output_type": "stream",
     "text": [
      "[D 240331 23:26:43 1716370485:17] peapme updated!\n",
      "[D 240331 23:26:43 1716370485:35] before: 443 && after: 1 applying filter\n"
     ]
    },
    {
     "name": "stdout",
     "output_type": "stream",
     "text": [
      "END compute_companies 0.07607436180114746\n",
      "END get_companies_id 0.010238409042358398\n",
      "END compute_stocks 8.163594007492065\n"
     ]
    },
    {
     "name": "stderr",
     "output_type": "stream",
     "text": [
      "  8%|▊         | 1/12 [00:10<01:59, 10.90s/it]"
     ]
    },
    {
     "name": "stdout",
     "output_type": "stream",
     "text": [
      "END compute_daystocks 0.9313335418701172\n",
      "END file_done 0.028673171997070312\n",
      "END read files 1.0296530723571777\n",
      "END concat files 0.31900787353515625\n"
     ]
    },
    {
     "name": "stderr",
     "output_type": "stream",
     "text": [
      "[D 240331 23:26:54 1716370485:17] peapme updated!\n",
      "[D 240331 23:26:54 1716370485:35] before: 444 && after: 3 applying filter\n"
     ]
    },
    {
     "name": "stdout",
     "output_type": "stream",
     "text": [
      "END compute_companies 0.07954263687133789\n",
      "END get_companies_id 0.009445667266845703\n",
      "END compute_stocks 8.084627151489258\n"
     ]
    },
    {
     "name": "stderr",
     "output_type": "stream",
     "text": [
      " 17%|█▋        | 2/12 [00:21<01:48, 10.88s/it]"
     ]
    },
    {
     "name": "stdout",
     "output_type": "stream",
     "text": [
      "END compute_daystocks 0.9063191413879395\n",
      "END file_done 0.026691198348999023\n",
      "END read files 1.0323526859283447\n",
      "END concat files 0.22359299659729004\n"
     ]
    },
    {
     "name": "stderr",
     "output_type": "stream",
     "text": [
      "[D 240331 23:27:04 1716370485:17] peapme updated!\n",
      "[D 240331 23:27:04 1716370485:35] before: 445 && after: 3 applying filter\n"
     ]
    },
    {
     "name": "stdout",
     "output_type": "stream",
     "text": [
      "END compute_companies 0.0769205093383789\n",
      "END get_companies_id 0.00958395004272461\n",
      "END compute_stocks 8.083158731460571\n"
     ]
    },
    {
     "name": "stderr",
     "output_type": "stream",
     "text": [
      " 25%|██▌       | 3/12 [00:32<01:37, 10.83s/it]"
     ]
    },
    {
     "name": "stdout",
     "output_type": "stream",
     "text": [
      "END compute_daystocks 0.8973233699798584\n",
      "END file_done 0.02642369270324707\n",
      "END read files 1.1064445972442627\n",
      "END concat files 0.25615644454956055\n"
     ]
    },
    {
     "name": "stderr",
     "output_type": "stream",
     "text": [
      "[D 240331 23:27:15 1716370485:17] peapme updated!\n",
      "[D 240331 23:27:15 1716370485:35] before: 579 && after: 109 applying filter\n"
     ]
    },
    {
     "name": "stdout",
     "output_type": "stream",
     "text": [
      "END compute_companies 0.09439945220947266\n",
      "END get_companies_id 0.010524511337280273\n",
      "END compute_stocks 9.241927862167358\n"
     ]
    },
    {
     "name": "stderr",
     "output_type": "stream",
     "text": [
      " 33%|███▎      | 4/12 [00:44<01:30, 11.37s/it]"
     ]
    },
    {
     "name": "stdout",
     "output_type": "stream",
     "text": [
      "END compute_daystocks 0.8773174285888672\n",
      "END file_done 0.10095906257629395\n",
      "END read files 1.2582578659057617\n",
      "END concat files 0.28957581520080566\n"
     ]
    },
    {
     "name": "stderr",
     "output_type": "stream",
     "text": [
      "[D 240331 23:27:28 1716370485:17] peapme updated!\n",
      "[D 240331 23:27:28 1716370485:35] before: 580 && after: 2 applying filter\n"
     ]
    },
    {
     "name": "stdout",
     "output_type": "stream",
     "text": [
      "END compute_companies 0.0880277156829834\n",
      "END get_companies_id 0.08597970008850098\n",
      "END compute_stocks 9.608711242675781\n"
     ]
    },
    {
     "name": "stderr",
     "output_type": "stream",
     "text": [
      " 42%|████▏     | 5/12 [00:57<01:23, 11.91s/it]"
     ]
    },
    {
     "name": "stdout",
     "output_type": "stream",
     "text": [
      "END compute_daystocks 1.0249288082122803\n",
      "END file_done 0.028936147689819336\n",
      "END read files 1.6705741882324219\n",
      "END concat files 0.26630330085754395\n"
     ]
    },
    {
     "name": "stderr",
     "output_type": "stream",
     "text": [
      "[D 240331 23:27:41 1716370485:17] peapme updated!\n",
      "[D 240331 23:27:41 1716370485:35] before: 581 && after: 6 applying filter\n"
     ]
    },
    {
     "name": "stdout",
     "output_type": "stream",
     "text": [
      "END compute_companies 0.08064103126525879\n",
      "END get_companies_id 0.009662866592407227\n",
      "END compute_stocks 8.209840536117554\n"
     ]
    },
    {
     "name": "stderr",
     "output_type": "stream",
     "text": [
      " 50%|█████     | 6/12 [01:09<01:10, 11.83s/it]"
     ]
    },
    {
     "name": "stdout",
     "output_type": "stream",
     "text": [
      "END compute_daystocks 0.9214134216308594\n",
      "END file_done 0.029671430587768555\n",
      "END read files 1.1964631080627441\n",
      "END concat files 0.36714673042297363\n"
     ]
    },
    {
     "name": "stderr",
     "output_type": "stream",
     "text": [
      "[D 240331 23:27:52 1716370485:17] peapme updated!\n",
      "[D 240331 23:27:52 1716370485:35] before: 574 && after: 5 applying filter\n"
     ]
    },
    {
     "name": "stdout",
     "output_type": "stream",
     "text": [
      "END compute_companies 0.08783626556396484\n",
      "END get_companies_id 0.00832676887512207\n",
      "END compute_stocks 8.924330234527588\n"
     ]
    },
    {
     "name": "stderr",
     "output_type": "stream",
     "text": [
      " 58%|█████▊    | 7/12 [01:21<00:59, 11.91s/it]"
     ]
    },
    {
     "name": "stdout",
     "output_type": "stream",
     "text": [
      "END compute_daystocks 0.9720385074615479\n",
      "END file_done 0.028133153915405273\n",
      "END read files 1.216881275177002\n",
      "END concat files 0.3756537437438965\n"
     ]
    },
    {
     "name": "stderr",
     "output_type": "stream",
     "text": [
      "[D 240331 23:28:04 1716370485:17] peapme updated!\n",
      "[D 240331 23:28:04 1716370485:35] before: 566 && after: 0 applying filter\n"
     ]
    },
    {
     "name": "stdout",
     "output_type": "stream",
     "text": [
      "END compute_companies 0.08308577537536621\n",
      "END get_companies_id 0.009192228317260742\n",
      "END compute_stocks 9.04450249671936\n"
     ]
    },
    {
     "name": "stderr",
     "output_type": "stream",
     "text": [
      " 67%|██████▋   | 8/12 [01:33<00:48, 12.01s/it]"
     ]
    },
    {
     "name": "stdout",
     "output_type": "stream",
     "text": [
      "END compute_daystocks 0.9515345096588135\n",
      "END file_done 0.026662349700927734\n",
      "END read files 1.1474902629852295\n",
      "END concat files 0.36038804054260254\n"
     ]
    },
    {
     "name": "stderr",
     "output_type": "stream",
     "text": [
      "[D 240331 23:28:16 1716370485:17] peapme updated!\n",
      "[D 240331 23:28:16 1716370485:35] before: 564 && after: 0 applying filter\n"
     ]
    },
    {
     "name": "stdout",
     "output_type": "stream",
     "text": [
      "END compute_companies 0.07754635810852051\n",
      "END get_companies_id 0.008855342864990234\n",
      "END compute_stocks 8.874473810195923\n"
     ]
    },
    {
     "name": "stderr",
     "output_type": "stream",
     "text": [
      " 75%|███████▌  | 9/12 [01:45<00:35, 11.99s/it]"
     ]
    },
    {
     "name": "stdout",
     "output_type": "stream",
     "text": [
      "END compute_daystocks 0.9591259956359863\n",
      "END file_done 0.028487682342529297\n",
      "END read files 1.377046823501587\n",
      "END concat files 0.3047752380371094\n"
     ]
    },
    {
     "name": "stderr",
     "output_type": "stream",
     "text": [
      "[D 240331 23:28:29 1716370485:17] peapme updated!\n",
      "[D 240331 23:28:29 1716370485:35] before: 566 && after: 2 applying filter\n"
     ]
    },
    {
     "name": "stdout",
     "output_type": "stream",
     "text": [
      "END compute_companies 0.10170626640319824\n",
      "END get_companies_id 0.00969386100769043\n",
      "END compute_stocks 11.449759244918823\n"
     ]
    },
    {
     "name": "stderr",
     "output_type": "stream",
     "text": [
      " 83%|████████▎ | 10/12 [02:00<00:25, 12.88s/it]"
     ]
    },
    {
     "name": "stdout",
     "output_type": "stream",
     "text": [
      "END compute_daystocks 1.010974645614624\n",
      "END file_done 0.029947280883789062\n",
      "END read files 1.138502597808838\n",
      "END concat files 0.2689187526702881\n"
     ]
    },
    {
     "name": "stderr",
     "output_type": "stream",
     "text": [
      "[D 240331 23:28:43 1716370485:17] peapme updated!\n",
      "[D 240331 23:28:43 1716370485:35] before: 571 && after: 4 applying filter\n"
     ]
    },
    {
     "name": "stdout",
     "output_type": "stream",
     "text": [
      "END compute_companies 0.0883030891418457\n",
      "END get_companies_id 0.008752822875976562\n",
      "END compute_stocks 9.284781217575073\n"
     ]
    },
    {
     "name": "stderr",
     "output_type": "stream",
     "text": [
      " 92%|█████████▏| 11/12 [02:12<00:12, 12.67s/it]"
     ]
    },
    {
     "name": "stdout",
     "output_type": "stream",
     "text": [
      "END compute_daystocks 0.8881242275238037\n",
      "END file_done 0.026343822479248047\n",
      "END read files 1.1814453601837158\n",
      "END concat files 0.2707366943359375\n"
     ]
    },
    {
     "name": "stderr",
     "output_type": "stream",
     "text": [
      "[D 240331 23:28:55 1716370485:17] peapme updated!\n",
      "[D 240331 23:28:55 1716370485:35] before: 631 && after: 3 applying filter\n"
     ]
    },
    {
     "name": "stdout",
     "output_type": "stream",
     "text": [
      "END compute_companies 0.09589672088623047\n",
      "END get_companies_id 0.008573055267333984\n",
      "END compute_stocks 10.720929145812988\n"
     ]
    },
    {
     "name": "stderr",
     "output_type": "stream",
     "text": [
      "100%|██████████| 12/12 [02:26<00:00, 12.20s/it]\n",
      "[D 240331 23:29:07 2419859425:43] Processing complete for peapme data in 2022 in 146.364 seconds.\n"
     ]
    },
    {
     "name": "stdout",
     "output_type": "stream",
     "text": [
      "END compute_daystocks 0.9318451881408691\n",
      "END file_done 0.027138471603393555\n"
     ]
    },
    {
     "name": "stderr",
     "output_type": "stream",
     "text": [
      "[D 240331 23:29:07 2419859425:33] Loading amsterdam (2021) data for boursorama.\n",
      "  0%|          | 0/12 [00:00<?, ?it/s]"
     ]
    },
    {
     "name": "stdout",
     "output_type": "stream",
     "text": [
      "END read files 7.187607049942017\n",
      "END concat files 1.9085652828216553\n"
     ]
    },
    {
     "name": "stderr",
     "output_type": "stream",
     "text": [
      "[D 240331 23:29:19 1716370485:35] before: 4675 && after: 52 applying filter\n"
     ]
    },
    {
     "name": "stdout",
     "output_type": "stream",
     "text": [
      "END compute_companies 0.34183216094970703\n",
      "END get_companies_id 0.008076667785644531\n",
      "END compute_stocks 60.876272678375244\n",
      "END compute_daystocks 9.840750932693481\n",
      "END file_done 0.027630329132080078\n"
     ]
    },
    {
     "name": "stderr",
     "output_type": "stream",
     "text": [
      "  8%|▊         | 1/12 [01:22<15:10, 82.78s/it]"
     ]
    },
    {
     "name": "stdout",
     "output_type": "stream",
     "text": [
      "END read files 6.463783025741577\n",
      "END concat files 1.7632834911346436\n"
     ]
    },
    {
     "name": "stderr",
     "output_type": "stream",
     "text": [
      "[D 240331 23:30:41 1716370485:35] before: 4581 && after: 59 applying filter\n"
     ]
    },
    {
     "name": "stdout",
     "output_type": "stream",
     "text": [
      "END compute_companies 0.3745245933532715\n",
      "END get_companies_id 0.008064985275268555\n",
      "END compute_stocks 72.48775625228882\n",
      "END compute_daystocks 10.504875659942627\n",
      "END file_done 0.028296709060668945\n"
     ]
    },
    {
     "name": "stderr",
     "output_type": "stream",
     "text": [
      " 17%|█▋        | 2/12 [02:57<14:55, 89.56s/it]"
     ]
    },
    {
     "name": "stdout",
     "output_type": "stream",
     "text": [
      "END read files 6.219553709030151\n",
      "END concat files 1.860288381576538\n"
     ]
    },
    {
     "name": "stderr",
     "output_type": "stream",
     "text": [
      "[D 240331 23:32:15 1716370485:35] before: 4497 && after: 44 applying filter\n"
     ]
    },
    {
     "name": "stdout",
     "output_type": "stream",
     "text": [
      "END compute_companies 0.3581840991973877\n",
      "END get_companies_id 0.011580705642700195\n",
      "END compute_stocks 60.48742890357971\n",
      "END compute_daystocks 8.874353408813477\n",
      "END file_done 0.024651288986206055\n"
     ]
    },
    {
     "name": "stderr",
     "output_type": "stream",
     "text": [
      " 25%|██▌       | 3/12 [04:17<12:48, 85.36s/it]"
     ]
    },
    {
     "name": "stdout",
     "output_type": "stream",
     "text": [
      "END read files 6.028144359588623\n",
      "END concat files 1.7755303382873535\n"
     ]
    },
    {
     "name": "stderr",
     "output_type": "stream",
     "text": [
      "[D 240331 23:33:35 1716370485:35] before: 4409 && after: 46 applying filter\n"
     ]
    },
    {
     "name": "stdout",
     "output_type": "stream",
     "text": [
      "END compute_companies 0.34444427490234375\n",
      "END get_companies_id 0.00870203971862793\n",
      "END compute_stocks 59.44501352310181\n",
      "END compute_daystocks 8.791449785232544\n",
      "END file_done 0.02878260612487793\n"
     ]
    },
    {
     "name": "stderr",
     "output_type": "stream",
     "text": [
      " 33%|███▎      | 4/12 [05:36<11:02, 82.80s/it]"
     ]
    },
    {
     "name": "stdout",
     "output_type": "stream",
     "text": [
      "END read files 6.008811950683594\n",
      "END concat files 1.768347978591919\n"
     ]
    },
    {
     "name": "stderr",
     "output_type": "stream",
     "text": [
      "[D 240331 23:34:54 1716370485:35] before: 4366 && after: 51 applying filter\n"
     ]
    },
    {
     "name": "stdout",
     "output_type": "stream",
     "text": [
      "END compute_companies 0.3601667881011963\n",
      "END get_companies_id 0.08120322227478027\n",
      "END compute_stocks 62.264429330825806\n",
      "END compute_daystocks 9.281639099121094\n",
      "END file_done 0.027910709381103516\n"
     ]
    },
    {
     "name": "stderr",
     "output_type": "stream",
     "text": [
      " 42%|████▏     | 5/12 [06:58<09:38, 82.63s/it]"
     ]
    },
    {
     "name": "stdout",
     "output_type": "stream",
     "text": [
      "END read files 5.901772737503052\n",
      "END concat files 1.719191312789917\n"
     ]
    },
    {
     "name": "stderr",
     "output_type": "stream",
     "text": [
      "[D 240331 23:36:16 1716370485:35] before: 4324 && after: 60 applying filter\n"
     ]
    },
    {
     "name": "stdout",
     "output_type": "stream",
     "text": [
      "END compute_companies 0.34691452980041504\n",
      "END get_companies_id 0.07783913612365723\n",
      "END compute_stocks 60.22638130187988\n",
      "END compute_daystocks 8.884096384048462\n",
      "END file_done 0.030536890029907227\n"
     ]
    },
    {
     "name": "stderr",
     "output_type": "stream",
     "text": [
      " 50%|█████     | 6/12 [08:18<08:09, 81.61s/it]"
     ]
    },
    {
     "name": "stdout",
     "output_type": "stream",
     "text": [
      "END read files 6.027383804321289\n",
      "END concat files 1.6399719715118408\n"
     ]
    },
    {
     "name": "stderr",
     "output_type": "stream",
     "text": [
      "[D 240331 23:37:36 1716370485:35] before: 4236 && after: 46 applying filter\n"
     ]
    },
    {
     "name": "stdout",
     "output_type": "stream",
     "text": [
      "END compute_companies 0.4296450614929199\n",
      "END get_companies_id 0.011079072952270508\n",
      "END compute_stocks 63.068580865859985\n",
      "END compute_daystocks 8.884803295135498\n",
      "END file_done 0.027919769287109375\n"
     ]
    },
    {
     "name": "stderr",
     "output_type": "stream",
     "text": [
      " 58%|█████▊    | 7/12 [09:40<06:49, 81.91s/it]"
     ]
    },
    {
     "name": "stdout",
     "output_type": "stream",
     "text": [
      "END read files 5.4209394454956055\n",
      "END concat files 1.5707430839538574\n"
     ]
    },
    {
     "name": "stderr",
     "output_type": "stream",
     "text": [
      "[D 240331 23:38:57 1716370485:35] before: 4144 && after: 28 applying filter\n"
     ]
    },
    {
     "name": "stdout",
     "output_type": "stream",
     "text": [
      "END compute_companies 0.2995154857635498\n",
      "END get_companies_id 0.008838176727294922\n",
      "END compute_stocks 53.995102643966675\n",
      "END compute_daystocks 8.711082696914673\n",
      "END file_done 0.09440302848815918\n"
     ]
    },
    {
     "name": "stderr",
     "output_type": "stream",
     "text": [
      " 67%|██████▋   | 8/12 [10:53<05:15, 78.84s/it]"
     ]
    },
    {
     "name": "stdout",
     "output_type": "stream",
     "text": [
      "END read files 5.7581353187561035\n",
      "END concat files 1.5864121913909912\n"
     ]
    },
    {
     "name": "stderr",
     "output_type": "stream",
     "text": [
      "[D 240331 23:40:10 1716370485:35] before: 4086 && after: 37 applying filter\n"
     ]
    },
    {
     "name": "stdout",
     "output_type": "stream",
     "text": [
      "END compute_companies 0.399808406829834\n",
      "END get_companies_id 0.012148380279541016\n",
      "END compute_stocks 60.33083391189575\n",
      "END compute_daystocks 8.661554336547852\n",
      "END file_done 0.027927875518798828\n"
     ]
    },
    {
     "name": "stderr",
     "output_type": "stream",
     "text": [
      " 75%|███████▌  | 9/12 [12:12<03:56, 78.91s/it]"
     ]
    },
    {
     "name": "stdout",
     "output_type": "stream",
     "text": [
      "END read files 5.881780624389648\n",
      "END concat files 1.6432595252990723\n"
     ]
    },
    {
     "name": "stderr",
     "output_type": "stream",
     "text": [
      "[D 240331 23:41:30 1716370485:35] before: 3999 && after: 24 applying filter\n"
     ]
    },
    {
     "name": "stdout",
     "output_type": "stream",
     "text": [
      "END compute_companies 0.39408040046691895\n",
      "END get_companies_id 0.008076667785644531\n",
      "END compute_stocks 78.48289608955383\n",
      "END compute_daystocks 9.300893545150757\n",
      "END file_done 0.026568889617919922\n"
     ]
    },
    {
     "name": "stderr",
     "output_type": "stream",
     "text": [
      " 83%|████████▎ | 10/12 [13:50<02:49, 84.88s/it]"
     ]
    },
    {
     "name": "stdout",
     "output_type": "stream",
     "text": [
      "END read files 4.876513481140137\n",
      "END concat files 1.3576295375823975\n"
     ]
    },
    {
     "name": "stderr",
     "output_type": "stream",
     "text": [
      "[D 240331 23:43:06 1716370485:35] before: 3812 && after: 25 applying filter\n"
     ]
    },
    {
     "name": "stdout",
     "output_type": "stream",
     "text": [
      "END compute_companies 0.30591893196105957\n",
      "END get_companies_id 0.012545347213745117\n",
      "END compute_stocks 57.09644365310669\n",
      "END compute_daystocks 7.728333950042725\n",
      "END file_done 0.02548503875732422\n"
     ]
    },
    {
     "name": "stderr",
     "output_type": "stream",
     "text": [
      " 92%|█████████▏| 11/12 [15:03<01:21, 81.38s/it]"
     ]
    },
    {
     "name": "stdout",
     "output_type": "stream",
     "text": [
      "END read files 5.55594539642334\n",
      "END concat files 1.523655652999878\n"
     ]
    },
    {
     "name": "stderr",
     "output_type": "stream",
     "text": [
      "[D 240331 23:44:21 1716370485:35] before: 3710 && after: 43 applying filter\n"
     ]
    },
    {
     "name": "stdout",
     "output_type": "stream",
     "text": [
      "END compute_companies 0.29871177673339844\n",
      "END get_companies_id 0.009408235549926758\n",
      "END compute_stocks 53.62318015098572\n",
      "END compute_daystocks 6.91897177696228\n",
      "END file_done 0.02561211585998535\n"
     ]
    },
    {
     "name": "stderr",
     "output_type": "stream",
     "text": [
      "100%|██████████| 12/12 [16:14<00:00, 81.17s/it]\n",
      "[D 240331 23:45:21 2419859425:43] Processing complete for amsterdam data in 2021 in 974.034 seconds.\n",
      "[D 240331 23:45:21 2419859425:33] Loading compA (2021) data for boursorama.\n",
      "  0%|          | 0/12 [00:00<?, ?it/s]"
     ]
    },
    {
     "name": "stdout",
     "output_type": "stream",
     "text": [
      "END read files 0.9020411968231201\n",
      "END concat files 0.22210264205932617\n"
     ]
    },
    {
     "name": "stderr",
     "output_type": "stream",
     "text": [
      "[D 240331 23:45:23 1716370485:35] before: 332 && after: 1 applying filter\n"
     ]
    },
    {
     "name": "stdout",
     "output_type": "stream",
     "text": [
      "END compute_companies 0.06651949882507324\n",
      "END get_companies_id 0.09034562110900879\n",
      "END compute_stocks 8.782824516296387\n"
     ]
    },
    {
     "name": "stderr",
     "output_type": "stream",
     "text": [
      "  8%|▊         | 1/12 [00:10<02:00, 10.93s/it]"
     ]
    },
    {
     "name": "stdout",
     "output_type": "stream",
     "text": [
      "END compute_daystocks 0.45566582679748535\n",
      "END file_done 0.02807140350341797\n",
      "END read files 0.9671616554260254\n",
      "END concat files 0.20025897026062012\n"
     ]
    },
    {
     "name": "stderr",
     "output_type": "stream",
     "text": [
      "[D 240331 23:45:34 1716370485:35] before: 333 && after: 3 applying filter\n"
     ]
    },
    {
     "name": "stdout",
     "output_type": "stream",
     "text": [
      "END compute_companies 0.07516956329345703\n",
      "END get_companies_id 0.010557174682617188\n",
      "END compute_stocks 8.724884033203125\n"
     ]
    },
    {
     "name": "stderr",
     "output_type": "stream",
     "text": [
      " 17%|█▋        | 2/12 [00:21<01:49, 10.90s/it]"
     ]
    },
    {
     "name": "stdout",
     "output_type": "stream",
     "text": [
      "END compute_daystocks 0.46803760528564453\n",
      "END file_done 0.030119895935058594\n",
      "END read files 0.8851087093353271\n",
      "END concat files 0.30616116523742676\n"
     ]
    },
    {
     "name": "stderr",
     "output_type": "stream",
     "text": [
      "[D 240331 23:45:45 1716370485:35] before: 333 && after: 0 applying filter\n"
     ]
    },
    {
     "name": "stdout",
     "output_type": "stream",
     "text": [
      "END compute_companies 0.06238245964050293\n",
      "END get_companies_id 0.011398792266845703\n",
      "END compute_stocks 8.29229736328125\n"
     ]
    },
    {
     "name": "stderr",
     "output_type": "stream",
     "text": [
      " 25%|██▌       | 3/12 [00:32<01:35, 10.67s/it]"
     ]
    },
    {
     "name": "stdout",
     "output_type": "stream",
     "text": [
      "END compute_daystocks 0.4159574508666992\n",
      "END file_done 0.026998519897460938\n",
      "END read files 0.9631547927856445\n",
      "END concat files 0.2117617130279541\n"
     ]
    },
    {
     "name": "stderr",
     "output_type": "stream",
     "text": [
      "[D 240331 23:45:55 1716370485:35] before: 328 && after: 1 applying filter\n"
     ]
    },
    {
     "name": "stdout",
     "output_type": "stream",
     "text": [
      "END compute_companies 0.07057714462280273\n",
      "END get_companies_id 0.013118267059326172\n",
      "END compute_stocks 8.726638078689575\n"
     ]
    },
    {
     "name": "stderr",
     "output_type": "stream",
     "text": [
      " 33%|███▎      | 4/12 [00:42<01:25, 10.71s/it]"
     ]
    },
    {
     "name": "stdout",
     "output_type": "stream",
     "text": [
      "END compute_daystocks 0.353989839553833\n",
      "END file_done 0.025496721267700195\n",
      "END read files 0.9238147735595703\n",
      "END concat files 0.20057296752929688\n"
     ]
    },
    {
     "name": "stderr",
     "output_type": "stream",
     "text": [
      "[D 240331 23:46:06 1716370485:35] before: 326 && after: 1 applying filter\n"
     ]
    },
    {
     "name": "stdout",
     "output_type": "stream",
     "text": [
      "END compute_companies 0.06661653518676758\n",
      "END get_companies_id 0.011260747909545898\n",
      "END compute_stocks 8.142752170562744\n"
     ]
    },
    {
     "name": "stderr",
     "output_type": "stream",
     "text": [
      " 42%|████▏     | 5/12 [00:53<01:13, 10.53s/it]"
     ]
    },
    {
     "name": "stdout",
     "output_type": "stream",
     "text": [
      "END compute_daystocks 0.4420151710510254\n",
      "END file_done 0.026336669921875\n",
      "END read files 0.9376950263977051\n",
      "END concat files 0.1841123104095459\n"
     ]
    },
    {
     "name": "stderr",
     "output_type": "stream",
     "text": [
      "[D 240331 23:46:16 1716370485:35] before: 326 && after: 1 applying filter\n"
     ]
    },
    {
     "name": "stdout",
     "output_type": "stream",
     "text": [
      "END compute_companies 0.06583285331726074\n",
      "END get_companies_id 0.01215362548828125\n",
      "END compute_stocks 8.411287307739258\n"
     ]
    },
    {
     "name": "stderr",
     "output_type": "stream",
     "text": [
      " 50%|█████     | 6/12 [01:03<01:02, 10.47s/it]"
     ]
    },
    {
     "name": "stdout",
     "output_type": "stream",
     "text": [
      "END compute_daystocks 0.3518040180206299\n",
      "END file_done 0.0254366397857666\n",
      "END read files 0.9044959545135498\n",
      "END concat files 0.19508576393127441\n"
     ]
    },
    {
     "name": "stderr",
     "output_type": "stream",
     "text": [
      "[D 240331 23:46:26 1716370485:35] before: 324 && after: 2 applying filter\n"
     ]
    },
    {
     "name": "stdout",
     "output_type": "stream",
     "text": [
      "END compute_companies 0.06647348403930664\n",
      "END get_companies_id 0.011893749237060547\n",
      "END compute_stocks 8.378169775009155\n"
     ]
    },
    {
     "name": "stderr",
     "output_type": "stream",
     "text": [
      " 58%|█████▊    | 7/12 [01:13<00:52, 10.45s/it]"
     ]
    },
    {
     "name": "stdout",
     "output_type": "stream",
     "text": [
      "END compute_daystocks 0.43212223052978516\n",
      "END file_done 0.024979114532470703\n",
      "END read files 0.8307411670684814\n",
      "END concat files 0.25392818450927734\n"
     ]
    },
    {
     "name": "stderr",
     "output_type": "stream",
     "text": [
      "[D 240331 23:46:37 1716370485:35] before: 323 && after: 1 applying filter\n"
     ]
    },
    {
     "name": "stdout",
     "output_type": "stream",
     "text": [
      "END compute_companies 0.08069181442260742\n",
      "END get_companies_id 0.015646696090698242\n",
      "END compute_stocks 8.138607025146484\n"
     ]
    },
    {
     "name": "stderr",
     "output_type": "stream",
     "text": [
      " 67%|██████▋   | 8/12 [01:24<00:41, 10.33s/it]"
     ]
    },
    {
     "name": "stdout",
     "output_type": "stream",
     "text": [
      "END compute_daystocks 0.3599116802215576\n",
      "END file_done 0.026185989379882812\n",
      "END read files 0.9347233772277832\n",
      "END concat files 0.1875605583190918\n"
     ]
    },
    {
     "name": "stderr",
     "output_type": "stream",
     "text": [
      "[D 240331 23:46:47 1716370485:35] before: 322 && after: 2 applying filter\n"
     ]
    },
    {
     "name": "stdout",
     "output_type": "stream",
     "text": [
      "END compute_companies 0.07234525680541992\n",
      "END get_companies_id 0.01466226577758789\n",
      "END compute_stocks 7.9936842918396\n"
     ]
    },
    {
     "name": "stderr",
     "output_type": "stream",
     "text": [
      " 75%|███████▌  | 9/12 [01:34<00:30, 10.24s/it]"
     ]
    },
    {
     "name": "stdout",
     "output_type": "stream",
     "text": [
      "END compute_daystocks 0.43245744705200195\n",
      "END file_done 0.02886343002319336\n",
      "END read files 0.9801990985870361\n",
      "END concat files 0.2028484344482422\n"
     ]
    },
    {
     "name": "stderr",
     "output_type": "stream",
     "text": [
      "[D 240331 23:46:57 1716370485:35] before: 322 && after: 1 applying filter\n"
     ]
    },
    {
     "name": "stdout",
     "output_type": "stream",
     "text": [
      "END compute_companies 0.06891036033630371\n",
      "END get_companies_id 0.013055086135864258\n",
      "END compute_stocks 9.02198600769043\n"
     ]
    },
    {
     "name": "stderr",
     "output_type": "stream",
     "text": [
      " 83%|████████▎ | 10/12 [01:45<00:21, 10.52s/it]"
     ]
    },
    {
     "name": "stdout",
     "output_type": "stream",
     "text": [
      "END compute_daystocks 0.46295762062072754\n",
      "END file_done 0.028736591339111328\n",
      "END read files 0.7905042171478271\n",
      "END concat files 0.2593564987182617\n"
     ]
    },
    {
     "name": "stderr",
     "output_type": "stream",
     "text": [
      "[D 240331 23:47:08 1716370485:35] before: 318 && after: 0 applying filter\n"
     ]
    },
    {
     "name": "stdout",
     "output_type": "stream",
     "text": [
      "END compute_companies 0.059625864028930664\n",
      "END get_companies_id 0.011253595352172852\n",
      "END compute_stocks 7.742924690246582\n"
     ]
    },
    {
     "name": "stderr",
     "output_type": "stream",
     "text": [
      " 92%|█████████▏| 11/12 [01:54<00:10, 10.26s/it]"
     ]
    },
    {
     "name": "stdout",
     "output_type": "stream",
     "text": [
      "END compute_daystocks 0.41112256050109863\n",
      "END file_done 0.0265963077545166\n",
      "END read files 0.833636999130249\n",
      "END concat files 0.1968398094177246\n"
     ]
    },
    {
     "name": "stderr",
     "output_type": "stream",
     "text": [
      "[D 240331 23:47:18 1716370485:35] before: 326 && after: 0 applying filter\n"
     ]
    },
    {
     "name": "stdout",
     "output_type": "stream",
     "text": [
      "END compute_companies 0.05918121337890625\n",
      "END get_companies_id 0.08646678924560547\n",
      "END compute_stocks 8.151954412460327\n"
     ]
    },
    {
     "name": "stderr",
     "output_type": "stream",
     "text": [
      "100%|██████████| 12/12 [02:05<00:00, 10.42s/it]\n",
      "[D 240331 23:47:26 2419859425:43] Processing complete for compA data in 2021 in 125.015 seconds.\n",
      "[D 240331 23:47:26 2419859425:33] Loading compB (2021) data for boursorama.\n"
     ]
    },
    {
     "name": "stdout",
     "output_type": "stream",
     "text": [
      "END compute_daystocks 0.4236023426055908\n",
      "END file_done 0.02670431137084961\n"
     ]
    },
    {
     "name": "stderr",
     "output_type": "stream",
     "text": [
      "  0%|          | 0/12 [00:00<?, ?it/s]"
     ]
    },
    {
     "name": "stdout",
     "output_type": "stream",
     "text": [
      "END read files 0.9554004669189453\n",
      "END concat files 0.20226716995239258\n"
     ]
    },
    {
     "name": "stderr",
     "output_type": "stream",
     "text": [
      "[D 240331 23:47:28 1716370485:35] before: 298 && after: 0 applying filter\n"
     ]
    },
    {
     "name": "stdout",
     "output_type": "stream",
     "text": [
      "END compute_companies 0.03432774543762207\n",
      "END get_companies_id 0.008939027786254883\n",
      "END compute_stocks 4.112078428268433\n"
     ]
    },
    {
     "name": "stderr",
     "output_type": "stream",
     "text": [
      "  8%|▊         | 1/12 [00:06<01:06,  6.07s/it]"
     ]
    },
    {
     "name": "stdout",
     "output_type": "stream",
     "text": [
      "END compute_daystocks 0.44271087646484375\n",
      "END file_done 0.031224966049194336\n",
      "END read files 0.898688793182373\n",
      "END concat files 0.27820920944213867\n"
     ]
    },
    {
     "name": "stderr",
     "output_type": "stream",
     "text": [
      "[D 240331 23:47:34 1716370485:35] before: 298 && after: 1 applying filter\n"
     ]
    },
    {
     "name": "stdout",
     "output_type": "stream",
     "text": [
      "END compute_companies 0.05509519577026367\n",
      "END get_companies_id 0.011590242385864258\n",
      "END compute_stocks 4.302562952041626\n"
     ]
    },
    {
     "name": "stderr",
     "output_type": "stream",
     "text": [
      " 17%|█▋        | 2/12 [00:12<01:01,  6.17s/it]"
     ]
    },
    {
     "name": "stdout",
     "output_type": "stream",
     "text": [
      "END compute_daystocks 0.3919095993041992\n",
      "END file_done 0.0366058349609375\n",
      "END read files 0.8080241680145264\n",
      "END concat files 0.20815253257751465\n"
     ]
    },
    {
     "name": "stderr",
     "output_type": "stream",
     "text": [
      "[D 240331 23:47:40 1716370485:35] before: 298 && after: 0 applying filter\n"
     ]
    },
    {
     "name": "stdout",
     "output_type": "stream",
     "text": [
      "END compute_companies 0.039632558822631836\n",
      "END get_companies_id 0.0905604362487793\n",
      "END compute_stocks 4.141139507293701\n"
     ]
    },
    {
     "name": "stderr",
     "output_type": "stream",
     "text": [
      " 25%|██▌       | 3/12 [00:18<00:54,  6.07s/it]"
     ]
    },
    {
     "name": "stdout",
     "output_type": "stream",
     "text": [
      "END compute_daystocks 0.28732991218566895\n",
      "END file_done 0.0980522632598877\n",
      "END read files 0.8928756713867188\n",
      "END concat files 0.19129729270935059\n"
     ]
    },
    {
     "name": "stderr",
     "output_type": "stream",
     "text": [
      "[D 240331 23:47:46 1716370485:35] before: 296 && after: 0 applying filter\n"
     ]
    },
    {
     "name": "stdout",
     "output_type": "stream",
     "text": [
      "END compute_companies 0.031177997589111328\n",
      "END get_companies_id 0.07926464080810547\n",
      "END compute_stocks 4.1958887577056885\n"
     ]
    },
    {
     "name": "stderr",
     "output_type": "stream",
     "text": [
      " 33%|███▎      | 4/12 [00:24<00:48,  6.03s/it]"
     ]
    },
    {
     "name": "stdout",
     "output_type": "stream",
     "text": [
      "END compute_daystocks 0.3009157180786133\n",
      "END file_done 0.029538631439208984\n",
      "END read files 0.9144666194915771\n",
      "END concat files 0.20939278602600098\n"
     ]
    },
    {
     "name": "stderr",
     "output_type": "stream",
     "text": [
      "[D 240331 23:47:52 1716370485:35] before: 295 && after: 0 applying filter\n"
     ]
    },
    {
     "name": "stdout",
     "output_type": "stream",
     "text": [
      "END compute_companies 0.048479318618774414\n",
      "END get_companies_id 0.009042978286743164\n",
      "END compute_stocks 3.97710919380188\n"
     ]
    },
    {
     "name": "stderr",
     "output_type": "stream",
     "text": [
      " 42%|████▏     | 5/12 [00:30<00:41,  5.96s/it]"
     ]
    },
    {
     "name": "stdout",
     "output_type": "stream",
     "text": [
      "END compute_daystocks 0.3721153736114502\n",
      "END file_done 0.0288238525390625\n",
      "END read files 0.828819990158081\n",
      "END concat files 0.18068814277648926\n"
     ]
    },
    {
     "name": "stderr",
     "output_type": "stream",
     "text": [
      "[D 240331 23:47:58 1716370485:35] before: 296 && after: 1 applying filter\n"
     ]
    },
    {
     "name": "stdout",
     "output_type": "stream",
     "text": [
      "END compute_companies 0.03618001937866211\n",
      "END get_companies_id 0.08219718933105469\n",
      "END compute_stocks 4.0888261795043945\n"
     ]
    },
    {
     "name": "stderr",
     "output_type": "stream",
     "text": [
      " 50%|█████     | 6/12 [00:35<00:35,  5.93s/it]"
     ]
    },
    {
     "name": "stdout",
     "output_type": "stream",
     "text": [
      "END compute_daystocks 0.3641796112060547\n",
      "END file_done 0.028547048568725586\n",
      "END read files 0.9005646705627441\n",
      "END concat files 0.17672228813171387\n"
     ]
    },
    {
     "name": "stderr",
     "output_type": "stream",
     "text": [
      "[D 240331 23:48:04 1716370485:35] before: 300 && after: 2 applying filter\n"
     ]
    },
    {
     "name": "stdout",
     "output_type": "stream",
     "text": [
      "END compute_companies 0.039110422134399414\n",
      "END get_companies_id 0.008756160736083984\n",
      "END compute_stocks 4.215696573257446\n"
     ]
    },
    {
     "name": "stderr",
     "output_type": "stream",
     "text": [
      " 58%|█████▊    | 7/12 [00:41<00:29,  5.92s/it]"
     ]
    },
    {
     "name": "stdout",
     "output_type": "stream",
     "text": [
      "END compute_daystocks 0.28082942962646484\n",
      "END file_done 0.025719165802001953\n",
      "END read files 0.8490362167358398\n",
      "END concat files 0.1688241958618164\n"
     ]
    },
    {
     "name": "stderr",
     "output_type": "stream",
     "text": [
      "[D 240331 23:48:09 1716370485:35] before: 290 && after: 0 applying filter\n"
     ]
    },
    {
     "name": "stdout",
     "output_type": "stream",
     "text": [
      "END compute_companies 0.03209829330444336\n",
      "END get_companies_id 0.008103132247924805\n",
      "END compute_stocks 4.045199394226074\n"
     ]
    },
    {
     "name": "stderr",
     "output_type": "stream",
     "text": [
      " 67%|██████▋   | 8/12 [00:47<00:23,  5.86s/it]"
     ]
    },
    {
     "name": "stdout",
     "output_type": "stream",
     "text": [
      "END compute_daystocks 0.35666418075561523\n",
      "END file_done 0.027771949768066406\n",
      "END read files 0.8050706386566162\n",
      "END concat files 0.261760950088501\n"
     ]
    },
    {
     "name": "stderr",
     "output_type": "stream",
     "text": [
      "[D 240331 23:48:15 1716370485:35] before: 287 && after: 0 applying filter\n"
     ]
    },
    {
     "name": "stdout",
     "output_type": "stream",
     "text": [
      "END compute_companies 0.029822349548339844\n",
      "END get_companies_id 0.008539199829101562\n",
      "END compute_stocks 4.518305778503418\n"
     ]
    },
    {
     "name": "stderr",
     "output_type": "stream",
     "text": [
      " 75%|███████▌  | 9/12 [00:53<00:17,  6.00s/it]"
     ]
    },
    {
     "name": "stdout",
     "output_type": "stream",
     "text": [
      "END compute_daystocks 0.3928189277648926\n",
      "END file_done 0.03126978874206543\n",
      "END read files 0.8876056671142578\n",
      "END concat files 0.3081657886505127\n"
     ]
    },
    {
     "name": "stderr",
     "output_type": "stream",
     "text": [
      "[D 240331 23:48:22 1716370485:35] before: 287 && after: 0 applying filter\n"
     ]
    },
    {
     "name": "stdout",
     "output_type": "stream",
     "text": [
      "END compute_companies 0.04320859909057617\n",
      "END get_companies_id 0.011869430541992188\n",
      "END compute_stocks 5.075811386108398\n"
     ]
    },
    {
     "name": "stderr",
     "output_type": "stream",
     "text": [
      " 83%|████████▎ | 10/12 [01:00<00:12,  6.32s/it]"
     ]
    },
    {
     "name": "stdout",
     "output_type": "stream",
     "text": [
      "END compute_daystocks 0.39220643043518066\n",
      "END file_done 0.03102397918701172\n",
      "END read files 0.8398785591125488\n",
      "END concat files 0.1833817958831787\n"
     ]
    },
    {
     "name": "stderr",
     "output_type": "stream",
     "text": [
      "[D 240331 23:48:29 1716370485:35] before: 288 && after: 0 applying filter\n"
     ]
    },
    {
     "name": "stdout",
     "output_type": "stream",
     "text": [
      "END compute_companies 0.036754608154296875\n",
      "END get_companies_id 0.011430740356445312\n",
      "END compute_stocks 4.558688402175903\n"
     ]
    },
    {
     "name": "stderr",
     "output_type": "stream",
     "text": [
      " 92%|█████████▏| 11/12 [01:07<00:06,  6.31s/it]"
     ]
    },
    {
     "name": "stdout",
     "output_type": "stream",
     "text": [
      "END compute_daystocks 0.3616950511932373\n",
      "END file_done 0.025305509567260742\n",
      "END read files 0.7986581325531006\n",
      "END concat files 0.18293046951293945\n"
     ]
    },
    {
     "name": "stderr",
     "output_type": "stream",
     "text": [
      "[D 240331 23:48:35 1716370485:35] before: 296 && after: 10 applying filter\n"
     ]
    },
    {
     "name": "stdout",
     "output_type": "stream",
     "text": [
      "END compute_companies 0.042536020278930664\n",
      "END get_companies_id 0.008883237838745117\n",
      "END compute_stocks 4.153786897659302\n"
     ]
    },
    {
     "name": "stderr",
     "output_type": "stream",
     "text": [
      "100%|██████████| 12/12 [01:13<00:00,  6.10s/it]\n",
      "[D 240331 23:48:40 2419859425:43] Processing complete for compB data in 2021 in 73.148 seconds.\n",
      "[D 240331 23:48:40 2419859425:33] Loading peapme (2021) data for boursorama.\n"
     ]
    },
    {
     "name": "stdout",
     "output_type": "stream",
     "text": [
      "END compute_daystocks 0.4002683162689209\n",
      "END file_done 0.028525829315185547\n"
     ]
    },
    {
     "name": "stderr",
     "output_type": "stream",
     "text": [
      "  0%|          | 0/12 [00:00<?, ?it/s]"
     ]
    },
    {
     "name": "stdout",
     "output_type": "stream",
     "text": [
      "END read files 1.2751469612121582\n",
      "END concat files 0.26709794998168945\n"
     ]
    },
    {
     "name": "stderr",
     "output_type": "stream",
     "text": [
      "[D 240331 23:48:42 1716370485:17] peapme updated!\n",
      "[D 240331 23:48:42 1716370485:35] before: 554 && after: 1 applying filter\n"
     ]
    },
    {
     "name": "stdout",
     "output_type": "stream",
     "text": [
      "END compute_companies 0.10186910629272461\n",
      "END get_companies_id 0.008795499801635742\n",
      "END compute_stocks 12.019984006881714\n"
     ]
    },
    {
     "name": "stderr",
     "output_type": "stream",
     "text": [
      "  8%|▊         | 1/12 [00:15<02:49, 15.40s/it]"
     ]
    },
    {
     "name": "stdout",
     "output_type": "stream",
     "text": [
      "END compute_daystocks 1.1942598819732666\n",
      "END file_done 0.03757476806640625\n",
      "END read files 1.3938024044036865\n",
      "END concat files 0.30887818336486816\n"
     ]
    },
    {
     "name": "stderr",
     "output_type": "stream",
     "text": [
      "[D 240331 23:48:57 1716370485:17] peapme updated!\n",
      "[D 240331 23:48:57 1716370485:35] before: 548 && after: 0 applying filter\n"
     ]
    },
    {
     "name": "stdout",
     "output_type": "stream",
     "text": [
      "END compute_companies 0.10906744003295898\n",
      "END get_companies_id 0.010849237442016602\n",
      "END compute_stocks 12.564333438873291\n"
     ]
    },
    {
     "name": "stderr",
     "output_type": "stream",
     "text": [
      " 17%|█▋        | 2/12 [00:31<02:37, 15.75s/it]"
     ]
    },
    {
     "name": "stdout",
     "output_type": "stream",
     "text": [
      "END compute_daystocks 1.013749122619629\n",
      "END file_done 0.0263369083404541\n",
      "END read files 1.191678524017334\n",
      "END concat files 0.26072025299072266\n"
     ]
    },
    {
     "name": "stderr",
     "output_type": "stream",
     "text": [
      "[D 240331 23:49:13 1716370485:17] peapme updated!\n",
      "[D 240331 23:49:13 1716370485:35] before: 549 && after: 3 applying filter\n"
     ]
    },
    {
     "name": "stdout",
     "output_type": "stream",
     "text": [
      "END compute_companies 0.09400391578674316\n",
      "END get_companies_id 0.01019430160522461\n",
      "END compute_stocks 10.707631826400757\n"
     ]
    },
    {
     "name": "stderr",
     "output_type": "stream",
     "text": [
      " 25%|██▌       | 3/12 [00:45<02:13, 14.82s/it]"
     ]
    },
    {
     "name": "stdout",
     "output_type": "stream",
     "text": [
      "END compute_daystocks 0.9344160556793213\n",
      "END file_done 0.026673316955566406\n",
      "END read files 1.1750056743621826\n",
      "END concat files 0.3711249828338623\n"
     ]
    },
    {
     "name": "stderr",
     "output_type": "stream",
     "text": [
      "[D 240331 23:49:27 1716370485:17] peapme updated!\n",
      "[D 240331 23:49:27 1716370485:35] before: 544 && after: 3 applying filter\n"
     ]
    },
    {
     "name": "stdout",
     "output_type": "stream",
     "text": [
      "END compute_companies 0.10191607475280762\n",
      "END get_companies_id 0.009308099746704102\n",
      "END compute_stocks 11.182015895843506\n"
     ]
    },
    {
     "name": "stderr",
     "output_type": "stream",
     "text": [
      " 33%|███▎      | 4/12 [00:59<01:57, 14.67s/it]"
     ]
    },
    {
     "name": "stdout",
     "output_type": "stream",
     "text": [
      "END compute_daystocks 1.0115697383880615\n",
      "END file_done 0.029532194137573242\n",
      "END read files 1.2483751773834229\n",
      "END concat files 0.2938039302825928\n"
     ]
    },
    {
     "name": "stderr",
     "output_type": "stream",
     "text": [
      "[D 240331 23:49:41 1716370485:17] peapme updated!\n",
      "[D 240331 23:49:41 1716370485:35] before: 537 && after: 3 applying filter\n"
     ]
    },
    {
     "name": "stdout",
     "output_type": "stream",
     "text": [
      "END compute_companies 0.1026754379272461\n",
      "END get_companies_id 0.008774518966674805\n",
      "END compute_stocks 10.486745357513428\n"
     ]
    },
    {
     "name": "stderr",
     "output_type": "stream",
     "text": [
      " 42%|████▏     | 5/12 [01:13<01:40, 14.33s/it]"
     ]
    },
    {
     "name": "stdout",
     "output_type": "stream",
     "text": [
      "END compute_daystocks 1.022921085357666\n",
      "END file_done 0.02809929847717285\n",
      "END read files 1.2028741836547852\n",
      "END concat files 0.3686823844909668\n"
     ]
    },
    {
     "name": "stderr",
     "output_type": "stream",
     "text": [
      "[D 240331 23:49:55 1716370485:17] peapme updated!\n",
      "[D 240331 23:49:55 1716370485:35] before: 539 && after: 3 applying filter\n"
     ]
    },
    {
     "name": "stdout",
     "output_type": "stream",
     "text": [
      "END compute_companies 0.09813451766967773\n",
      "END get_companies_id 0.011696338653564453\n",
      "END compute_stocks 10.990541934967041\n"
     ]
    },
    {
     "name": "stderr",
     "output_type": "stream",
     "text": [
      " 50%|█████     | 6/12 [01:27<01:25, 14.30s/it]"
     ]
    },
    {
     "name": "stdout",
     "output_type": "stream",
     "text": [
      "END compute_daystocks 0.9966862201690674\n",
      "END file_done 0.028967618942260742\n",
      "END read files 1.2857463359832764\n",
      "END concat files 0.2920956611633301\n"
     ]
    },
    {
     "name": "stderr",
     "output_type": "stream",
     "text": [
      "[D 240331 23:50:09 1716370485:17] peapme updated!\n",
      "[D 240331 23:50:09 1716370485:35] before: 549 && after: 6 applying filter\n"
     ]
    },
    {
     "name": "stdout",
     "output_type": "stream",
     "text": [
      "END compute_companies 0.1015310287475586\n",
      "END get_companies_id 0.009875059127807617\n",
      "END compute_stocks 11.513317823410034\n"
     ]
    },
    {
     "name": "stderr",
     "output_type": "stream",
     "text": [
      " 58%|█████▊    | 7/12 [01:42<01:12, 14.48s/it]"
     ]
    },
    {
     "name": "stdout",
     "output_type": "stream",
     "text": [
      "END compute_daystocks 1.0455138683319092\n",
      "END file_done 0.029597043991088867\n",
      "END read files 1.1660327911376953\n",
      "END concat files 0.36704540252685547\n"
     ]
    },
    {
     "name": "stderr",
     "output_type": "stream",
     "text": [
      "[D 240331 23:50:24 1716370485:17] peapme updated!\n",
      "[D 240331 23:50:24 1716370485:35] before: 527 && after: 0 applying filter\n"
     ]
    },
    {
     "name": "stdout",
     "output_type": "stream",
     "text": [
      "END compute_companies 0.10015368461608887\n",
      "END get_companies_id 0.01072072982788086\n",
      "END compute_stocks 11.38844633102417\n"
     ]
    },
    {
     "name": "stderr",
     "output_type": "stream",
     "text": [
      " 67%|██████▋   | 8/12 [01:56<00:58, 14.50s/it]"
     ]
    },
    {
     "name": "stdout",
     "output_type": "stream",
     "text": [
      "END compute_daystocks 0.955021858215332\n",
      "END file_done 0.027450084686279297\n",
      "END read files 1.1428556442260742\n",
      "END concat files 0.3628840446472168\n"
     ]
    },
    {
     "name": "stderr",
     "output_type": "stream",
     "text": [
      "[D 240331 23:50:39 1716370485:17] peapme updated!\n",
      "[D 240331 23:50:39 1716370485:35] before: 519 && after: 1 applying filter\n"
     ]
    },
    {
     "name": "stdout",
     "output_type": "stream",
     "text": [
      "END compute_companies 0.10098814964294434\n",
      "END get_companies_id 0.010083913803100586\n",
      "END compute_stocks 11.063109874725342\n"
     ]
    },
    {
     "name": "stderr",
     "output_type": "stream",
     "text": [
      " 75%|███████▌  | 9/12 [02:11<00:43, 14.41s/it]"
     ]
    },
    {
     "name": "stdout",
     "output_type": "stream",
     "text": [
      "END compute_daystocks 0.9476604461669922\n",
      "END file_done 0.027906179428100586\n",
      "END read files 1.3573784828186035\n",
      "END concat files 0.31090784072875977\n"
     ]
    },
    {
     "name": "stderr",
     "output_type": "stream",
     "text": [
      "[D 240331 23:50:53 1716370485:17] peapme updated!\n",
      "[D 240331 23:50:53 1716370485:35] before: 518 && after: 3 applying filter\n"
     ]
    },
    {
     "name": "stdout",
     "output_type": "stream",
     "text": [
      "END compute_companies 0.12057638168334961\n",
      "END get_companies_id 0.009788036346435547\n",
      "END compute_stocks 13.121158361434937\n"
     ]
    },
    {
     "name": "stderr",
     "output_type": "stream",
     "text": [
      " 83%|████████▎ | 10/12 [02:27<00:30, 15.08s/it]"
     ]
    },
    {
     "name": "stdout",
     "output_type": "stream",
     "text": [
      "END compute_daystocks 1.0259013175964355\n",
      "END file_done 0.029880762100219727\n",
      "END read files 1.149618148803711\n",
      "END concat files 0.29306507110595703\n"
     ]
    },
    {
     "name": "stderr",
     "output_type": "stream",
     "text": [
      "[D 240331 23:51:09 1716370485:17] peapme updated!\n",
      "[D 240331 23:51:09 1716370485:35] before: 519 && after: 3 applying filter\n"
     ]
    },
    {
     "name": "stdout",
     "output_type": "stream",
     "text": [
      "END compute_companies 0.11611461639404297\n",
      "END get_companies_id 0.011986970901489258\n",
      "END compute_stocks 12.269500255584717\n"
     ]
    },
    {
     "name": "stderr",
     "output_type": "stream",
     "text": [
      " 92%|█████████▏| 11/12 [02:43<00:15, 15.19s/it]"
     ]
    },
    {
     "name": "stdout",
     "output_type": "stream",
     "text": [
      "END compute_daystocks 0.9499726295471191\n",
      "END file_done 0.026417970657348633\n",
      "END read files 1.1217727661132812\n",
      "END concat files 0.3450648784637451\n"
     ]
    },
    {
     "name": "stderr",
     "output_type": "stream",
     "text": [
      "[D 240331 23:51:25 1716370485:17] peapme updated!\n",
      "[D 240331 23:51:25 1716370485:35] before: 519 && after: 0 applying filter\n"
     ]
    },
    {
     "name": "stdout",
     "output_type": "stream",
     "text": [
      "END compute_companies 0.10424160957336426\n",
      "END get_companies_id 0.01007699966430664\n",
      "END compute_stocks 12.524775266647339\n"
     ]
    },
    {
     "name": "stderr",
     "output_type": "stream",
     "text": [
      "100%|██████████| 12/12 [02:58<00:00, 14.90s/it]\n",
      "[D 240331 23:51:38 2419859425:43] Processing complete for peapme data in 2021 in 178.824 seconds.\n"
     ]
    },
    {
     "name": "stdout",
     "output_type": "stream",
     "text": [
      "END compute_daystocks 0.9870054721832275\n",
      "END file_done 0.0276639461517334\n"
     ]
    },
    {
     "name": "stderr",
     "output_type": "stream",
     "text": [
      "[D 240331 23:51:39 2419859425:33] Loading amsterdam (2020) data for boursorama.\n",
      "  0%|          | 0/12 [00:00<?, ?it/s]"
     ]
    },
    {
     "name": "stdout",
     "output_type": "stream",
     "text": [
      "END read files 5.8342604637146\n",
      "END concat files 1.5929899215698242\n"
     ]
    },
    {
     "name": "stderr",
     "output_type": "stream",
     "text": [
      "[D 240331 23:51:48 1716370485:35] before: 3605 && after: 33 applying filter\n"
     ]
    },
    {
     "name": "stdout",
     "output_type": "stream",
     "text": [
      "END compute_companies 0.3332710266113281\n",
      "END get_companies_id 0.009684562683105469\n",
      "END compute_stocks 60.013336181640625\n",
      "END compute_daystocks 7.95199990272522\n",
      "END file_done 0.035875558853149414\n"
     ]
    },
    {
     "name": "stderr",
     "output_type": "stream",
     "text": [
      "  8%|▊         | 1/12 [01:18<14:18, 78.02s/it]"
     ]
    },
    {
     "name": "stdout",
     "output_type": "stream",
     "text": [
      "END read files 5.168006420135498\n",
      "END concat files 1.362985372543335\n"
     ]
    },
    {
     "name": "stderr",
     "output_type": "stream",
     "text": [
      "[D 240331 23:53:05 1716370485:35] before: 3522 && after: 31 applying filter\n"
     ]
    },
    {
     "name": "stdout",
     "output_type": "stream",
     "text": [
      "END compute_companies 0.3405797481536865\n",
      "END get_companies_id 0.009376049041748047\n",
      "END compute_stocks 51.343262672424316\n",
      "END compute_daystocks 7.079613924026489\n",
      "END file_done 0.029091596603393555\n"
     ]
    },
    {
     "name": "stderr",
     "output_type": "stream",
     "text": [
      " 17%|█▋        | 2/12 [02:25<11:57, 71.75s/it]"
     ]
    },
    {
     "name": "stdout",
     "output_type": "stream",
     "text": [
      "END read files 5.054096698760986\n",
      "END concat files 1.3361554145812988\n"
     ]
    },
    {
     "name": "stderr",
     "output_type": "stream",
     "text": [
      "[D 240331 23:54:13 1716370485:35] before: 3472 && after: 25 applying filter\n"
     ]
    },
    {
     "name": "stdout",
     "output_type": "stream",
     "text": [
      "END compute_companies 0.3320450782775879\n",
      "END get_companies_id 0.010269403457641602\n",
      "END compute_stocks 61.08194184303284\n",
      "END compute_daystocks 7.6384501457214355\n",
      "END file_done 0.02688765525817871\n"
     ]
    },
    {
     "name": "stderr",
     "output_type": "stream",
     "text": [
      " 25%|██▌       | 3/12 [03:43<11:09, 74.44s/it]"
     ]
    },
    {
     "name": "stdout",
     "output_type": "stream",
     "text": [
      "END read files 5.199060678482056\n",
      "END concat files 1.4389376640319824\n"
     ]
    },
    {
     "name": "stderr",
     "output_type": "stream",
     "text": [
      "[D 240331 23:55:30 1716370485:35] before: 3400 && after: 24 applying filter\n"
     ]
    },
    {
     "name": "stdout",
     "output_type": "stream",
     "text": [
      "END compute_companies 0.28503918647766113\n",
      "END get_companies_id 0.009338140487670898\n",
      "END compute_stocks 51.30900979042053\n",
      "END compute_daystocks 7.379940032958984\n",
      "END file_done 0.028864145278930664\n"
     ]
    },
    {
     "name": "stderr",
     "output_type": "stream",
     "text": [
      " 33%|███▎      | 4/12 [04:50<09:34, 71.80s/it]"
     ]
    },
    {
     "name": "stdout",
     "output_type": "stream",
     "text": [
      "END read files 4.570370435714722\n",
      "END concat files 1.1846981048583984\n"
     ]
    },
    {
     "name": "stderr",
     "output_type": "stream",
     "text": [
      "[D 240331 23:56:37 1716370485:35] before: 3329 && after: 18 applying filter\n"
     ]
    },
    {
     "name": "stdout",
     "output_type": "stream",
     "text": [
      "END compute_companies 0.2595181465148926\n",
      "END get_companies_id 0.08396530151367188\n",
      "END compute_stocks 49.338561058044434\n",
      "END compute_daystocks 6.7275636196136475\n",
      "END file_done 0.024615764617919922\n"
     ]
    },
    {
     "name": "stderr",
     "output_type": "stream",
     "text": [
      " 42%|████▏     | 5/12 [05:54<08:02, 68.98s/it]"
     ]
    },
    {
     "name": "stdout",
     "output_type": "stream",
     "text": [
      "END read files 5.092918872833252\n",
      "END concat files 1.4138658046722412\n"
     ]
    },
    {
     "name": "stderr",
     "output_type": "stream",
     "text": [
      "[D 240331 23:57:42 1716370485:35] before: 3301 && after: 32 applying filter\n"
     ]
    },
    {
     "name": "stdout",
     "output_type": "stream",
     "text": [
      "END compute_companies 0.2770686149597168\n",
      "END get_companies_id 0.011398792266845703\n",
      "END compute_stocks 52.948569536209106\n",
      "END compute_daystocks 7.421143054962158\n",
      "END file_done 0.030380725860595703\n"
     ]
    },
    {
     "name": "stderr",
     "output_type": "stream",
     "text": [
      " 50%|█████     | 6/12 [07:03<06:54, 69.04s/it]"
     ]
    },
    {
     "name": "stdout",
     "output_type": "stream",
     "text": [
      "END read files 2.6984469890594482\n",
      "END concat files 0.6906273365020752\n"
     ]
    },
    {
     "name": "stderr",
     "output_type": "stream",
     "text": [
      "[D 240331 23:58:47 1716370485:35] before: 3253 && after: 15 applying filter\n"
     ]
    },
    {
     "name": "stdout",
     "output_type": "stream",
     "text": [
      "END compute_companies 0.15221738815307617\n",
      "END get_companies_id 0.008450508117675781\n",
      "END compute_stocks 27.157233238220215\n"
     ]
    },
    {
     "name": "stderr",
     "output_type": "stream",
     "text": [
      " 58%|█████▊    | 7/12 [07:39<04:50, 58.14s/it]"
     ]
    },
    {
     "name": "stdout",
     "output_type": "stream",
     "text": [
      "END compute_daystocks 3.918945789337158\n",
      "END file_done 0.015912771224975586\n",
      "END read files 0.4715311527252197\n",
      "END concat files 0.1321260929107666\n"
     ]
    },
    {
     "name": "stderr",
     "output_type": "stream",
     "text": [
      "[D 240331 23:59:19 1716370485:35] before: 3207 && after: 30 applying filter\n"
     ]
    },
    {
     "name": "stdout",
     "output_type": "stream",
     "text": [
      "END compute_companies 0.04318737983703613\n",
      "END get_companies_id 0.06800270080566406\n",
      "END compute_stocks 4.377161741256714\n"
     ]
    },
    {
     "name": "stderr",
     "output_type": "stream",
     "text": [
      " 67%|██████▋   | 8/12 [07:45<02:46, 41.55s/it]"
     ]
    },
    {
     "name": "stdout",
     "output_type": "stream",
     "text": [
      "END compute_daystocks 0.6969168186187744\n",
      "END file_done 0.00812983512878418\n",
      "END read files 4.997681379318237\n",
      "END concat files 1.331735610961914\n"
     ]
    },
    {
     "name": "stderr",
     "output_type": "stream",
     "text": [
      "[D 240331 23:59:32 1716370485:35] before: 3236 && after: 20 applying filter\n"
     ]
    },
    {
     "name": "stdout",
     "output_type": "stream",
     "text": [
      "END compute_companies 0.24929499626159668\n",
      "END get_companies_id 0.00898432731628418\n",
      "END compute_stocks 46.86571550369263\n",
      "END compute_daystocks 7.060521602630615\n",
      "END file_done 0.1025393009185791\n"
     ]
    },
    {
     "name": "stderr",
     "output_type": "stream",
     "text": [
      " 75%|███████▌  | 9/12 [08:48<02:24, 48.08s/it]"
     ]
    },
    {
     "name": "stdout",
     "output_type": "stream",
     "text": [
      "END read files 4.796342372894287\n",
      "END concat files 1.2002735137939453\n"
     ]
    },
    {
     "name": "stderr",
     "output_type": "stream",
     "text": [
      "[D 240401 00:00:35 1716370485:35] before: 3244 && after: 28 applying filter\n"
     ]
    },
    {
     "name": "stdout",
     "output_type": "stream",
     "text": [
      "END compute_companies 0.31424617767333984\n",
      "END get_companies_id 0.08343505859375\n",
      "END compute_stocks 60.10898447036743\n",
      "END compute_daystocks 7.269297361373901\n",
      "END file_done 0.028319597244262695\n"
     ]
    },
    {
     "name": "stderr",
     "output_type": "stream",
     "text": [
      " 83%|████████▎ | 10/12 [10:03<01:53, 56.62s/it]"
     ]
    },
    {
     "name": "stdout",
     "output_type": "stream",
     "text": [
      "END read files 4.7865073680877686\n",
      "END concat files 1.1685893535614014\n"
     ]
    },
    {
     "name": "stderr",
     "output_type": "stream",
     "text": [
      "[D 240401 00:01:50 1716370485:35] before: 3244 && after: 17 applying filter\n"
     ]
    },
    {
     "name": "stdout",
     "output_type": "stream",
     "text": [
      "END compute_companies 0.2451937198638916\n",
      "END get_companies_id 0.009694337844848633\n",
      "END compute_stocks 44.37713313102722\n",
      "END compute_daystocks 6.351530313491821\n",
      "END file_done 0.02825474739074707\n"
     ]
    },
    {
     "name": "stderr",
     "output_type": "stream",
     "text": [
      " 92%|█████████▏| 11/12 [11:02<00:57, 57.26s/it]"
     ]
    },
    {
     "name": "stdout",
     "output_type": "stream",
     "text": [
      "END read files 5.504777193069458\n",
      "END concat files 1.3295257091522217\n"
     ]
    },
    {
     "name": "stderr",
     "output_type": "stream",
     "text": [
      "[D 240401 00:02:50 1716370485:35] before: 3248 && after: 35 applying filter\n"
     ]
    },
    {
     "name": "stdout",
     "output_type": "stream",
     "text": [
      "END compute_companies 0.2597463130950928\n",
      "END get_companies_id 0.010328531265258789\n",
      "END compute_stocks 49.048489809036255\n",
      "END compute_daystocks 6.980418920516968\n",
      "END file_done 0.028399229049682617\n"
     ]
    },
    {
     "name": "stderr",
     "output_type": "stream",
     "text": [
      "100%|██████████| 12/12 [12:07<00:00, 60.64s/it]\n",
      "[D 240401 00:03:46 2419859425:43] Processing complete for amsterdam data in 2020 in 727.647 seconds.\n",
      "[D 240401 00:03:46 2419859425:33] Loading compA (2020) data for boursorama.\n",
      "  0%|          | 0/12 [00:00<?, ?it/s]"
     ]
    },
    {
     "name": "stdout",
     "output_type": "stream",
     "text": [
      "END read files 1.0448687076568604\n",
      "END concat files 0.2950739860534668\n"
     ]
    },
    {
     "name": "stderr",
     "output_type": "stream",
     "text": [
      "[D 240401 00:03:48 1716370485:35] before: 321 && after: 0 applying filter\n"
     ]
    },
    {
     "name": "stdout",
     "output_type": "stream",
     "text": [
      "END compute_companies 0.06489896774291992\n",
      "END get_companies_id 0.013785600662231445\n",
      "END compute_stocks 8.965024948120117\n"
     ]
    },
    {
     "name": "stderr",
     "output_type": "stream",
     "text": [
      "  8%|▊         | 1/12 [00:11<02:04, 11.27s/it]"
     ]
    },
    {
     "name": "stdout",
     "output_type": "stream",
     "text": [
      "END compute_daystocks 0.4873523712158203\n",
      "END file_done 0.028330564498901367\n",
      "END read files 0.9315533638000488\n",
      "END concat files 0.2077045440673828\n"
     ]
    },
    {
     "name": "stderr",
     "output_type": "stream",
     "text": [
      "[D 240401 00:03:59 1716370485:35] before: 324 && after: 1 applying filter\n"
     ]
    },
    {
     "name": "stdout",
     "output_type": "stream",
     "text": [
      "END compute_companies 0.07296180725097656\n",
      "END get_companies_id 0.09069013595581055\n",
      "END compute_stocks 9.76507019996643\n"
     ]
    },
    {
     "name": "stderr",
     "output_type": "stream",
     "text": [
      " 17%|█▋        | 2/12 [00:23<01:56, 11.67s/it]"
     ]
    },
    {
     "name": "stdout",
     "output_type": "stream",
     "text": [
      "END compute_daystocks 0.3911244869232178\n",
      "END file_done 0.10451817512512207\n",
      "END read files 0.9542515277862549\n",
      "END concat files 0.2309567928314209\n"
     ]
    },
    {
     "name": "stderr",
     "output_type": "stream",
     "text": [
      "[D 240401 00:04:11 1716370485:35] before: 321 && after: 0 applying filter\n"
     ]
    },
    {
     "name": "stdout",
     "output_type": "stream",
     "text": [
      "END compute_companies 0.0682077407836914\n",
      "END get_companies_id 0.08945155143737793\n",
      "END compute_stocks 9.134637832641602\n"
     ]
    },
    {
     "name": "stderr",
     "output_type": "stream",
     "text": [
      " 25%|██▌       | 3/12 [00:34<01:43, 11.54s/it]"
     ]
    },
    {
     "name": "stdout",
     "output_type": "stream",
     "text": [
      "END compute_daystocks 0.47044992446899414\n",
      "END file_done 0.028352022171020508\n",
      "END read files 0.9299333095550537\n",
      "END concat files 0.20291829109191895\n"
     ]
    },
    {
     "name": "stderr",
     "output_type": "stream",
     "text": [
      "[D 240401 00:04:22 1716370485:35] before: 330 && after: 1 applying filter\n"
     ]
    },
    {
     "name": "stdout",
     "output_type": "stream",
     "text": [
      "END compute_companies 0.07882452011108398\n",
      "END get_companies_id 0.010917425155639648\n",
      "END compute_stocks 9.375259160995483\n"
     ]
    },
    {
     "name": "stderr",
     "output_type": "stream",
     "text": [
      " 33%|███▎      | 4/12 [00:46<01:32, 11.54s/it]"
     ]
    },
    {
     "name": "stdout",
     "output_type": "stream",
     "text": [
      "END compute_daystocks 0.44798874855041504\n",
      "END file_done 0.028622150421142578\n",
      "END read files 0.859036922454834\n",
      "END concat files 0.26773738861083984\n"
     ]
    },
    {
     "name": "stderr",
     "output_type": "stream",
     "text": [
      "[D 240401 00:04:34 1716370485:35] before: 320 && after: 0 applying filter\n"
     ]
    },
    {
     "name": "stdout",
     "output_type": "stream",
     "text": [
      "END compute_companies 0.06208372116088867\n",
      "END get_companies_id 0.01214456558227539\n",
      "END compute_stocks 8.222609043121338\n"
     ]
    },
    {
     "name": "stderr",
     "output_type": "stream",
     "text": [
      " 42%|████▏     | 5/12 [00:56<01:17, 11.08s/it]"
     ]
    },
    {
     "name": "stdout",
     "output_type": "stream",
     "text": [
      "END compute_daystocks 0.43073225021362305\n",
      "END file_done 0.024601459503173828\n",
      "END read files 1.0371425151824951\n",
      "END concat files 0.1981210708618164\n"
     ]
    },
    {
     "name": "stderr",
     "output_type": "stream",
     "text": [
      "[D 240401 00:04:44 1716370485:35] before: 320 && after: 0 applying filter\n"
     ]
    },
    {
     "name": "stdout",
     "output_type": "stream",
     "text": [
      "END compute_companies 0.07590627670288086\n",
      "END get_companies_id 0.012655019760131836\n",
      "END compute_stocks 9.539830207824707\n"
     ]
    },
    {
     "name": "stderr",
     "output_type": "stream",
     "text": [
      " 50%|█████     | 6/12 [01:08<01:07, 11.32s/it]"
     ]
    },
    {
     "name": "stdout",
     "output_type": "stream",
     "text": [
      "END compute_daystocks 0.47043514251708984\n",
      "END file_done 0.029349327087402344\n",
      "END read files 0.5721566677093506\n",
      "END concat files 0.08837127685546875\n"
     ]
    },
    {
     "name": "stderr",
     "output_type": "stream",
     "text": [
      "[D 240401 00:04:55 1716370485:35] before: 319 && after: 0 applying filter\n"
     ]
    },
    {
     "name": "stdout",
     "output_type": "stream",
     "text": [
      "END compute_companies 0.04148530960083008\n",
      "END get_companies_id 0.009423017501831055\n",
      "END compute_stocks 4.8642377853393555\n"
     ]
    },
    {
     "name": "stderr",
     "output_type": "stream",
     "text": [
      " 58%|█████▊    | 7/12 [01:14<00:48,  9.61s/it][D 240401 00:05:01 1716370485:35] before: 318 && after: 0 applying filter\n"
     ]
    },
    {
     "name": "stdout",
     "output_type": "stream",
     "text": [
      "END compute_daystocks 0.30828380584716797\n",
      "END file_done 0.01594066619873047\n",
      "END read files 0.08776569366455078\n",
      "END concat files 0.0114288330078125\n",
      "END compute_companies 0.008596181869506836\n",
      "END get_companies_id 0.009480953216552734\n"
     ]
    },
    {
     "name": "stderr",
     "output_type": "stream",
     "text": [
      " 67%|██████▋   | 8/12 [01:14<00:27,  6.76s/it]"
     ]
    },
    {
     "name": "stdout",
     "output_type": "stream",
     "text": [
      "END compute_stocks 0.4451253414154053\n",
      "END compute_daystocks 0.05895543098449707\n",
      "END file_done 0.007955074310302734\n",
      "END read files 0.9546523094177246\n",
      "END concat files 0.2877166271209717\n"
     ]
    },
    {
     "name": "stderr",
     "output_type": "stream",
     "text": [
      "[D 240401 00:05:03 1716370485:35] before: 328 && after: 2 applying filter\n"
     ]
    },
    {
     "name": "stdout",
     "output_type": "stream",
     "text": [
      "END compute_companies 0.0678250789642334\n",
      "END get_companies_id 0.009441137313842773\n",
      "END compute_stocks 8.53996205329895\n"
     ]
    },
    {
     "name": "stderr",
     "output_type": "stream",
     "text": [
      " 75%|███████▌  | 9/12 [01:25<00:23,  7.99s/it]"
     ]
    },
    {
     "name": "stdout",
     "output_type": "stream",
     "text": [
      "END compute_daystocks 0.46126461029052734\n",
      "END file_done 0.02747821807861328\n",
      "END read files 1.008446216583252\n",
      "END concat files 0.20303726196289062\n"
     ]
    },
    {
     "name": "stderr",
     "output_type": "stream",
     "text": [
      "[D 240401 00:05:13 1716370485:35] before: 331 && after: 1 applying filter\n"
     ]
    },
    {
     "name": "stdout",
     "output_type": "stream",
     "text": [
      "END compute_companies 0.0697028636932373\n",
      "END get_companies_id 0.014799118041992188\n",
      "END compute_stocks 9.658517837524414\n"
     ]
    },
    {
     "name": "stderr",
     "output_type": "stream",
     "text": [
      " 83%|████████▎ | 10/12 [01:37<00:18,  9.18s/it]"
     ]
    },
    {
     "name": "stdout",
     "output_type": "stream",
     "text": [
      "END compute_daystocks 0.38691210746765137\n",
      "END file_done 0.10465693473815918\n",
      "END read files 0.8480949401855469\n",
      "END concat files 0.18103837966918945\n"
     ]
    },
    {
     "name": "stderr",
     "output_type": "stream",
     "text": [
      "[D 240401 00:05:25 1716370485:35] before: 321 && after: 1 applying filter\n"
     ]
    },
    {
     "name": "stdout",
     "output_type": "stream",
     "text": [
      "END compute_companies 0.0683131217956543\n",
      "END get_companies_id 0.013719797134399414\n",
      "END compute_stocks 8.36408543586731\n"
     ]
    },
    {
     "name": "stderr",
     "output_type": "stream",
     "text": [
      " 92%|█████████▏| 11/12 [01:47<00:09,  9.53s/it]"
     ]
    },
    {
     "name": "stdout",
     "output_type": "stream",
     "text": [
      "END compute_daystocks 0.44258570671081543\n",
      "END file_done 0.027767181396484375\n",
      "END read files 1.0024354457855225\n",
      "END concat files 0.2896993160247803\n"
     ]
    },
    {
     "name": "stderr",
     "output_type": "stream",
     "text": [
      "[D 240401 00:05:36 1716370485:35] before: 329 && after: 0 applying filter\n"
     ]
    },
    {
     "name": "stdout",
     "output_type": "stream",
     "text": [
      "END compute_companies 0.06821775436401367\n",
      "END get_companies_id 0.013332366943359375\n",
      "END compute_stocks 9.70821499824524\n"
     ]
    },
    {
     "name": "stderr",
     "output_type": "stream",
     "text": [
      "100%|██████████| 12/12 [01:59<00:00,  9.98s/it]\n",
      "[D 240401 00:05:46 2419859425:43] Processing complete for compA data in 2020 in 119.82 seconds.\n",
      "[D 240401 00:05:46 2419859425:33] Loading compB (2020) data for boursorama.\n"
     ]
    },
    {
     "name": "stdout",
     "output_type": "stream",
     "text": [
      "END compute_daystocks 0.44153618812561035\n",
      "END file_done 0.10729432106018066\n"
     ]
    },
    {
     "name": "stderr",
     "output_type": "stream",
     "text": [
      "  0%|          | 0/12 [00:00<?, ?it/s]"
     ]
    },
    {
     "name": "stdout",
     "output_type": "stream",
     "text": [
      "END read files 0.9924232959747314\n",
      "END concat files 0.22975826263427734\n"
     ]
    },
    {
     "name": "stderr",
     "output_type": "stream",
     "text": [
      "[D 240401 00:05:47 1716370485:35] before: 295 && after: 0 applying filter\n"
     ]
    },
    {
     "name": "stdout",
     "output_type": "stream",
     "text": [
      "END compute_companies 0.039205312728881836\n",
      "END get_companies_id 0.08835482597351074\n",
      "END compute_stocks 4.441687822341919\n"
     ]
    },
    {
     "name": "stderr",
     "output_type": "stream",
     "text": [
      "  8%|▊         | 1/12 [00:06<01:11,  6.53s/it]"
     ]
    },
    {
     "name": "stdout",
     "output_type": "stream",
     "text": [
      "END compute_daystocks 0.3368804454803467\n",
      "END file_done 0.10571575164794922\n",
      "END read files 0.8696506023406982\n",
      "END concat files 0.19918346405029297\n"
     ]
    },
    {
     "name": "stderr",
     "output_type": "stream",
     "text": [
      "[D 240401 00:05:54 1716370485:35] before: 295 && after: 0 applying filter\n"
     ]
    },
    {
     "name": "stdout",
     "output_type": "stream",
     "text": [
      "END compute_companies 0.034773826599121094\n",
      "END get_companies_id 0.01326894760131836\n",
      "END compute_stocks 4.509772300720215\n"
     ]
    },
    {
     "name": "stderr",
     "output_type": "stream",
     "text": [
      " 17%|█▋        | 2/12 [00:12<01:03,  6.37s/it]"
     ]
    },
    {
     "name": "stdout",
     "output_type": "stream",
     "text": [
      "END compute_daystocks 0.30155205726623535\n",
      "END file_done 0.026981830596923828\n",
      "END read files 0.9825165271759033\n",
      "END concat files 0.20970439910888672\n"
     ]
    },
    {
     "name": "stderr",
     "output_type": "stream",
     "text": [
      "[D 240401 00:06:00 1716370485:35] before: 297 && after: 0 applying filter\n"
     ]
    },
    {
     "name": "stdout",
     "output_type": "stream",
     "text": [
      "END compute_companies 0.031844377517700195\n",
      "END get_companies_id 0.008368253707885742\n",
      "END compute_stocks 3.9027884006500244\n"
     ]
    },
    {
     "name": "stderr",
     "output_type": "stream",
     "text": [
      " 25%|██▌       | 3/12 [00:18<00:55,  6.11s/it]"
     ]
    },
    {
     "name": "stdout",
     "output_type": "stream",
     "text": [
      "END compute_daystocks 0.38909912109375\n",
      "END file_done 0.027640104293823242\n",
      "END read files 0.9629049301147461\n",
      "END concat files 0.19232511520385742\n"
     ]
    },
    {
     "name": "stderr",
     "output_type": "stream",
     "text": [
      "[D 240401 00:06:06 1716370485:35] before: 294 && after: 0 applying filter\n"
     ]
    },
    {
     "name": "stdout",
     "output_type": "stream",
     "text": [
      "END compute_companies 0.030457496643066406\n",
      "END get_companies_id 0.00975489616394043\n",
      "END compute_stocks 3.8709492683410645\n"
     ]
    },
    {
     "name": "stderr",
     "output_type": "stream",
     "text": [
      " 33%|███▎      | 4/12 [00:24<00:47,  5.97s/it]"
     ]
    },
    {
     "name": "stdout",
     "output_type": "stream",
     "text": [
      "END compute_daystocks 0.39971137046813965\n",
      "END file_done 0.028623580932617188\n",
      "END read files 0.8393721580505371\n",
      "END concat files 0.26751112937927246\n"
     ]
    },
    {
     "name": "stderr",
     "output_type": "stream",
     "text": [
      "[D 240401 00:06:12 1716370485:35] before: 294 && after: 0 applying filter\n"
     ]
    },
    {
     "name": "stdout",
     "output_type": "stream",
     "text": [
      "END compute_companies 0.026996135711669922\n",
      "END get_companies_id 0.010457277297973633\n",
      "END compute_stocks 3.274986743927002\n"
     ]
    },
    {
     "name": "stderr",
     "output_type": "stream",
     "text": [
      " 42%|████▏     | 5/12 [00:29<00:39,  5.62s/it]"
     ]
    },
    {
     "name": "stdout",
     "output_type": "stream",
     "text": [
      "END compute_daystocks 0.30003809928894043\n",
      "END file_done 0.0265657901763916\n",
      "END read files 1.0258967876434326\n",
      "END concat files 0.18880438804626465\n"
     ]
    },
    {
     "name": "stderr",
     "output_type": "stream",
     "text": [
      "[D 240401 00:06:17 1716370485:35] before: 294 && after: 0 applying filter\n"
     ]
    },
    {
     "name": "stdout",
     "output_type": "stream",
     "text": [
      "END compute_companies 0.03747439384460449\n",
      "END get_companies_id 0.009932518005371094\n",
      "END compute_stocks 4.0723876953125\n"
     ]
    },
    {
     "name": "stderr",
     "output_type": "stream",
     "text": [
      " 50%|█████     | 6/12 [00:35<00:34,  5.73s/it]"
     ]
    },
    {
     "name": "stdout",
     "output_type": "stream",
     "text": [
      "END compute_daystocks 0.32165026664733887\n",
      "END file_done 0.029880523681640625\n",
      "END read files 0.5558362007141113\n",
      "END concat files 0.08374500274658203\n"
     ]
    },
    {
     "name": "stderr",
     "output_type": "stream",
     "text": [
      "[D 240401 00:06:22 1716370485:35] before: 293 && after: 0 applying filter\n"
     ]
    },
    {
     "name": "stdout",
     "output_type": "stream",
     "text": [
      "END compute_companies 0.01701807975769043\n",
      "END get_companies_id 0.009364604949951172\n",
      "END compute_stocks 2.1043543815612793\n",
      "END compute_daystocks 0.19438409805297852\n"
     ]
    },
    {
     "name": "stderr",
     "output_type": "stream",
     "text": [
      " 58%|█████▊    | 7/12 [00:38<00:24,  4.88s/it][D 240401 00:06:25 1716370485:35] before: 292 && after: 0 applying filter\n"
     ]
    },
    {
     "name": "stdout",
     "output_type": "stream",
     "text": [
      "END file_done 0.017734289169311523\n",
      "END read files 0.08460044860839844\n",
      "END concat files 0.07865357398986816\n",
      "END compute_companies 0.007889747619628906\n",
      "END get_companies_id 0.00928950309753418\n"
     ]
    },
    {
     "name": "stderr",
     "output_type": "stream",
     "text": [
      " 67%|██████▋   | 8/12 [00:38<00:13,  3.48s/it]"
     ]
    },
    {
     "name": "stdout",
     "output_type": "stream",
     "text": [
      "END compute_stocks 0.20408129692077637\n",
      "END compute_daystocks 0.05659914016723633\n",
      "END file_done 0.007426023483276367\n",
      "END read files 0.9991445541381836\n",
      "END concat files 0.22017478942871094\n"
     ]
    },
    {
     "name": "stderr",
     "output_type": "stream",
     "text": [
      "[D 240401 00:06:26 1716370485:35] before: 297 && after: 0 applying filter\n"
     ]
    },
    {
     "name": "stdout",
     "output_type": "stream",
     "text": [
      "END compute_companies 0.033022165298461914\n",
      "END get_companies_id 0.008958816528320312\n",
      "END compute_stocks 4.09086012840271\n"
     ]
    },
    {
     "name": "stderr",
     "output_type": "stream",
     "text": [
      " 75%|███████▌  | 9/12 [00:44<00:12,  4.29s/it]"
     ]
    },
    {
     "name": "stdout",
     "output_type": "stream",
     "text": [
      "END compute_daystocks 0.43339061737060547\n",
      "END file_done 0.03070211410522461\n",
      "END read files 0.9876627922058105\n",
      "END concat files 0.18590497970581055\n"
     ]
    },
    {
     "name": "stderr",
     "output_type": "stream",
     "text": [
      "[D 240401 00:06:32 1716370485:35] before: 292 && after: 0 applying filter\n"
     ]
    },
    {
     "name": "stdout",
     "output_type": "stream",
     "text": [
      "END compute_companies 0.03897404670715332\n",
      "END get_companies_id 0.008871316909790039\n",
      "END compute_stocks 4.784546136856079\n"
     ]
    },
    {
     "name": "stderr",
     "output_type": "stream",
     "text": [
      " 83%|████████▎ | 10/12 [00:51<00:10,  5.04s/it]"
     ]
    },
    {
     "name": "stdout",
     "output_type": "stream",
     "text": [
      "END compute_daystocks 0.40314340591430664\n",
      "END file_done 0.0261993408203125\n",
      "END read files 0.8455812931060791\n",
      "END concat files 0.18502521514892578\n"
     ]
    },
    {
     "name": "stderr",
     "output_type": "stream",
     "text": [
      "[D 240401 00:06:39 1716370485:35] before: 293 && after: 1 applying filter\n"
     ]
    },
    {
     "name": "stdout",
     "output_type": "stream",
     "text": [
      "END compute_companies 0.04006361961364746\n",
      "END get_companies_id 0.09189891815185547\n",
      "END compute_stocks 3.8547213077545166\n"
     ]
    },
    {
     "name": "stderr",
     "output_type": "stream",
     "text": [
      " 92%|█████████▏| 11/12 [00:57<00:05,  5.23s/it]"
     ]
    },
    {
     "name": "stdout",
     "output_type": "stream",
     "text": [
      "END compute_daystocks 0.3017916679382324\n",
      "END file_done 0.025239944458007812\n",
      "END read files 1.0157277584075928\n",
      "END concat files 0.20265769958496094\n"
     ]
    },
    {
     "name": "stderr",
     "output_type": "stream",
     "text": [
      "[D 240401 00:06:45 1716370485:35] before: 305 && after: 3 applying filter\n"
     ]
    },
    {
     "name": "stdout",
     "output_type": "stream",
     "text": [
      "END compute_companies 0.03840065002441406\n",
      "END get_companies_id 0.008883476257324219\n",
      "END compute_stocks 3.9491326808929443\n"
     ]
    },
    {
     "name": "stderr",
     "output_type": "stream",
     "text": [
      "100%|██████████| 12/12 [01:03<00:00,  5.27s/it]\n",
      "[D 240401 00:06:49 2419859425:43] Processing complete for compB data in 2020 in 63.266 seconds.\n"
     ]
    },
    {
     "name": "stdout",
     "output_type": "stream",
     "text": [
      "END compute_daystocks 0.39569711685180664\n",
      "END file_done 0.029120683670043945\n"
     ]
    },
    {
     "name": "stderr",
     "output_type": "stream",
     "text": [
      "[D 240401 00:06:50 2419859425:33] Loading amsterdam (2019) data for boursorama.\n",
      "  0%|          | 0/12 [00:00<?, ?it/s]"
     ]
    },
    {
     "name": "stdout",
     "output_type": "stream",
     "text": [
      "END read files 9.0696120262146\n",
      "END concat files 2.1386749744415283\n"
     ]
    },
    {
     "name": "stderr",
     "output_type": "stream",
     "text": [
      "[D 240401 00:07:04 1716370485:35] before: 3241 && after: 30 applying filter\n"
     ]
    },
    {
     "name": "stdout",
     "output_type": "stream",
     "text": [
      "END compute_companies 0.383176326751709\n",
      "END get_companies_id 0.008460283279418945\n",
      "END compute_stocks 57.937278032302856\n",
      "END compute_daystocks 6.83937931060791\n",
      "END file_done 0.12542724609375\n"
     ]
    },
    {
     "name": "stderr",
     "output_type": "stream",
     "text": [
      "  8%|▊         | 1/12 [01:19<14:31, 79.22s/it]"
     ]
    },
    {
     "name": "stdout",
     "output_type": "stream",
     "text": [
      "END read files 6.916945934295654\n",
      "END concat files 1.8009579181671143\n"
     ]
    },
    {
     "name": "stderr",
     "output_type": "stream",
     "text": [
      "[D 240401 00:08:20 1716370485:35] before: 3244 && after: 25 applying filter\n"
     ]
    },
    {
     "name": "stdout",
     "output_type": "stream",
     "text": [
      "END compute_companies 0.30570483207702637\n",
      "END get_companies_id 0.00954437255859375\n",
      "END compute_stocks 50.86271142959595\n",
      "END compute_daystocks 6.733566045761108\n",
      "END file_done 0.03486013412475586\n"
     ]
    },
    {
     "name": "stderr",
     "output_type": "stream",
     "text": [
      " 17%|█▋        | 2/12 [02:28<12:11, 73.19s/it]"
     ]
    },
    {
     "name": "stdout",
     "output_type": "stream",
     "text": [
      "END read files 6.2677857875823975\n",
      "END concat files 1.3404676914215088\n"
     ]
    },
    {
     "name": "stderr",
     "output_type": "stream",
     "text": [
      "[D 240401 00:09:27 1716370485:35] before: 3239 && after: 41 applying filter\n"
     ]
    },
    {
     "name": "stdout",
     "output_type": "stream",
     "text": [
      "END compute_companies 0.279249906539917\n",
      "END get_companies_id 0.009150505065917969\n",
      "END compute_stocks 52.412495374679565\n",
      "END compute_daystocks 7.264068603515625\n",
      "END file_done 0.029202938079833984\n"
     ]
    },
    {
     "name": "stderr",
     "output_type": "stream",
     "text": [
      " 25%|██▌       | 3/12 [03:37<10:43, 71.53s/it]"
     ]
    },
    {
     "name": "stdout",
     "output_type": "stream",
     "text": [
      "END read files 22.91340398788452\n",
      "END concat files 2.2991747856140137\n"
     ]
    },
    {
     "name": "stderr",
     "output_type": "stream",
     "text": [
      "[D 240401 00:10:55 1716370485:35] before: 3215 && after: 18 applying filter\n"
     ]
    },
    {
     "name": "stdout",
     "output_type": "stream",
     "text": [
      "END compute_companies 0.26442742347717285\n",
      "END get_companies_id 0.00898432731628418\n",
      "END compute_stocks 43.88611102104187\n",
      "END compute_daystocks 6.467414617538452\n",
      "END file_done 0.04615163803100586\n"
     ]
    },
    {
     "name": "stderr",
     "output_type": "stream",
     "text": [
      " 33%|███▎      | 4/12 [04:56<09:55, 74.38s/it]"
     ]
    },
    {
     "name": "stdout",
     "output_type": "stream",
     "text": [
      "END read files 20.059873819351196\n",
      "END concat files 2.4441723823547363\n"
     ]
    },
    {
     "name": "stderr",
     "output_type": "stream",
     "text": [
      "[D 240401 00:12:11 1716370485:35] before: 3215 && after: 20 applying filter\n"
     ]
    },
    {
     "name": "stdout",
     "output_type": "stream",
     "text": [
      "END compute_companies 0.24672389030456543\n",
      "END get_companies_id 0.009542465209960938\n",
      "END compute_stocks 33.28709125518799\n",
      "END compute_daystocks 6.637079954147339\n",
      "END file_done 0.04760098457336426\n"
     ]
    },
    {
     "name": "stderr",
     "output_type": "stream",
     "text": [
      " 42%|████▏     | 5/12 [06:02<08:18, 71.25s/it]"
     ]
    },
    {
     "name": "stdout",
     "output_type": "stream",
     "text": [
      "END read files 16.881098747253418\n",
      "END concat files 2.33343505859375\n"
     ]
    },
    {
     "name": "stderr",
     "output_type": "stream",
     "text": [
      "[D 240401 00:13:14 1716370485:35] before: 3221 && after: 31 applying filter\n"
     ]
    },
    {
     "name": "stdout",
     "output_type": "stream",
     "text": [
      "END compute_companies 0.2138068675994873\n",
      "END get_companies_id 0.009221792221069336\n",
      "END compute_stocks 29.37703776359558\n",
      "END compute_daystocks 6.576223850250244\n",
      "END file_done 0.05055832862854004\n"
     ]
    },
    {
     "name": "stderr",
     "output_type": "stream",
     "text": [
      " 50%|█████     | 6/12 [07:00<06:40, 66.82s/it]"
     ]
    },
    {
     "name": "stdout",
     "output_type": "stream",
     "text": [
      "END read files 14.448246717453003\n",
      "END concat files 2.0391335487365723\n"
     ]
    },
    {
     "name": "stderr",
     "output_type": "stream",
     "text": [
      "[D 240401 00:14:09 1716370485:35] before: 3190 && after: 11 applying filter\n"
     ]
    },
    {
     "name": "stdout",
     "output_type": "stream",
     "text": [
      "END compute_companies 0.19989228248596191\n",
      "END get_companies_id 0.008750200271606445\n",
      "END compute_stocks 27.250718593597412\n",
      "END compute_daystocks 5.917047739028931\n",
      "END file_done 0.0400385856628418\n"
     ]
    },
    {
     "name": "stderr",
     "output_type": "stream",
     "text": [
      " 58%|█████▊    | 7/12 [07:52<05:10, 62.11s/it]"
     ]
    },
    {
     "name": "stdout",
     "output_type": "stream",
     "text": [
      "END read files 16.64114236831665\n",
      "END concat files 2.303856372833252\n"
     ]
    },
    {
     "name": "stderr",
     "output_type": "stream",
     "text": [
      "[D 240401 00:15:04 1716370485:35] before: 3189 && after: 40 applying filter\n"
     ]
    },
    {
     "name": "stdout",
     "output_type": "stream",
     "text": [
      "END compute_companies 0.23174428939819336\n",
      "END get_companies_id 0.009293556213378906\n",
      "END compute_stocks 30.54287338256836\n",
      "END compute_daystocks 6.421682834625244\n",
      "END file_done 0.045510053634643555\n"
     ]
    },
    {
     "name": "stderr",
     "output_type": "stream",
     "text": [
      " 67%|██████▋   | 8/12 [08:51<04:04, 61.07s/it]"
     ]
    },
    {
     "name": "stdout",
     "output_type": "stream",
     "text": [
      "END read files 20.591230154037476\n",
      "END concat files 1.906557559967041\n"
     ]
    },
    {
     "name": "stderr",
     "output_type": "stream",
     "text": [
      "[D 240401 00:16:06 1716370485:35] before: 3172 && after: 19 applying filter\n"
     ]
    },
    {
     "name": "stdout",
     "output_type": "stream",
     "text": [
      "END compute_companies 0.2601940631866455\n",
      "END get_companies_id 0.009698629379272461\n",
      "END compute_stocks 51.15115475654602\n",
      "END compute_daystocks 6.666692495346069\n",
      "END file_done 0.03911757469177246\n"
     ]
    },
    {
     "name": "stderr",
     "output_type": "stream",
     "text": [
      " 75%|███████▌  | 9/12 [10:14<03:23, 67.97s/it]"
     ]
    },
    {
     "name": "stdout",
     "output_type": "stream",
     "text": [
      "END read files 20.930657625198364\n",
      "END concat files 1.9240427017211914\n"
     ]
    },
    {
     "name": "stderr",
     "output_type": "stream",
     "text": [
      "[D 240401 00:17:31 1716370485:35] before: 3167 && after: 28 applying filter\n"
     ]
    },
    {
     "name": "stdout",
     "output_type": "stream",
     "text": [
      "END compute_companies 0.43715476989746094\n",
      "END get_companies_id 0.008556127548217773\n",
      "END compute_stocks 95.30920624732971\n",
      "END compute_daystocks 6.65435791015625\n",
      "END file_done 0.04388427734375\n"
     ]
    },
    {
     "name": "stderr",
     "output_type": "stream",
     "text": [
      " 83%|████████▎ | 10/12 [12:23<02:53, 86.68s/it]"
     ]
    },
    {
     "name": "stdout",
     "output_type": "stream",
     "text": [
      "END read files 20.47548794746399\n",
      "END concat files 2.1720073223114014\n"
     ]
    },
    {
     "name": "stderr",
     "output_type": "stream",
     "text": [
      "[D 240401 00:19:39 1716370485:35] before: 3144 && after: 20 applying filter\n"
     ]
    },
    {
     "name": "stdout",
     "output_type": "stream",
     "text": [
      "END compute_companies 0.34345531463623047\n",
      "END get_companies_id 0.00918889045715332\n",
      "END compute_stocks 68.85689306259155\n",
      "END compute_daystocks 5.977060079574585\n",
      "END file_done 0.04491066932678223\n"
     ]
    },
    {
     "name": "stderr",
     "output_type": "stream",
     "text": [
      " 92%|█████████▏| 11/12 [14:04<01:30, 90.98s/it]"
     ]
    },
    {
     "name": "stdout",
     "output_type": "stream",
     "text": [
      "END read files 22.541420221328735\n",
      "END concat files 2.334451913833618\n"
     ]
    },
    {
     "name": "stderr",
     "output_type": "stream",
     "text": [
      "[D 240401 00:21:22 1716370485:35] before: 3155 && after: 44 applying filter\n"
     ]
    },
    {
     "name": "stdout",
     "output_type": "stream",
     "text": [
      "END compute_companies 0.3527376651763916\n",
      "END get_companies_id 0.009040355682373047\n",
      "END compute_stocks 74.07424569129944\n",
      "END compute_daystocks 6.520722389221191\n",
      "END file_done 0.04892253875732422\n"
     ]
    },
    {
     "name": "stderr",
     "output_type": "stream",
     "text": [
      "100%|██████████| 12/12 [15:53<00:00, 79.43s/it]\n",
      "[D 240401 00:22:43 2419859425:43] Processing complete for amsterdam data in 2019 in 953.131 seconds.\n",
      "[D 240401 00:22:43 2419859425:33] Loading compA (2019) data for boursorama.\n",
      "  0%|          | 0/12 [00:00<?, ?it/s]"
     ]
    },
    {
     "name": "stdout",
     "output_type": "stream",
     "text": [
      "END read files 1.816293478012085\n",
      "END concat files 0.2352428436279297\n"
     ]
    },
    {
     "name": "stderr",
     "output_type": "stream",
     "text": [
      "[D 240401 00:22:45 1716370485:35] before: 327 && after: 0 applying filter\n"
     ]
    },
    {
     "name": "stdout",
     "output_type": "stream",
     "text": [
      "END compute_companies 0.07082343101501465\n",
      "END get_companies_id 0.007661342620849609\n",
      "END compute_stocks 9.481393814086914\n"
     ]
    },
    {
     "name": "stderr",
     "output_type": "stream",
     "text": [
      "  8%|▊         | 1/12 [00:12<02:18, 12.59s/it]"
     ]
    },
    {
     "name": "stdout",
     "output_type": "stream",
     "text": [
      "END compute_daystocks 0.43834781646728516\n",
      "END file_done 0.03481030464172363\n",
      "END read files 1.174640417098999\n",
      "END concat files 0.19627761840820312\n"
     ]
    },
    {
     "name": "stderr",
     "output_type": "stream",
     "text": [
      "[D 240401 00:22:57 1716370485:35] before: 331 && after: 0 applying filter\n"
     ]
    },
    {
     "name": "stdout",
     "output_type": "stream",
     "text": [
      "END compute_companies 0.0637669563293457\n",
      "END get_companies_id 0.010285139083862305\n",
      "END compute_stocks 8.64652419090271\n"
     ]
    },
    {
     "name": "stderr",
     "output_type": "stream",
     "text": [
      " 17%|█▋        | 2/12 [00:23<01:56, 11.62s/it]"
     ]
    },
    {
     "name": "stdout",
     "output_type": "stream",
     "text": [
      "END compute_daystocks 0.4443521499633789\n",
      "END file_done 0.028298139572143555\n",
      "END read files 1.2567017078399658\n",
      "END concat files 0.19557714462280273\n"
     ]
    },
    {
     "name": "stderr",
     "output_type": "stream",
     "text": [
      "[D 240401 00:23:08 1716370485:35] before: 325 && after: 0 applying filter\n"
     ]
    },
    {
     "name": "stdout",
     "output_type": "stream",
     "text": [
      "END compute_companies 0.06789207458496094\n",
      "END get_companies_id 0.011121034622192383\n",
      "END compute_stocks 9.422124147415161\n"
     ]
    },
    {
     "name": "stderr",
     "output_type": "stream",
     "text": [
      " 25%|██▌       | 3/12 [00:35<01:45, 11.72s/it]"
     ]
    },
    {
     "name": "stdout",
     "output_type": "stream",
     "text": [
      "END compute_daystocks 0.46150732040405273\n",
      "END file_done 0.02817559242248535\n",
      "END read files 3.731537342071533\n",
      "END concat files 0.2986288070678711\n"
     ]
    },
    {
     "name": "stderr",
     "output_type": "stream",
     "text": [
      "[D 240401 00:23:23 1716370485:35] before: 325 && after: 0 applying filter\n"
     ]
    },
    {
     "name": "stdout",
     "output_type": "stream",
     "text": [
      "END compute_companies 0.10170841217041016\n",
      "END get_companies_id 0.00732731819152832\n",
      "END compute_stocks 15.00480055809021\n"
     ]
    },
    {
     "name": "stderr",
     "output_type": "stream",
     "text": [
      " 33%|███▎      | 4/12 [00:55<02:00, 15.12s/it]"
     ]
    },
    {
     "name": "stdout",
     "output_type": "stream",
     "text": [
      "END compute_daystocks 0.48391175270080566\n",
      "END file_done 0.045835256576538086\n",
      "END read files 2.31882381439209\n",
      "END concat files 0.25945281982421875\n"
     ]
    },
    {
     "name": "stderr",
     "output_type": "stream",
     "text": [
      "[D 240401 00:23:42 1716370485:35] before: 326 && after: 1 applying filter\n"
     ]
    },
    {
     "name": "stdout",
     "output_type": "stream",
     "text": [
      "END compute_companies 0.08499264717102051\n",
      "END get_companies_id 0.10381627082824707\n",
      "END compute_stocks 11.235664129257202\n"
     ]
    },
    {
     "name": "stderr",
     "output_type": "stream",
     "text": [
      " 42%|████▏     | 5/12 [01:10<01:45, 15.07s/it]"
     ]
    },
    {
     "name": "stdout",
     "output_type": "stream",
     "text": [
      "END compute_daystocks 0.46074700355529785\n",
      "END file_done 0.03270912170410156\n",
      "END read files 1.0824120044708252\n",
      "END concat files 0.27629613876342773\n"
     ]
    },
    {
     "name": "stderr",
     "output_type": "stream",
     "text": [
      "[D 240401 00:23:55 1716370485:35] before: 328 && after: 1 applying filter\n"
     ]
    },
    {
     "name": "stdout",
     "output_type": "stream",
     "text": [
      "END compute_companies 0.0696110725402832\n",
      "END get_companies_id 0.014229059219360352\n",
      "END compute_stocks 8.85843801498413\n"
     ]
    },
    {
     "name": "stderr",
     "output_type": "stream",
     "text": [
      " 50%|█████     | 6/12 [01:21<01:22, 13.75s/it]"
     ]
    },
    {
     "name": "stdout",
     "output_type": "stream",
     "text": [
      "END compute_daystocks 0.4541299343109131\n",
      "END file_done 0.027849197387695312\n",
      "END read files 0.9242079257965088\n",
      "END concat files 0.16917705535888672\n"
     ]
    },
    {
     "name": "stderr",
     "output_type": "stream",
     "text": [
      "[D 240401 00:24:06 1716370485:35] before: 327 && after: 0 applying filter\n"
     ]
    },
    {
     "name": "stdout",
     "output_type": "stream",
     "text": [
      "END compute_companies 0.05903029441833496\n",
      "END get_companies_id 0.08519673347473145\n",
      "END compute_stocks 7.853196144104004\n"
     ]
    },
    {
     "name": "stderr",
     "output_type": "stream",
     "text": [
      " 58%|█████▊    | 7/12 [01:31<01:02, 12.48s/it]"
     ]
    },
    {
     "name": "stdout",
     "output_type": "stream",
     "text": [
      "END compute_daystocks 0.4328439235687256\n",
      "END file_done 0.02634263038635254\n",
      "END read files 1.302880048751831\n",
      "END concat files 0.27645182609558105\n"
     ]
    },
    {
     "name": "stderr",
     "output_type": "stream",
     "text": [
      "[D 240401 00:24:16 1716370485:35] before: 328 && after: 0 applying filter\n"
     ]
    },
    {
     "name": "stdout",
     "output_type": "stream",
     "text": [
      "END compute_companies 0.06716513633728027\n",
      "END get_companies_id 0.01252436637878418\n",
      "END compute_stocks 8.717181205749512\n"
     ]
    },
    {
     "name": "stderr",
     "output_type": "stream",
     "text": [
      " 67%|██████▋   | 8/12 [01:43<00:48, 12.10s/it]"
     ]
    },
    {
     "name": "stdout",
     "output_type": "stream",
     "text": [
      "END compute_daystocks 0.47782182693481445\n",
      "END file_done 0.026951074600219727\n",
      "END read files 3.0286262035369873\n",
      "END concat files 0.2236471176147461\n"
     ]
    },
    {
     "name": "stderr",
     "output_type": "stream",
     "text": [
      "[D 240401 00:24:29 1716370485:35] before: 326 && after: 0 applying filter\n"
     ]
    },
    {
     "name": "stdout",
     "output_type": "stream",
     "text": [
      "END compute_companies 0.07021713256835938\n",
      "END get_companies_id 0.0903470516204834\n",
      "END compute_stocks 10.029282093048096\n"
     ]
    },
    {
     "name": "stderr",
     "output_type": "stream",
     "text": [
      " 75%|███████▌  | 9/12 [01:57<00:38, 12.82s/it]"
     ]
    },
    {
     "name": "stdout",
     "output_type": "stream",
     "text": [
      "END compute_daystocks 0.5307290554046631\n",
      "END file_done 0.03183126449584961\n",
      "END read files 3.7477385997772217\n",
      "END concat files 0.32913994789123535\n"
     ]
    },
    {
     "name": "stderr",
     "output_type": "stream",
     "text": [
      "[D 240401 00:24:45 1716370485:35] before: 326 && after: 0 applying filter\n"
     ]
    },
    {
     "name": "stdout",
     "output_type": "stream",
     "text": [
      "END compute_companies 0.10644817352294922\n",
      "END get_companies_id 0.018204212188720703\n",
      "END compute_stocks 15.673803091049194\n"
     ]
    },
    {
     "name": "stderr",
     "output_type": "stream",
     "text": [
      " 83%|████████▎ | 10/12 [02:18<00:30, 15.33s/it]"
     ]
    },
    {
     "name": "stdout",
     "output_type": "stream",
     "text": [
      "END compute_daystocks 0.49012136459350586\n",
      "END file_done 0.04516172409057617\n",
      "END read files 3.4188570976257324\n",
      "END concat files 0.38951921463012695\n"
     ]
    },
    {
     "name": "stderr",
     "output_type": "stream",
     "text": [
      "[D 240401 00:25:05 1716370485:35] before: 324 && after: 0 applying filter\n"
     ]
    },
    {
     "name": "stdout",
     "output_type": "stream",
     "text": [
      "END compute_companies 0.09930133819580078\n",
      "END get_companies_id 0.013616561889648438\n",
      "END compute_stocks 14.580097913742065\n"
     ]
    },
    {
     "name": "stderr",
     "output_type": "stream",
     "text": [
      " 92%|█████████▏| 11/12 [02:37<00:16, 16.62s/it]"
     ]
    },
    {
     "name": "stdout",
     "output_type": "stream",
     "text": [
      "END compute_daystocks 0.47798705101013184\n",
      "END file_done 0.04422950744628906\n",
      "END read files 3.8489043712615967\n",
      "END concat files 0.407484769821167\n"
     ]
    },
    {
     "name": "stderr",
     "output_type": "stream",
     "text": [
      "[D 240401 00:25:25 1716370485:35] before: 335 && after: 1 applying filter\n"
     ]
    },
    {
     "name": "stdout",
     "output_type": "stream",
     "text": [
      "END compute_companies 0.10690593719482422\n",
      "END get_companies_id 0.015178442001342773\n",
      "END compute_stocks 15.885019779205322\n"
     ]
    },
    {
     "name": "stderr",
     "output_type": "stream",
     "text": [
      "100%|██████████| 12/12 [02:59<00:00, 14.94s/it]\n",
      "[D 240401 00:25:42 2419859425:43] Processing complete for compA data in 2019 in 179.336 seconds.\n",
      "[D 240401 00:25:42 2419859425:33] Loading compB (2019) data for boursorama.\n"
     ]
    },
    {
     "name": "stdout",
     "output_type": "stream",
     "text": [
      "END compute_daystocks 0.5359640121459961\n",
      "END file_done 0.047638893127441406\n"
     ]
    },
    {
     "name": "stderr",
     "output_type": "stream",
     "text": [
      "  0%|          | 0/12 [00:00<?, ?it/s]"
     ]
    },
    {
     "name": "stdout",
     "output_type": "stream",
     "text": [
      "END read files 1.783695936203003\n",
      "END concat files 0.3859407901763916\n"
     ]
    },
    {
     "name": "stderr",
     "output_type": "stream",
     "text": [
      "[D 240401 00:25:45 1716370485:35] before: 283 && after: 0 applying filter\n"
     ]
    },
    {
     "name": "stdout",
     "output_type": "stream",
     "text": [
      "END compute_companies 0.027463674545288086\n",
      "END get_companies_id 0.008274555206298828\n",
      "END compute_stocks 3.5047054290771484\n"
     ]
    },
    {
     "name": "stderr",
     "output_type": "stream",
     "text": [
      "  8%|▊         | 1/12 [00:06<01:10,  6.42s/it]"
     ]
    },
    {
     "name": "stdout",
     "output_type": "stream",
     "text": [
      "END compute_daystocks 0.35223865509033203\n",
      "END file_done 0.04235482215881348\n",
      "END read files 1.0652954578399658\n",
      "END concat files 0.26602768898010254\n"
     ]
    },
    {
     "name": "stderr",
     "output_type": "stream",
     "text": [
      "[D 240401 00:25:50 1716370485:35] before: 286 && after: 1 applying filter\n"
     ]
    },
    {
     "name": "stdout",
     "output_type": "stream",
     "text": [
      "END compute_companies 0.025962114334106445\n",
      "END get_companies_id 0.011629581451416016\n",
      "END compute_stocks 3.156118869781494\n"
     ]
    },
    {
     "name": "stderr",
     "output_type": "stream",
     "text": [
      " 17%|█▋        | 2/12 [00:11<00:56,  5.62s/it]"
     ]
    },
    {
     "name": "stdout",
     "output_type": "stream",
     "text": [
      "END compute_daystocks 0.27480530738830566\n",
      "END file_done 0.029001951217651367\n",
      "END read files 1.2257320880889893\n",
      "END concat files 0.1913449764251709\n"
     ]
    },
    {
     "name": "stderr",
     "output_type": "stream",
     "text": [
      "[D 240401 00:25:55 1716370485:35] before: 285 && after: 0 applying filter\n"
     ]
    },
    {
     "name": "stdout",
     "output_type": "stream",
     "text": [
      "END compute_companies 0.023816823959350586\n",
      "END get_companies_id 0.08716511726379395\n",
      "END compute_stocks 3.2576470375061035\n"
     ]
    },
    {
     "name": "stderr",
     "output_type": "stream",
     "text": [
      " 25%|██▌       | 3/12 [00:16<00:49,  5.54s/it]"
     ]
    },
    {
     "name": "stdout",
     "output_type": "stream",
     "text": [
      "END compute_daystocks 0.3842761516571045\n",
      "END file_done 0.02674722671508789\n",
      "END read files 3.3991293907165527\n",
      "END concat files 0.39009809494018555\n"
     ]
    },
    {
     "name": "stderr",
     "output_type": "stream",
     "text": [
      "[D 240401 00:26:03 1716370485:35] before: 288 && after: 1 applying filter\n"
     ]
    },
    {
     "name": "stdout",
     "output_type": "stream",
     "text": [
      "END compute_companies 0.035841941833496094\n",
      "END get_companies_id 0.010474205017089844\n",
      "END compute_stocks 4.227159738540649\n"
     ]
    },
    {
     "name": "stderr",
     "output_type": "stream",
     "text": [
      " 33%|███▎      | 4/12 [00:25<00:54,  6.81s/it]"
     ]
    },
    {
     "name": "stdout",
     "output_type": "stream",
     "text": [
      "END compute_daystocks 0.2922379970550537\n",
      "END file_done 0.04870271682739258\n",
      "END read files 3.153116226196289\n",
      "END concat files 0.41324949264526367\n"
     ]
    },
    {
     "name": "stderr",
     "output_type": "stream",
     "text": [
      "[D 240401 00:26:12 1716370485:35] before: 285 && after: 0 applying filter\n"
     ]
    },
    {
     "name": "stdout",
     "output_type": "stream",
     "text": [
      "END compute_companies 0.030308246612548828\n",
      "END get_companies_id 0.009076595306396484\n",
      "END compute_stocks 4.031925201416016\n"
     ]
    },
    {
     "name": "stderr",
     "output_type": "stream",
     "text": [
      " 42%|████▏     | 5/12 [00:34<00:51,  7.40s/it]"
     ]
    },
    {
     "name": "stdout",
     "output_type": "stream",
     "text": [
      "END compute_daystocks 0.3787829875946045\n",
      "END file_done 0.04861569404602051\n",
      "END read files 2.9489521980285645\n",
      "END concat files 0.3399801254272461\n"
     ]
    },
    {
     "name": "stderr",
     "output_type": "stream",
     "text": [
      "[D 240401 00:26:20 1716370485:35] before: 284 && after: 1 applying filter\n"
     ]
    },
    {
     "name": "stdout",
     "output_type": "stream",
     "text": [
      "END compute_companies 0.04384970664978027\n",
      "END get_companies_id 0.00995635986328125\n",
      "END compute_stocks 4.918429374694824\n"
     ]
    },
    {
     "name": "stderr",
     "output_type": "stream",
     "text": [
      " 50%|█████     | 6/12 [00:43<00:47,  7.99s/it]"
     ]
    },
    {
     "name": "stdout",
     "output_type": "stream",
     "text": [
      "END compute_daystocks 0.4076519012451172\n",
      "END file_done 0.05149579048156738\n",
      "END read files 2.6453096866607666\n",
      "END concat files 0.474637508392334\n"
     ]
    },
    {
     "name": "stderr",
     "output_type": "stream",
     "text": [
      "[D 240401 00:26:29 1716370485:35] before: 287 && after: 1 applying filter\n"
     ]
    },
    {
     "name": "stdout",
     "output_type": "stream",
     "text": [
      "END compute_companies 0.04128623008728027\n",
      "END get_companies_id 0.010587930679321289\n",
      "END compute_stocks 4.443914890289307\n"
     ]
    },
    {
     "name": "stderr",
     "output_type": "stream",
     "text": [
      " 58%|█████▊    | 7/12 [00:51<00:40,  8.16s/it]"
     ]
    },
    {
     "name": "stdout",
     "output_type": "stream",
     "text": [
      "END compute_daystocks 0.41271305084228516\n",
      "END file_done 0.050804853439331055\n",
      "END read files 3.298389196395874\n",
      "END concat files 0.4028348922729492\n"
     ]
    },
    {
     "name": "stderr",
     "output_type": "stream",
     "text": [
      "[D 240401 00:26:38 1716370485:35] before: 283 && after: 0 applying filter\n"
     ]
    },
    {
     "name": "stdout",
     "output_type": "stream",
     "text": [
      "END compute_companies 0.05012083053588867\n",
      "END get_companies_id 0.012191534042358398\n",
      "END compute_stocks 4.8587048053741455\n"
     ]
    },
    {
     "name": "stderr",
     "output_type": "stream",
     "text": [
      " 67%|██████▋   | 8/12 [01:01<00:34,  8.58s/it]"
     ]
    },
    {
     "name": "stdout",
     "output_type": "stream",
     "text": [
      "END compute_daystocks 0.3103773593902588\n",
      "END file_done 0.049308061599731445\n",
      "END read files 3.3010525703430176\n",
      "END concat files 0.3263857364654541\n"
     ]
    },
    {
     "name": "stderr",
     "output_type": "stream",
     "text": [
      "[D 240401 00:26:47 1716370485:35] before: 281 && after: 0 applying filter\n"
     ]
    },
    {
     "name": "stdout",
     "output_type": "stream",
     "text": [
      "END compute_companies 0.0366368293762207\n",
      "END get_companies_id 0.008497238159179688\n",
      "END compute_stocks 4.244351148605347\n"
     ]
    },
    {
     "name": "stderr",
     "output_type": "stream",
     "text": [
      " 75%|███████▌  | 9/12 [01:09<00:25,  8.62s/it]"
     ]
    },
    {
     "name": "stdout",
     "output_type": "stream",
     "text": [
      "END compute_daystocks 0.39545369148254395\n",
      "END file_done 0.043061256408691406\n",
      "END read files 3.384077548980713\n",
      "END concat files 0.31916093826293945\n"
     ]
    },
    {
     "name": "stderr",
     "output_type": "stream",
     "text": [
      "[D 240401 00:26:56 1716370485:35] before: 281 && after: 0 applying filter\n"
     ]
    },
    {
     "name": "stdout",
     "output_type": "stream",
     "text": [
      "END compute_companies 0.03778982162475586\n",
      "END get_companies_id 0.09957408905029297\n",
      "END compute_stocks 4.871277570724487\n"
     ]
    },
    {
     "name": "stderr",
     "output_type": "stream",
     "text": [
      " 83%|████████▎ | 10/12 [01:19<00:17,  8.90s/it]"
     ]
    },
    {
     "name": "stdout",
     "output_type": "stream",
     "text": [
      "END compute_daystocks 0.30543971061706543\n",
      "END file_done 0.14209580421447754\n",
      "END read files 3.2273356914520264\n",
      "END concat files 0.4136955738067627\n"
     ]
    },
    {
     "name": "stderr",
     "output_type": "stream",
     "text": [
      "[D 240401 00:27:05 1716370485:35] before: 281 && after: 0 applying filter\n"
     ]
    },
    {
     "name": "stdout",
     "output_type": "stream",
     "text": [
      "END compute_companies 0.0333712100982666\n",
      "END get_companies_id 0.008884191513061523\n",
      "END compute_stocks 4.427331447601318\n"
     ]
    },
    {
     "name": "stderr",
     "output_type": "stream",
     "text": [
      " 92%|█████████▏| 11/12 [01:28<00:08,  8.90s/it]"
     ]
    },
    {
     "name": "stdout",
     "output_type": "stream",
     "text": [
      "END compute_daystocks 0.4004173278808594\n",
      "END file_done 0.04664778709411621\n",
      "END read files 3.7371485233306885\n",
      "END concat files 0.3185551166534424\n"
     ]
    },
    {
     "name": "stderr",
     "output_type": "stream",
     "text": [
      "[D 240401 00:27:15 1716370485:35] before: 299 && after: 1 applying filter\n"
     ]
    },
    {
     "name": "stdout",
     "output_type": "stream",
     "text": [
      "END compute_companies 0.04501008987426758\n",
      "END get_companies_id 0.008353233337402344\n",
      "END compute_stocks 4.865925550460815\n"
     ]
    },
    {
     "name": "stderr",
     "output_type": "stream",
     "text": [
      "100%|██████████| 12/12 [01:38<00:00,  8.19s/it]\n",
      "[D 240401 00:27:20 2419859425:43] Processing complete for compB data in 2019 in 98.281 seconds.\n",
      "[D 240401 00:27:20 2419859425:47] Work done on 271325 files, in 5328.774 seconds.\n"
     ]
    },
    {
     "name": "stdout",
     "output_type": "stream",
     "text": [
      "END compute_daystocks 0.41930413246154785\n",
      "END file_done 0.048840999603271484\n"
     ]
    }
   ],
   "source": [
    "# MAIN ARGS\n",
    "files_count = 0\n",
    "data_path = \"../docker/data\"\n",
    "\n",
    "\n",
    "# MAIN PROCESS\n",
    "logger.debug(f\"Work in progress...\")\n",
    "starting_time = time.time()\n",
    "for stock in os.listdir(data_path):\n",
    "    stock_path = f\"{data_path}/{stock}\"\n",
    "\n",
    "    for year in sorted(os.listdir(stock_path), reverse=True):\n",
    "        market_pattern = f\"{data_path}/{stock}/{year}/*\"\n",
    "\n",
    "        available_files = glob(market_pattern)\n",
    "        available_files = sorted(available_files, key=custom_sort_key)\n",
    "\n",
    "        market_files = defaultdict(lambda: defaultdict(list))\n",
    "\n",
    "        # Organize files into separate lists based on the market name\n",
    "        for file_path in available_files:\n",
    "            market_name, date, _ = os.path.basename(file_path[:-4]).split()\n",
    "            month = date.split('-')[1]\n",
    "            market_files[market_name][month].append(file_path)\n",
    "\n",
    "        # Sort days inside\n",
    "        for market_name, month_dict in market_files.items():\n",
    "            for file_list in month_dict.values():\n",
    "                file_list.sort(reverse=True, key=custom_sort_key)\n",
    "\n",
    "        # Work on the data with batches\n",
    "        for market_name, month_dict in sorted(market_files.items()):\n",
    "            logger.debug(f\"Loading {market_name} ({year}) data for {stock}.\")\n",
    "            market_starting_time = time.time()\n",
    "\n",
    "            market_id = get_market_id(market_name)\n",
    "            for month, files_list in tqdm(sorted(month_dict.items(), reverse=True)):\n",
    "                files_count += len(files_list)\n",
    "\n",
    "                store_file(files_list, stock, market_name, market_id)\n",
    "\n",
    "            subprocessing_time = round(time.time() - market_starting_time, 3)\n",
    "            logger.debug(f\"Processing complete for {market_name} data in {year} in\"\n",
    "                         f\" {subprocessing_time} seconds.\")\n",
    "\n",
    "rounded_processing_time = round(time.time() - starting_time, 3)\n",
    "logger.debug(f\"Work done on {files_count} files, in {rounded_processing_time} seconds.\")"
   ]
  },
  {
   "cell_type": "code",
   "execution_count": 7,
   "metadata": {},
   "outputs": [
    {
     "data": {
      "text/plain": [
       "'show_data = [\"low\", \"high\"]\\ndef plot_daystocks(dataframe):\\n    copy = dataframe.copy()\\n    copy.plot(y=show_data, figsize=(10,6), title=f\"Cours de {companie_focus} pour {available_years}\")\\n    plt.xlabel(\"Date\")\\n    plt.ylabel(\"Cours en Euro (€)\")\\n    plt.show()\\n\\nplot_daystocks(result_daystocks)'"
      ]
     },
     "execution_count": 7,
     "metadata": {},
     "output_type": "execute_result"
    }
   ],
   "source": [
    "\"\"\"show_data = [\"low\", \"high\"]\n",
    "def plot_daystocks(dataframe):\n",
    "    copy = dataframe.copy()\n",
    "    copy.plot(y=show_data, figsize=(10,6), title=f\"Cours de {companie_focus} pour {available_years}\")\n",
    "    plt.xlabel(\"Date\")\n",
    "    plt.ylabel(\"Cours en Euro (€)\")\n",
    "    plt.show()\n",
    "\n",
    "plot_daystocks(result_daystocks)\"\"\""
   ]
  }
 ],
 "metadata": {
  "kernelspec": {
   "display_name": "Python 3",
   "language": "python",
   "name": "python3"
  },
  "language_info": {
   "codemirror_mode": {
    "name": "ipython",
    "version": 3
   },
   "file_extension": ".py",
   "mimetype": "text/x-python",
   "name": "python",
   "nbconvert_exporter": "python",
   "pygments_lexer": "ipython3",
   "version": "3.10.12"
  }
 },
 "nbformat": 4,
 "nbformat_minor": 2
}
